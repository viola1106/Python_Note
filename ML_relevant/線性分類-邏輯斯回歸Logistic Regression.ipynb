{
 "cells": [
  {
   "cell_type": "code",
   "execution_count": 1,
   "id": "8267b70b",
   "metadata": {},
   "outputs": [],
   "source": [
    "from sklearn import datasets\n",
    "import pandas as pd\n",
    "import numpy as np\n",
    "import matplotlib.pyplot as plt  # 畫圖用\n",
    "import seaborn as sns  # 畫圖用"
   ]
  },
  {
   "cell_type": "code",
   "execution_count": 2,
   "id": "1a1d80c1",
   "metadata": {},
   "outputs": [],
   "source": [
    "%matplotlib inline"
   ]
  },
  {
   "cell_type": "code",
   "execution_count": 32,
   "id": "842a1671",
   "metadata": {},
   "outputs": [
    {
     "name": "stdout",
     "output_type": "stream",
     "text": [
      "target_names:['setosa' 'versicolor' 'virginica']\n"
     ]
    },
    {
     "data": {
      "text/html": [
       "<div>\n",
       "<style scoped>\n",
       "    .dataframe tbody tr th:only-of-type {\n",
       "        vertical-align: middle;\n",
       "    }\n",
       "\n",
       "    .dataframe tbody tr th {\n",
       "        vertical-align: top;\n",
       "    }\n",
       "\n",
       "    .dataframe thead th {\n",
       "        text-align: right;\n",
       "    }\n",
       "</style>\n",
       "<table border=\"1\" class=\"dataframe\">\n",
       "  <thead>\n",
       "    <tr style=\"text-align: right;\">\n",
       "      <th></th>\n",
       "      <th>sepal length (cm)</th>\n",
       "      <th>petal length (cm)</th>\n",
       "      <th>target</th>\n",
       "    </tr>\n",
       "  </thead>\n",
       "  <tbody>\n",
       "    <tr>\n",
       "      <th>0</th>\n",
       "      <td>5.1</td>\n",
       "      <td>1.4</td>\n",
       "      <td>0</td>\n",
       "    </tr>\n",
       "    <tr>\n",
       "      <th>1</th>\n",
       "      <td>4.9</td>\n",
       "      <td>1.4</td>\n",
       "      <td>0</td>\n",
       "    </tr>\n",
       "    <tr>\n",
       "      <th>2</th>\n",
       "      <td>4.7</td>\n",
       "      <td>1.3</td>\n",
       "      <td>0</td>\n",
       "    </tr>\n",
       "  </tbody>\n",
       "</table>\n",
       "</div>"
      ],
      "text/plain": [
       "   sepal length (cm)  petal length (cm)  target\n",
       "0                5.1                1.4       0\n",
       "1                4.9                1.4       0\n",
       "2                4.7                1.3       0"
      ]
     },
     "execution_count": 32,
     "metadata": {},
     "output_type": "execute_result"
    }
   ],
   "source": [
    "# 匯入iris資料集\n",
    "iris = datasets.load_iris()\n",
    "x = pd.DataFrame(iris['data'], columns = iris['feature_names'])\n",
    "print(\"target_names:\" + str(iris['target_names']))\n",
    "y = pd.DataFrame(iris['target'], columns = ['target'])\n",
    "iris_data = pd.concat([x, y], axis=1)\n",
    "iris_data = iris_data[['sepal length (cm)', 'petal length (cm)', 'target']]\n",
    "iris_data = iris_data[iris_data['target'].isin([0, 1])]\n",
    "iris_data.head(3)"
   ]
  },
  {
   "cell_type": "code",
   "execution_count": 33,
   "id": "c26dc210",
   "metadata": {},
   "outputs": [],
   "source": [
    "# 通常在建立model時會用train_test_split把資料分為七三筆，七是train model剩下的三來看model好不好\n",
    "from sklearn.model_selection import train_test_split"
   ]
  },
  {
   "cell_type": "code",
   "execution_count": 34,
   "id": "904b1a04",
   "metadata": {},
   "outputs": [],
   "source": [
    "# 把資料切割x, y的train, test\n",
    "# 使用的特徵是: 花萼的長度&花瓣長度\n",
    "x_train, x_test, y_train, y_test = train_test_split(\n",
    "    iris_data[['sepal length (cm)', 'petal length (cm)']], iris_data[['target']], test_size=0.3, random_state=0)"
   ]
  },
  {
   "cell_type": "code",
   "execution_count": 35,
   "id": "a04b5d0b",
   "metadata": {},
   "outputs": [
    {
     "name": "stdout",
     "output_type": "stream",
     "text": [
      "x_train筆數:70\n"
     ]
    },
    {
     "data": {
      "text/html": [
       "<div>\n",
       "<style scoped>\n",
       "    .dataframe tbody tr th:only-of-type {\n",
       "        vertical-align: middle;\n",
       "    }\n",
       "\n",
       "    .dataframe tbody tr th {\n",
       "        vertical-align: top;\n",
       "    }\n",
       "\n",
       "    .dataframe thead th {\n",
       "        text-align: right;\n",
       "    }\n",
       "</style>\n",
       "<table border=\"1\" class=\"dataframe\">\n",
       "  <thead>\n",
       "    <tr style=\"text-align: right;\">\n",
       "      <th></th>\n",
       "      <th>sepal length (cm)</th>\n",
       "      <th>petal length (cm)</th>\n",
       "    </tr>\n",
       "  </thead>\n",
       "  <tbody>\n",
       "    <tr>\n",
       "      <th>60</th>\n",
       "      <td>5.0</td>\n",
       "      <td>3.5</td>\n",
       "    </tr>\n",
       "    <tr>\n",
       "      <th>80</th>\n",
       "      <td>5.5</td>\n",
       "      <td>3.8</td>\n",
       "    </tr>\n",
       "    <tr>\n",
       "      <th>90</th>\n",
       "      <td>5.5</td>\n",
       "      <td>4.4</td>\n",
       "    </tr>\n",
       "    <tr>\n",
       "      <th>68</th>\n",
       "      <td>6.2</td>\n",
       "      <td>4.5</td>\n",
       "    </tr>\n",
       "    <tr>\n",
       "      <th>51</th>\n",
       "      <td>6.4</td>\n",
       "      <td>4.5</td>\n",
       "    </tr>\n",
       "    <tr>\n",
       "      <th>...</th>\n",
       "      <td>...</td>\n",
       "      <td>...</td>\n",
       "    </tr>\n",
       "    <tr>\n",
       "      <th>96</th>\n",
       "      <td>5.7</td>\n",
       "      <td>4.2</td>\n",
       "    </tr>\n",
       "    <tr>\n",
       "      <th>67</th>\n",
       "      <td>5.8</td>\n",
       "      <td>4.1</td>\n",
       "    </tr>\n",
       "    <tr>\n",
       "      <th>64</th>\n",
       "      <td>5.6</td>\n",
       "      <td>3.6</td>\n",
       "    </tr>\n",
       "    <tr>\n",
       "      <th>47</th>\n",
       "      <td>4.6</td>\n",
       "      <td>1.4</td>\n",
       "    </tr>\n",
       "    <tr>\n",
       "      <th>44</th>\n",
       "      <td>5.1</td>\n",
       "      <td>1.9</td>\n",
       "    </tr>\n",
       "  </tbody>\n",
       "</table>\n",
       "<p>70 rows × 2 columns</p>\n",
       "</div>"
      ],
      "text/plain": [
       "    sepal length (cm)  petal length (cm)\n",
       "60                5.0                3.5\n",
       "80                5.5                3.8\n",
       "90                5.5                4.4\n",
       "68                6.2                4.5\n",
       "51                6.4                4.5\n",
       "..                ...                ...\n",
       "96                5.7                4.2\n",
       "67                5.8                4.1\n",
       "64                5.6                3.6\n",
       "47                4.6                1.4\n",
       "44                5.1                1.9\n",
       "\n",
       "[70 rows x 2 columns]"
      ]
     },
     "execution_count": 35,
     "metadata": {},
     "output_type": "execute_result"
    }
   ],
   "source": [
    "# random_state=0:隨機找資料做training，可以看到x_train的index是隨機的\n",
    "print(\"x_train筆數:\" + str(len(x_train)))\n",
    "x_train"
   ]
  },
  {
   "cell_type": "code",
   "execution_count": 36,
   "id": "c1e552a7",
   "metadata": {},
   "outputs": [
    {
     "name": "stdout",
     "output_type": "stream",
     "text": [
      "x_test筆數:30\n"
     ]
    },
    {
     "data": {
      "text/html": [
       "<div>\n",
       "<style scoped>\n",
       "    .dataframe tbody tr th:only-of-type {\n",
       "        vertical-align: middle;\n",
       "    }\n",
       "\n",
       "    .dataframe tbody tr th {\n",
       "        vertical-align: top;\n",
       "    }\n",
       "\n",
       "    .dataframe thead th {\n",
       "        text-align: right;\n",
       "    }\n",
       "</style>\n",
       "<table border=\"1\" class=\"dataframe\">\n",
       "  <thead>\n",
       "    <tr style=\"text-align: right;\">\n",
       "      <th></th>\n",
       "      <th>sepal length (cm)</th>\n",
       "      <th>petal length (cm)</th>\n",
       "    </tr>\n",
       "  </thead>\n",
       "  <tbody>\n",
       "    <tr>\n",
       "      <th>26</th>\n",
       "      <td>5.0</td>\n",
       "      <td>1.6</td>\n",
       "    </tr>\n",
       "    <tr>\n",
       "      <th>86</th>\n",
       "      <td>6.7</td>\n",
       "      <td>4.7</td>\n",
       "    </tr>\n",
       "    <tr>\n",
       "      <th>2</th>\n",
       "      <td>4.7</td>\n",
       "      <td>1.3</td>\n",
       "    </tr>\n",
       "    <tr>\n",
       "      <th>55</th>\n",
       "      <td>5.7</td>\n",
       "      <td>4.5</td>\n",
       "    </tr>\n",
       "    <tr>\n",
       "      <th>75</th>\n",
       "      <td>6.6</td>\n",
       "      <td>4.4</td>\n",
       "    </tr>\n",
       "    <tr>\n",
       "      <th>93</th>\n",
       "      <td>5.0</td>\n",
       "      <td>3.3</td>\n",
       "    </tr>\n",
       "    <tr>\n",
       "      <th>16</th>\n",
       "      <td>5.4</td>\n",
       "      <td>1.3</td>\n",
       "    </tr>\n",
       "    <tr>\n",
       "      <th>73</th>\n",
       "      <td>6.1</td>\n",
       "      <td>4.7</td>\n",
       "    </tr>\n",
       "    <tr>\n",
       "      <th>54</th>\n",
       "      <td>6.5</td>\n",
       "      <td>4.6</td>\n",
       "    </tr>\n",
       "    <tr>\n",
       "      <th>95</th>\n",
       "      <td>5.7</td>\n",
       "      <td>4.2</td>\n",
       "    </tr>\n",
       "    <tr>\n",
       "      <th>53</th>\n",
       "      <td>5.5</td>\n",
       "      <td>4.0</td>\n",
       "    </tr>\n",
       "    <tr>\n",
       "      <th>92</th>\n",
       "      <td>5.8</td>\n",
       "      <td>4.0</td>\n",
       "    </tr>\n",
       "    <tr>\n",
       "      <th>78</th>\n",
       "      <td>6.0</td>\n",
       "      <td>4.5</td>\n",
       "    </tr>\n",
       "    <tr>\n",
       "      <th>13</th>\n",
       "      <td>4.3</td>\n",
       "      <td>1.1</td>\n",
       "    </tr>\n",
       "    <tr>\n",
       "      <th>7</th>\n",
       "      <td>5.0</td>\n",
       "      <td>1.5</td>\n",
       "    </tr>\n",
       "    <tr>\n",
       "      <th>30</th>\n",
       "      <td>4.8</td>\n",
       "      <td>1.6</td>\n",
       "    </tr>\n",
       "    <tr>\n",
       "      <th>22</th>\n",
       "      <td>4.6</td>\n",
       "      <td>1.0</td>\n",
       "    </tr>\n",
       "    <tr>\n",
       "      <th>24</th>\n",
       "      <td>4.8</td>\n",
       "      <td>1.9</td>\n",
       "    </tr>\n",
       "    <tr>\n",
       "      <th>33</th>\n",
       "      <td>5.5</td>\n",
       "      <td>1.4</td>\n",
       "    </tr>\n",
       "    <tr>\n",
       "      <th>8</th>\n",
       "      <td>4.4</td>\n",
       "      <td>1.4</td>\n",
       "    </tr>\n",
       "    <tr>\n",
       "      <th>43</th>\n",
       "      <td>5.0</td>\n",
       "      <td>1.6</td>\n",
       "    </tr>\n",
       "    <tr>\n",
       "      <th>62</th>\n",
       "      <td>6.0</td>\n",
       "      <td>4.0</td>\n",
       "    </tr>\n",
       "    <tr>\n",
       "      <th>3</th>\n",
       "      <td>4.6</td>\n",
       "      <td>1.5</td>\n",
       "    </tr>\n",
       "    <tr>\n",
       "      <th>71</th>\n",
       "      <td>6.1</td>\n",
       "      <td>4.0</td>\n",
       "    </tr>\n",
       "    <tr>\n",
       "      <th>45</th>\n",
       "      <td>4.8</td>\n",
       "      <td>1.4</td>\n",
       "    </tr>\n",
       "    <tr>\n",
       "      <th>48</th>\n",
       "      <td>5.3</td>\n",
       "      <td>1.5</td>\n",
       "    </tr>\n",
       "    <tr>\n",
       "      <th>6</th>\n",
       "      <td>4.6</td>\n",
       "      <td>1.4</td>\n",
       "    </tr>\n",
       "    <tr>\n",
       "      <th>99</th>\n",
       "      <td>5.7</td>\n",
       "      <td>4.1</td>\n",
       "    </tr>\n",
       "    <tr>\n",
       "      <th>82</th>\n",
       "      <td>5.8</td>\n",
       "      <td>3.9</td>\n",
       "    </tr>\n",
       "    <tr>\n",
       "      <th>76</th>\n",
       "      <td>6.8</td>\n",
       "      <td>4.8</td>\n",
       "    </tr>\n",
       "  </tbody>\n",
       "</table>\n",
       "</div>"
      ],
      "text/plain": [
       "    sepal length (cm)  petal length (cm)\n",
       "26                5.0                1.6\n",
       "86                6.7                4.7\n",
       "2                 4.7                1.3\n",
       "55                5.7                4.5\n",
       "75                6.6                4.4\n",
       "93                5.0                3.3\n",
       "16                5.4                1.3\n",
       "73                6.1                4.7\n",
       "54                6.5                4.6\n",
       "95                5.7                4.2\n",
       "53                5.5                4.0\n",
       "92                5.8                4.0\n",
       "78                6.0                4.5\n",
       "13                4.3                1.1\n",
       "7                 5.0                1.5\n",
       "30                4.8                1.6\n",
       "22                4.6                1.0\n",
       "24                4.8                1.9\n",
       "33                5.5                1.4\n",
       "8                 4.4                1.4\n",
       "43                5.0                1.6\n",
       "62                6.0                4.0\n",
       "3                 4.6                1.5\n",
       "71                6.1                4.0\n",
       "45                4.8                1.4\n",
       "48                5.3                1.5\n",
       "6                 4.6                1.4\n",
       "99                5.7                4.1\n",
       "82                5.8                3.9\n",
       "76                6.8                4.8"
      ]
     },
     "execution_count": 36,
     "metadata": {},
     "output_type": "execute_result"
    }
   ],
   "source": [
    "# 前面70%筆資料做train，剩下的30%可以看這個model的正確率是多少，可以知道未來的預測正確率大概會是多少\n",
    "print(\"x_test筆數:\" + str(len(x_test)))\n",
    "x_test"
   ]
  },
  {
   "cell_type": "code",
   "execution_count": 37,
   "id": "de01c0b9",
   "metadata": {},
   "outputs": [],
   "source": [
    "\"\"\"\n",
    "在做Logistic Regression的時候要打特徵範圍(sacle)縮小到一樣的範圍，可以都縮小0~1之間，\n",
    "或是用StandardScaler，把資料標準化\n",
    "\"\"\"\n",
    "\n",
    "# 資料標準畫:值減掉平均，除上標準差\n",
    "from sklearn.preprocessing import StandardScaler\n",
    "\n",
    "sc = StandardScaler()\n",
    "sc.fit(x_train)\n",
    "x_train_std = sc.transform(x_train)\n",
    "x_test_std = sc.transform(x_test)"
   ]
  },
  {
   "cell_type": "code",
   "execution_count": 38,
   "id": "1976ca1d",
   "metadata": {},
   "outputs": [
    {
     "data": {
      "text/plain": [
       "array([[-0.80800774,  0.43666598],\n",
       "       [ 0.01648995,  0.64460217],\n",
       "       [ 0.01648995,  1.06047453],\n",
       "       [ 1.17078673,  1.12978659],\n",
       "       [ 1.50058581,  1.12978659],\n",
       "       [-0.47820866, -0.94957523],\n",
       "       [ 0.34628903, -0.81095111],\n",
       "       [ 1.33568627,  1.26841071],\n",
       "       [ 1.00588719,  1.26841071],\n",
       "       [ 1.50058581,  0.99116247],\n",
       "       [-0.97290728, -1.01888729],\n",
       "       [ 0.67608811,  0.92185041],\n",
       "       [-1.79740498, -1.08819936],\n",
       "       [-1.63250544, -1.08819936],\n",
       "       [-0.80800774, -1.01888729],\n",
       "       [ 0.34628903, -0.94957523],\n",
       "       [-0.6431082 , -1.01888729],\n",
       "       [-0.80800774, -1.08819936],\n",
       "       [-1.79740498, -1.08819936],\n",
       "       [-0.14840959, -0.81095111],\n",
       "       [ 1.00588719,  1.19909865],\n",
       "       [-0.47820866,  0.71391423],\n",
       "       [-0.6431082 , -1.01888729],\n",
       "       [-0.97290728, -0.94957523],\n",
       "       [-0.47820866, -1.01888729],\n",
       "       [ 2.48998304,  1.26841071],\n",
       "       [-1.13780682, -0.88026317],\n",
       "       [-0.80800774, -1.15751142],\n",
       "       [-0.6431082 , -0.81095111],\n",
       "       [ 2.3250835 ,  1.40703483],\n",
       "       [-0.14840959, -0.94957523],\n",
       "       [-0.14840959, -0.94957523],\n",
       "       [ 0.18138949,  1.12978659],\n",
       "       [-0.97290728,  0.29804186],\n",
       "       [ 0.34628903,  0.43666598],\n",
       "       [ 0.84098765,  1.12978659],\n",
       "       [-0.47820866, -0.94957523],\n",
       "       [-0.14840959,  1.12978659],\n",
       "       [ 0.51118857, -1.15751142],\n",
       "       [ 0.01648995,  0.78322629],\n",
       "       [-0.6431082 , -0.94957523],\n",
       "       [-1.30270636, -0.88026317],\n",
       "       [-0.80800774, -1.01888729],\n",
       "       [ 1.17078673,  0.99116247],\n",
       "       [-0.6431082 ,  0.09010568],\n",
       "       [ 0.18138949,  0.71391423],\n",
       "       [-0.14840959, -0.81095111],\n",
       "       [ 0.18138949,  0.92185041],\n",
       "       [ 1.33568627,  1.40703483],\n",
       "       [ 1.99528442,  1.4763469 ],\n",
       "       [-0.80800774, -0.88026317],\n",
       "       [-0.97290728, -1.01888729],\n",
       "       [ 0.01648995,  0.5752901 ],\n",
       "       [-0.6431082 , -0.88026317],\n",
       "       [-0.6431082 , -0.94957523],\n",
       "       [ 1.99528442,  1.06047453],\n",
       "       [ 1.83038488,  1.19909865],\n",
       "       [-1.13780682, -1.01888729],\n",
       "       [ 0.18138949,  0.85253835],\n",
       "       [ 0.67608811,  1.33772277],\n",
       "       [ 1.33568627,  1.06047453],\n",
       "       [ 0.01648995, -1.08819936],\n",
       "       [-0.6431082 , -0.94957523],\n",
       "       [ 0.84098765,  1.54565896],\n",
       "       [-0.97290728, -0.94957523],\n",
       "       [ 0.34628903,  0.92185041],\n",
       "       [ 0.51118857,  0.85253835],\n",
       "       [ 0.18138949,  0.50597804],\n",
       "       [-1.4676059 , -1.01888729],\n",
       "       [-0.6431082 , -0.67232699]])"
      ]
     },
     "execution_count": 38,
     "metadata": {},
     "output_type": "execute_result"
    }
   ],
   "source": [
    "x_train_std"
   ]
  },
  {
   "cell_type": "code",
   "execution_count": 39,
   "id": "1c9ceff7",
   "metadata": {},
   "outputs": [],
   "source": [
    "# 接著用LaTex寫Sigmoid(Logistic) function\n",
    "from IPython.display import Math"
   ]
  },
  {
   "cell_type": "code",
   "execution_count": 40,
   "id": "33160e0f",
   "metadata": {},
   "outputs": [
    {
     "data": {
      "text/latex": [
       "$\\displaystyle z=w^Tx$"
      ],
      "text/plain": [
       "<IPython.core.display.Math object>"
      ]
     },
     "execution_count": 40,
     "metadata": {},
     "output_type": "execute_result"
    }
   ],
   "source": [
    "Math(r'z=w^Tx')"
   ]
  },
  {
   "cell_type": "code",
   "execution_count": 41,
   "id": "4adf2784",
   "metadata": {},
   "outputs": [
    {
     "data": {
      "text/latex": [
       "$\\displaystyle \\phi{(z)}=\\cfrac{1}{1+e^{-z}}$"
      ],
      "text/plain": [
       "<IPython.core.display.Math object>"
      ]
     },
     "execution_count": 41,
     "metadata": {},
     "output_type": "execute_result"
    }
   ],
   "source": [
    "Math(r'\\phi{(z)}=\\cfrac{1}{1+e^{-z}}')"
   ]
  },
  {
   "cell_type": "code",
   "execution_count": 42,
   "id": "4159273f",
   "metadata": {},
   "outputs": [
    {
     "data": {
      "image/png": "[encoded data removed]",
      "text/plain": [
       "<Figure size 432x288 with 1 Axes>"
      ]
     },
     "metadata": {
      "needs_background": "light"
     },
     "output_type": "display_data"
    }
   ],
   "source": [
    "# sigmoid函式圖型\n",
    "\n",
    "def sigmoid(z):\n",
    "    return 1.0 / (1.0 + np.exp(-z))\n",
    "\n",
    "z = np.arange(-7, 7, 0.1)\n",
    "phi_z = sigmoid(z)\n",
    "\n",
    "plt.plot(z, phi_z)\n",
    "plt.axvline(0.0, color = 'k')\n",
    "plt.ylim(-0.1, 1.1)\n",
    "plt.xlabel('z')\n",
    "plt.ylabel('$\\phi (z)$')\n",
    "\n",
    "# \n",
    "plt.yticks([0.0, 0.5, 1.0])\n",
    "ax = plt.gca()\n",
    "ax.yaxis.grid(True)\n",
    "\n",
    "plt.tight_layout()"
   ]
  },
  {
   "cell_type": "code",
   "execution_count": 43,
   "id": "1e8e9048",
   "metadata": {},
   "outputs": [],
   "source": [
    "# 引入Logistic Regression\n",
    "from sklearn.linear_model import LogisticRegression"
   ]
  },
  {
   "cell_type": "code",
   "execution_count": 44,
   "id": "32e30c79",
   "metadata": {},
   "outputs": [
    {
     "data": {
      "text/plain": [
       "array([1, 1, 1, 1, 1, 0, 0, 1, 1, 1, 0, 1, 0, 0, 0, 0, 0, 0, 0, 0, 1, 1,\n",
       "       0, 0, 0, 1, 0, 0, 0, 1, 0, 0, 1, 1, 1, 1, 0, 1, 0, 1, 0, 0, 0, 1,\n",
       "       1, 1, 0, 1, 1, 1, 0, 0, 1, 0, 0, 1, 1, 0, 1, 1, 1, 0, 0, 1, 0, 1,\n",
       "       1, 1, 0, 0])"
      ]
     },
     "execution_count": 44,
     "metadata": {},
     "output_type": "execute_result"
    }
   ],
   "source": [
    "y_train['target'].values"
   ]
  },
  {
   "cell_type": "code",
   "execution_count": 45,
   "id": "88ee2b2b",
   "metadata": {},
   "outputs": [
    {
     "data": {
      "text/html": [
       "<div>\n",
       "<style scoped>\n",
       "    .dataframe tbody tr th:only-of-type {\n",
       "        vertical-align: middle;\n",
       "    }\n",
       "\n",
       "    .dataframe tbody tr th {\n",
       "        vertical-align: top;\n",
       "    }\n",
       "\n",
       "    .dataframe thead th {\n",
       "        text-align: right;\n",
       "    }\n",
       "</style>\n",
       "<table border=\"1\" class=\"dataframe\">\n",
       "  <thead>\n",
       "    <tr style=\"text-align: right;\">\n",
       "      <th></th>\n",
       "      <th>target</th>\n",
       "    </tr>\n",
       "  </thead>\n",
       "  <tbody>\n",
       "    <tr>\n",
       "      <th>60</th>\n",
       "      <td>1</td>\n",
       "    </tr>\n",
       "    <tr>\n",
       "      <th>80</th>\n",
       "      <td>1</td>\n",
       "    </tr>\n",
       "    <tr>\n",
       "      <th>90</th>\n",
       "      <td>1</td>\n",
       "    </tr>\n",
       "    <tr>\n",
       "      <th>68</th>\n",
       "      <td>1</td>\n",
       "    </tr>\n",
       "    <tr>\n",
       "      <th>51</th>\n",
       "      <td>1</td>\n",
       "    </tr>\n",
       "    <tr>\n",
       "      <th>...</th>\n",
       "      <td>...</td>\n",
       "    </tr>\n",
       "    <tr>\n",
       "      <th>96</th>\n",
       "      <td>1</td>\n",
       "    </tr>\n",
       "    <tr>\n",
       "      <th>67</th>\n",
       "      <td>1</td>\n",
       "    </tr>\n",
       "    <tr>\n",
       "      <th>64</th>\n",
       "      <td>1</td>\n",
       "    </tr>\n",
       "    <tr>\n",
       "      <th>47</th>\n",
       "      <td>0</td>\n",
       "    </tr>\n",
       "    <tr>\n",
       "      <th>44</th>\n",
       "      <td>0</td>\n",
       "    </tr>\n",
       "  </tbody>\n",
       "</table>\n",
       "<p>70 rows × 1 columns</p>\n",
       "</div>"
      ],
      "text/plain": [
       "    target\n",
       "60       1\n",
       "80       1\n",
       "90       1\n",
       "68       1\n",
       "51       1\n",
       "..     ...\n",
       "96       1\n",
       "67       1\n",
       "64       1\n",
       "47       0\n",
       "44       0\n",
       "\n",
       "[70 rows x 1 columns]"
      ]
     },
     "execution_count": 45,
     "metadata": {},
     "output_type": "execute_result"
    }
   ],
   "source": [
    "y_train"
   ]
  },
  {
   "cell_type": "code",
   "execution_count": 46,
   "id": "48a0975a",
   "metadata": {
    "scrolled": true
   },
   "outputs": [
    {
     "data": {
      "text/plain": [
       "LogisticRegression()"
      ]
     },
     "execution_count": 46,
     "metadata": {},
     "output_type": "execute_result"
    }
   ],
   "source": [
    "# 做LogisticRegression的時候基本不用設定參數\n",
    "lr = LogisticRegression()\n",
    "lr.fit(x_train_std, y_train['target'].values)"
   ]
  },
  {
   "cell_type": "code",
   "execution_count": 47,
   "id": "aabab151",
   "metadata": {},
   "outputs": [
    {
     "data": {
      "text/plain": [
       "array([0, 1, 0, 1, 1, 1, 0, 1, 1, 1, 1, 1, 1, 0, 0, 0, 0, 0, 0, 0, 0, 1,\n",
       "       0, 1, 0, 0, 0, 1, 1, 1])"
      ]
     },
     "execution_count": 47,
     "metadata": {},
     "output_type": "execute_result"
    }
   ],
   "source": [
    "# 看預測: .predict()\n",
    "lr.predict(x_test_std)  # 放標準化後的資料"
   ]
  },
  {
   "cell_type": "code",
   "execution_count": 48,
   "id": "d9b42ff2",
   "metadata": {},
   "outputs": [
    {
     "data": {
      "text/plain": [
       "array([0, 1, 0, 1, 1, 1, 0, 1, 1, 1, 1, 1, 1, 0, 0, 0, 0, 0, 0, 0, 0, 1,\n",
       "       0, 1, 0, 0, 0, 1, 1, 1])"
      ]
     },
     "execution_count": 48,
     "metadata": {},
     "output_type": "execute_result"
    }
   ],
   "source": [
    "# 拿來檢驗的資料\n",
    "y_test['target'].values"
   ]
  },
  {
   "cell_type": "code",
   "execution_count": 49,
   "id": "fa58f91c",
   "metadata": {},
   "outputs": [
    {
     "name": "stdout",
     "output_type": "stream",
     "text": [
      "error: 0\n"
     ]
    }
   ],
   "source": [
    "# 寫一個迴圈檢測預測率如何\n",
    "error = 0\n",
    "\n",
    "# i是enumerate的index, v是enumerate的value (enumerate回傳的是list的(index,value))\n",
    "for i, v in enumerate(lr.predict(x_test_std)):\n",
    "    if v != y_test['target'].values[i]:\n",
    "        error += 1\n",
    "print(\"error:\", error)"
   ]
  },
  {
   "cell_type": "markdown",
   "id": "e8079a1e",
   "metadata": {},
   "source": [
    "看到預測結果error=0沒有不一樣，所以test_data和預測正確率是很好的幾乎100%"
   ]
  },
  {
   "cell_type": "code",
   "execution_count": 50,
   "id": "0e434ff4",
   "metadata": {},
   "outputs": [
    {
     "data": {
      "text/plain": [
       "array([[0.93606171, 0.06393829],\n",
       "       [0.00497007, 0.99502993],\n",
       "       [0.97297313, 0.02702687],\n",
       "       [0.01892083, 0.98107917],\n",
       "       [0.01007719, 0.98992281],\n",
       "       [0.30602173, 0.69397827],\n",
       "       [0.94913163, 0.05086837],\n",
       "       [0.0086973 , 0.9913027 ],\n",
       "       [0.00735109, 0.99264891],\n",
       "       [0.03454645, 0.96545355],\n",
       "       [0.06120019, 0.93879981],\n",
       "       [0.04688146, 0.95311854],\n",
       "       [0.01434288, 0.98565712],\n",
       "       [0.9875209 , 0.0124791 ],\n",
       "       [0.94733967, 0.05266033],\n",
       "       [0.94642148, 0.05357852],\n",
       "       [0.98655365, 0.01344635],\n",
       "       [0.90494712, 0.09505288],\n",
       "       [0.93254052, 0.06745948],\n",
       "       [0.97489243, 0.02510757],\n",
       "       [0.93606171, 0.06393829],\n",
       "       [0.03916972, 0.96083028],\n",
       "       [0.96322075, 0.03677925],\n",
       "       [0.03578511, 0.96421489],\n",
       "       [0.96386204, 0.03613796],\n",
       "       [0.93138299, 0.06861701],\n",
       "       [0.96986241, 0.03013759],\n",
       "       [0.04211754, 0.95788246],\n",
       "       [0.05699625, 0.94300375],\n",
       "       [0.00368696, 0.99631304]])"
      ]
     },
     "execution_count": 50,
     "metadata": {},
     "output_type": "execute_result"
    }
   ],
   "source": [
    "# 如果要看實際的機率的話，要用predict_proba()，看實際預測成A類的機率是多少\n",
    "lr.predict_proba(x_test_std)"
   ]
  },
  {
   "cell_type": "markdown",
   "id": "fb630224",
   "metadata": {},
   "source": [
    "可以看到第0筆資料[0.93606171, 0.06393829]:預測成0的機率是0.936，預測成1的機率是0.06，所以是0   \n",
    "第1筆資料[0.00497007, 0.99502993]:預測成0的機率是0.004，預測成1的機率是0.995，所以是1   \n",
    "跟y_test['target'].values結果一樣"
   ]
  },
  {
   "cell_type": "markdown",
   "id": "db73cf24",
   "metadata": {},
   "source": [
    "### 視覺化圖型"
   ]
  },
  {
   "cell_type": "code",
   "execution_count": null,
   "id": "da158cb1",
   "metadata": {},
   "outputs": [],
   "source": [
    "# train完的model用視覺化的方式看結果\n",
    "# Python機器學習書上的方法:plot_decision_regions()\n",
    "\n",
    "from matplotlib.colors import ListedColormap\n",
    "\n",
    "def plot_decision_regions():\n",
    "    \n",
    "\n"
   ]
  },
  {
   "cell_type": "code",
   "execution_count": null,
   "id": "f5e92d57",
   "metadata": {},
   "outputs": [],
   "source": [
    "plot_decision_regions(x_train_std, y_train['target'], classifier=lr)\n",
    "plt.xlabel('sepal length Standardized')\n",
    "plt.ylabel('petal length Standardized')"
   ]
  }
 ],
 "metadata": {
  "kernelspec": {
   "display_name": "Python 3 (ipykernel)",
   "language": "python",
   "name": "python3"
  },
  "language_info": {
   "codemirror_mode": {
    "name": "ipython",
    "version": 3
   },
   "file_extension": ".py",
   "mimetype": "text/x-python",
   "name": "python",
   "nbconvert_exporter": "python",
   "pygments_lexer": "ipython3",
   "version": "3.9.7"
  }
 },
 "nbformat": 4,
 "nbformat_minor": 5
}
