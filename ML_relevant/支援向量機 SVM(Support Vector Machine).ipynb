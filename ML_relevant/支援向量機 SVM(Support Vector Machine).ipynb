{
 "cells": [
  {
   "cell_type": "code",
   "execution_count": 1,
   "id": "281a281a",
   "metadata": {},
   "outputs": [],
   "source": [
    "from sklearn import datasets\n",
    "import pandas as pd\n",
    "import numpy as np\n",
    "import matplotlib.pyplot as plt\n",
    "import seaborn as sns"
   ]
  },
  {
   "cell_type": "code",
   "execution_count": 2,
   "id": "4ac538ee",
   "metadata": {},
   "outputs": [],
   "source": [
    "%matplotlib inline"
   ]
  },
  {
   "cell_type": "code",
   "execution_count": 5,
   "id": "17f18e13",
   "metadata": {},
   "outputs": [
    {
     "name": "stdout",
     "output_type": "stream",
     "text": [
      "target_names:['setosa' 'versicolor' 'virginica']\n"
     ]
    },
    {
     "data": {
      "text/html": [
       "<div>\n",
       "<style scoped>\n",
       "    .dataframe tbody tr th:only-of-type {\n",
       "        vertical-align: middle;\n",
       "    }\n",
       "\n",
       "    .dataframe tbody tr th {\n",
       "        vertical-align: top;\n",
       "    }\n",
       "\n",
       "    .dataframe thead th {\n",
       "        text-align: right;\n",
       "    }\n",
       "</style>\n",
       "<table border=\"1\" class=\"dataframe\">\n",
       "  <thead>\n",
       "    <tr style=\"text-align: right;\">\n",
       "      <th></th>\n",
       "      <th>sepal length (cm)</th>\n",
       "      <th>petal length (cm)</th>\n",
       "      <th>target</th>\n",
       "    </tr>\n",
       "  </thead>\n",
       "  <tbody>\n",
       "    <tr>\n",
       "      <th>0</th>\n",
       "      <td>5.1</td>\n",
       "      <td>1.4</td>\n",
       "      <td>0</td>\n",
       "    </tr>\n",
       "    <tr>\n",
       "      <th>1</th>\n",
       "      <td>4.9</td>\n",
       "      <td>1.4</td>\n",
       "      <td>0</td>\n",
       "    </tr>\n",
       "    <tr>\n",
       "      <th>2</th>\n",
       "      <td>4.7</td>\n",
       "      <td>1.3</td>\n",
       "      <td>0</td>\n",
       "    </tr>\n",
       "  </tbody>\n",
       "</table>\n",
       "</div>"
      ],
      "text/plain": [
       "   sepal length (cm)  petal length (cm)  target\n",
       "0                5.1                1.4       0\n",
       "1                4.9                1.4       0\n",
       "2                4.7                1.3       0"
      ]
     },
     "execution_count": 5,
     "metadata": {},
     "output_type": "execute_result"
    }
   ],
   "source": [
    "# 載入資料\n",
    "iris = datasets.load_iris()\n",
    "x = pd.DataFrame(iris['data'], columns = iris['feature_names'])\n",
    "print(\"target_names:\" + str(iris['target_names']))\n",
    "y = pd.DataFrame(iris['target'], columns = ['target'])\n",
    "iris_data = pd.concat([x, y], axis=1)\n",
    "iris_data = iris_data[['sepal length (cm)', 'petal length (cm)', 'target']]  # 只留需要的columns\n",
    "iris_data = iris_data[iris_data['target'].isin([0, 1])]  # 篩選類別是0,1的資料\n",
    "iris_data.head(3)"
   ]
  },
  {
   "cell_type": "code",
   "execution_count": 6,
   "id": "34cf9e0b",
   "metadata": {},
   "outputs": [],
   "source": [
    "# train&test資料\n",
    "from sklearn.model_selection import train_test_split"
   ]
  },
  {
   "cell_type": "code",
   "execution_count": 9,
   "id": "74446e15",
   "metadata": {},
   "outputs": [],
   "source": [
    "x_train, x_test, y_train, y_test = train_test_split(\n",
    "    iris_data[['sepal length (cm)', 'petal length (cm)']], iris_data[['target']], test_size = 0.3, random_state = 0)"
   ]
  },
  {
   "cell_type": "code",
   "execution_count": 11,
   "id": "352b5631",
   "metadata": {},
   "outputs": [],
   "source": [
    "# 資料集做標準化\n",
    "from sklearn.preprocessing import StandardScaler\n",
    "\n",
    "sc = StandardScaler()\n",
    "sc.fit(x_train)\n",
    "x_train_std = sc.transform(x_train)\n",
    "x_test_std = sc.transform(x_test)"
   ]
  },
  {
   "cell_type": "code",
   "execution_count": 13,
   "id": "02f73260",
   "metadata": {},
   "outputs": [],
   "source": [
    "# 引入SVM\n",
    "from sklearn.svm import SVC\n",
    "# 使用svc，是SVM的kernel(核)，不是用python而是C來做運算，因為速度比較快"
   ]
  },
  {
   "cell_type": "code",
   "execution_count": 15,
   "id": "76551891",
   "metadata": {},
   "outputs": [],
   "source": [
    "# 先指定kernel=linear線性分類，因為SVM可以在平面做曲線\n",
    "# 如果想要知道分類成哪一類的機率的話加上probability=True\n",
    "svm = SVC(kernel = 'linear', probability = True)"
   ]
  },
  {
   "cell_type": "code",
   "execution_count": 16,
   "id": "619485ae",
   "metadata": {},
   "outputs": [
    {
     "data": {
      "text/plain": [
       "SVC(kernel='linear', probability=True)"
      ]
     },
     "execution_count": 16,
     "metadata": {},
     "output_type": "execute_result"
    }
   ],
   "source": [
    "# 使用fit來train model\n",
    "svm.fit(x_train_std, y_train['target'].valueues)"
   ]
  },
  {
   "cell_type": "code",
   "execution_count": 17,
   "id": "97bd6a72",
   "metadata": {},
   "outputs": [
    {
     "data": {
      "text/plain": [
       "array([0, 1, 0, 1, 1, 1, 0, 1, 1, 1, 1, 1, 1, 0, 0, 0, 0, 0, 0, 0, 0, 1,\n",
       "       0, 1, 0, 0, 0, 1, 1, 1])"
      ]
     },
     "execution_count": 17,
     "metadata": {},
     "output_type": "execute_result"
    }
   ],
   "source": [
    "# 預測的值\n",
    "svm.predict(x_test_std)"
   ]
  },
  {
   "cell_type": "code",
   "execution_count": 18,
   "id": "d4ec3c6c",
   "metadata": {},
   "outputs": [
    {
     "data": {
      "text/plain": [
       "array([0, 1, 0, 1, 1, 1, 0, 1, 1, 1, 1, 1, 1, 0, 0, 0, 0, 0, 0, 0, 0, 1,\n",
       "       0, 1, 0, 0, 0, 1, 1, 1])"
      ]
     },
     "execution_count": 18,
     "metadata": {},
     "output_type": "execute_result"
    }
   ],
   "source": [
    "# 實際上的值\n",
    "y_test['target'].values"
   ]
  },
  {
   "cell_type": "code",
   "execution_count": 19,
   "id": "d6a77ca3",
   "metadata": {},
   "outputs": [
    {
     "name": "stdout",
     "output_type": "stream",
     "text": [
      "error:0\n"
     ]
    }
   ],
   "source": [
    "# check預計值與實際值有無差異\n",
    "error = 0\n",
    "for i, v in enumerate(svm.predict(x_test_std)):\n",
    "    if v != y_test['target'].values[i]:\n",
    "        error += 1\n",
    "print(\"error:\" + str(error))"
   ]
  },
  {
   "cell_type": "markdown",
   "id": "172bb293",
   "metadata": {},
   "source": [
    "error等於0，所有的預測都正確"
   ]
  },
  {
   "cell_type": "code",
   "execution_count": 20,
   "id": "bde98bbf",
   "metadata": {},
   "outputs": [
    {
     "data": {
      "text/plain": [
       "array([[0.9500494 , 0.0499506 ],\n",
       "       [0.00766008, 0.99233992],\n",
       "       [0.9739689 , 0.0260311 ],\n",
       "       [0.00660894, 0.99339106],\n",
       "       [0.01700423, 0.98299577],\n",
       "       [0.11851503, 0.88148497],\n",
       "       [0.98441528, 0.01558472],\n",
       "       [0.0049398 , 0.9950602 ],\n",
       "       [0.00885689, 0.99114311],\n",
       "       [0.01579397, 0.98420603],\n",
       "       [0.02430465, 0.97569535],\n",
       "       [0.03012165, 0.96987835],\n",
       "       [0.00822769, 0.99177231],\n",
       "       [0.98054903, 0.01945097],\n",
       "       [0.9625743 , 0.0374257 ],\n",
       "       [0.94233996, 0.05766004],\n",
       "       [0.98835626, 0.01164374],\n",
       "       [0.87626275, 0.12373725],\n",
       "       [0.98059304, 0.01940696],\n",
       "       [0.95670044, 0.04329956],\n",
       "       [0.9500494 , 0.0499506 ],\n",
       "       [0.03472622, 0.96527378],\n",
       "       [0.95001236, 0.04998764],\n",
       "       [0.0372759 , 0.9627241 ],\n",
       "       [0.96761939, 0.03238061],\n",
       "       [0.96991933, 0.03008067],\n",
       "       [0.96254628, 0.03745372],\n",
       "       [0.02106632, 0.97893368],\n",
       "       [0.03997577, 0.96002423],\n",
       "       [0.00615694, 0.99384306]])"
      ]
     },
     "execution_count": 20,
     "metadata": {},
     "output_type": "execute_result"
    }
   ],
   "source": [
    "# 看預測出來的機率是多少\n",
    "svm.predict_proba(x_test_std)"
   ]
  },
  {
   "cell_type": "markdown",
   "id": "76c4a93e",
   "metadata": {},
   "source": [
    "第0筆資料:[0.9500494 , 0.0499506 ]，預測成類別0的機率是0.95所以判斷為類別0   \n",
    "第1筆資料:[0.00766008, 0.99233992]，預測成類別0的機率是0.007，所以預測為類別1的機率是1-0.007，判斷為類別1"
   ]
  },
  {
   "cell_type": "markdown",
   "id": "a9a23927",
   "metadata": {},
   "source": [
    "### 視覺化"
   ]
  },
  {
   "cell_type": "code",
   "execution_count": null,
   "id": "8c2f8300",
   "metadata": {},
   "outputs": [],
   "source": [
    "from matplotlib.colors import ListedColormap"
   ]
  }
 ],
 "metadata": {
  "kernelspec": {
   "display_name": "Python 3 (ipykernel)",
   "language": "python",
   "name": "python3"
  },
  "language_info": {
   "codemirror_mode": {
    "name": "ipython",
    "version": 3
   },
   "file_extension": ".py",
   "mimetype": "text/x-python",
   "name": "python",
   "nbconvert_exporter": "python",
   "pygments_lexer": "ipython3",
   "version": "3.9.7"
  }
 },
 "nbformat": 4,
 "nbformat_minor": 5
}
