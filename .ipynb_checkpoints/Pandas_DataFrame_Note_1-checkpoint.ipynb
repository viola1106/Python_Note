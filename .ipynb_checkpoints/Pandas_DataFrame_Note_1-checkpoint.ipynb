{
 "cells": [
  {
   "cell_type": "code",
   "execution_count": 2,
   "id": "8a6d2157",
   "metadata": {},
   "outputs": [],
   "source": [
    "import pandas as pd"
   ]
  },
  {
   "cell_type": "code",
   "execution_count": 3,
   "id": "bb592730",
   "metadata": {},
   "outputs": [
    {
     "name": "stdout",
     "output_type": "stream",
     "text": [
      "    name  eng  math\n",
      "0   Adam   44    77\n",
      "1  Brain   55    88\n",
      "2  Cerci   66    99\n"
     ]
    }
   ],
   "source": [
    "\"\"\"可以用dict做出pandas雙維度的DataFrame\n",
    "dict的\"KEY\"就是pandas的第二個維度的索引名稱\"\"\"\n",
    "point = {\n",
    "    \"name\":[\"Adam\", \"Brain\", \"Cerci\"],\n",
    "    \"eng\":[44, 55, 66],\n",
    "    \"math\":[77, 88, 99]\n",
    "}\n",
    "df = pd.DataFrame(point)\n",
    "print(df)"
   ]
  },
  {
   "cell_type": "code",
   "execution_count": 4,
   "id": "633eead8",
   "metadata": {},
   "outputs": [
    {
     "name": "stdout",
     "output_type": "stream",
     "text": [
      "      0   1   2\n",
      "0   Ado  38  48\n",
      "1  Rock  67  77\n",
      "2  Mick  23  93\n",
      "3   Pet  56  44\n"
     ]
    }
   ],
   "source": [
    "\"\"\"也可以用list做出pandas雙維度的DatFrame\n",
    "會帶入內建的索引名:0,1,2,3,...\"\"\"\n",
    "point_2 = [\n",
    "    [\"Ado\",38,48],\n",
    "    [\"Rock\",67,77],\n",
    "    [\"Mick\",23,93],\n",
    "    [\"Pet\",56,44]\n",
    "]\n",
    "df_2 = pd.DataFrame(point_2)\n",
    "print(df_2)"
   ]
  },
  {
   "cell_type": "code",
   "execution_count": 18,
   "id": "fe5ad2e9",
   "metadata": {},
   "outputs": [
    {
     "name": "stdout",
     "output_type": "stream",
     "text": [
      "     students  ENG_point  MATH_point\n",
      "No.1      Ado         38          48\n",
      "No.2     Rock         67          77\n",
      "No.3     Mick         23          93\n",
      "No.4      Pet         56          44\n"
     ]
    }
   ],
   "source": [
    "# 修改\"列\"的索引名稱\n",
    "df_2.index = [\"No.1\", \"No.2\", \"No.3\", \"No.4\"]\n",
    "# 修改\"欄\"的索引名稱，是columns，有s\n",
    "df_2.columns = [\"students\", \"ENG_point\", \"MATH_point\"]\n",
    "print(df_2)"
   ]
  },
  {
   "cell_type": "code",
   "execution_count": 19,
   "id": "7c0cfc37",
   "metadata": {},
   "outputs": [
    {
     "name": "stdout",
     "output_type": "stream",
     "text": [
      "       0   1   2\n",
      "s1   Ado  38  48\n",
      "s2  Rock  67  77\n",
      "s3  Mick  23  93\n",
      "s4   Pet  56  44\n"
     ]
    }
   ],
   "source": [
    "# 在list的情況下可以建立索引\n",
    "new_df = pd.DataFrame(point_2, index = [\"s1\", \"s2\", \"s3\", \"s4\"])\n",
    "print(new_df)"
   ]
  },
  {
   "cell_type": "code",
   "execution_count": 20,
   "id": "5dea6539",
   "metadata": {},
   "outputs": [
    {
     "name": "stdout",
     "output_type": "stream",
     "text": [
      "       0   1   2\n",
      "s1   Ado  38  48\n",
      "s2  Rock  67  77\n",
      "------------\n",
      "       0   1   2\n",
      "s3  Mick  23  93\n",
      "s4   Pet  56  44\n"
     ]
    }
   ],
   "source": [
    "# 從\"頭\"算起2筆資料\n",
    "print(new_df.head(2))\n",
    "\n",
    "print(\"------------\")\n",
    "# 從\"尾\"算起2筆資料\n",
    "print(new_df.tail(2))"
   ]
  },
  {
   "cell_type": "code",
   "execution_count": 21,
   "id": "34368973",
   "metadata": {},
   "outputs": [
    {
     "name": "stdout",
     "output_type": "stream",
     "text": [
      "     students\n",
      "No.1     Adam\n",
      "No.2    Brain\n",
      "No.3    Cerci\n",
      "     students  MATH_point\n",
      "No.1     Adam          77\n",
      "No.2    Brain          88\n",
      "No.3    Cerci          99\n"
     ]
    }
   ],
   "source": [
    "# 注意!!雙維度在呼叫內容時用[[]]，兩個[]\n",
    "print(df[[\"students\"]])\n",
    "print(df[[\"students\", \"MATH_point\"]])"
   ]
  },
  {
   "cell_type": "code",
   "execution_count": 22,
   "id": "062201e3",
   "metadata": {},
   "outputs": [
    {
     "name": "stdout",
     "output_type": "stream",
     "text": [
      "       0   1   2\n",
      "s1   Ado  38  48\n",
      "s2  Rock  67  77\n",
      "s3  Mick  23  93\n"
     ]
    }
   ],
   "source": [
    "# 取第0~3筆資料可用0:3表示\n",
    "print(new_df[0:3])"
   ]
  },
  {
   "cell_type": "code",
   "execution_count": 23,
   "id": "1ccb9994",
   "metadata": {},
   "outputs": [
    {
     "name": "stdout",
     "output_type": "stream",
     "text": [
      ".iat[key,columns]:new_df.iat[1,0]= Rock\n",
      ".at[key:key]:new_df.at['s1',0]= Ado\n"
     ]
    }
   ],
   "source": [
    "# 取得索引值寫法:.iat[key:columns] / .at[key:\"key\"]\n",
    "# 注意索引名稱，如果已經編輯過了就要用新的名稱\n",
    "print(\".iat[key,columns]:new_df.iat[1,0]=\", new_df.iat[1,0])\n",
    "print(\".at[key:key]:new_df.at['s1',0]=\", new_df.at[\"s1\", 0])"
   ]
  },
  {
   "cell_type": "code",
   "execution_count": 24,
   "id": "4cc34617",
   "metadata": {},
   "outputs": [
    {
     "name": "stdout",
     "output_type": "stream",
     "text": [
      "    CHN_point     0   1   2\n",
      "s1         56   Ado  38  48\n",
      "s2         36  Rock  67  77\n",
      "s3         66  Mick  23  93\n",
      "s4         78   Pet  56  44\n"
     ]
    }
   ],
   "source": [
    "# 增加欄位資料:.insert(第幾欄位,欄位索引名稱=\"\",值=[)\n",
    "new_df.insert(0, column = \"CHN_point\", value = [56, 36, 66, 78])\n",
    "print(new_df)"
   ]
  },
  {
   "cell_type": "code",
   "execution_count": 37,
   "id": "869c9010",
   "metadata": {},
   "outputs": [
    {
     "name": "stdout",
     "output_type": "stream",
     "text": [
      "原本的df\n",
      "     students  ENG_point  MATH_point\n",
      "No.1     Adam         44          77\n",
      "No.2    Brain         55          88\n",
      "No.3    Cerci         66          99\n",
      "append資料後\n",
      "  students  ENG_point  MATH_point\n",
      "0     Adam         44          77\n",
      "1    Brain         55          88\n",
      "2    Cerci         66          99\n",
      "3     Newt         80          90\n"
     ]
    }
   ],
   "source": [
    "print(\"原本的df\")\n",
    "print(df)\n",
    "# append資料\n",
    "new_df = df.append({\n",
    "    \"students\":\"Newt\",\n",
    "    \"ENG_point\":80,\n",
    "    \"MATH_point\":90\n",
    "}, ignore_index=True) \n",
    "# 如果已經修改索引名稱的話一定要加ignore_index=True，索引標籤就會從內建的0開始\n",
    "print(\"append資料後\")\n",
    "print(new_df)"
   ]
  },
  {
   "cell_type": "code",
   "execution_count": 42,
   "id": "d14ace97",
   "metadata": {},
   "outputs": [
    {
     "name": "stdout",
     "output_type": "stream",
     "text": [
      "  students  ENG_point  MATH_point\n",
      "0     Adam         44          77\n",
      "1    Brain         55          88\n",
      "2    Cerci         66          99\n",
      "3     Newt         80          90\n",
      "4   George         62          88\n",
      "5    Hanks         33          40\n",
      "如果索引名稱沒有統一就會變成下面第一個結果\n",
      "  students  ENG_point  MATH_point    stud  ENG_p  MATH_p\n",
      "0     Adam       44.0        77.0     NaN    NaN     NaN\n",
      "1    Brain       55.0        88.0     NaN    NaN     NaN\n",
      "2    Cerci       66.0        99.0     NaN    NaN     NaN\n",
      "3     Newt       80.0        90.0     NaN    NaN     NaN\n",
      "4      NaN        NaN         NaN  George   62.0    88.0\n",
      "5      NaN        NaN         NaN   Hanks   33.0    40.0\n"
     ]
    }
   ],
   "source": [
    "# concat合併\n",
    "df1 = pd.DataFrame({\n",
    "    \"stud\":[\"George\", \"Hanks\"],\n",
    "    \"ENG_p\":[62, 33],\n",
    "    \"MATH_p\":[88,40]\n",
    "})\n",
    "df2 = pd.DataFrame({\n",
    "    \"students\":[\"George\", \"Hanks\"],\n",
    "    \"ENG_point\":[62, 33],\n",
    "    \"MATH_point\":[88,40]\n",
    "})\n",
    "new_df2 = pd.concat([new_df, df2], ignore_index=True)\n",
    "print(new_df2)\n",
    "new_df1 = pd.concat([new_df, df1], ignore_index=True)  # 這邊注意，如果一直重複執行，就會一直增加\n",
    "print(\"如果索引名稱沒有統一就會變成下面第一個結果\")\n",
    "print(new_df1)  \n"
   ]
  },
  {
   "cell_type": "code",
   "execution_count": 43,
   "id": "cd9c4966",
   "metadata": {},
   "outputs": [
    {
     "name": "stdout",
     "output_type": "stream",
     "text": [
      "  students  ENG_point  MATH_point\n",
      "0     Adam       44.0        77.0\n",
      "1    Brain       55.0        88.0\n",
      "2    Cerci       66.0        99.0\n",
      "3     Newt       80.0        90.0\n",
      "4   George       62.0        88.0\n",
      "5     Will       33.0        40.0\n",
      "6     Zack        NaN         NaN\n"
     ]
    }
   ],
   "source": [
    "# 修改內容:.at[列索引,欄位索引名稱]，如果沒有該列就會自動增加，其值為NaN\n",
    "new_df2.at[5,\"students\"] = \"Will\"\n",
    "new_df2.at[6,\"students\"] = \"Zack\"\n",
    "print(new_df2)"
   ]
  },
  {
   "cell_type": "code",
   "execution_count": 54,
   "id": "b9d30b7f",
   "metadata": {},
   "outputs": [
    {
     "name": "stdout",
     "output_type": "stream",
     "text": [
      "原本的df   students  ENG_point  MATH_point\n",
      "0     Adam       44.0        77.0\n",
      "1    Brain       55.0        88.0\n",
      "2    Cerci       66.0        99.0\n",
      "3     Newt       80.0        90.0\n",
      "4   George       62.0        88.0\n",
      "5     Will       33.0        40.0\n",
      "6     Zack        NaN         NaN\n",
      "axis=1   students  ENG_point\n",
      "0     Adam       44.0\n",
      "1    Brain       55.0\n",
      "2    Cerci       66.0\n",
      "3     Newt       80.0\n",
      "4   George       62.0\n",
      "5     Will       33.0\n",
      "6     Zack        NaN\n",
      "----------------------------------\n",
      "原本的df      students  ENG_point  MATH_point\n",
      "No.1     Adam         44          77\n",
      "No.2    Brain         55          88\n",
      "No.3    Cerci         66          99\n",
      "axis=0      students  ENG_point  MATH_point\n",
      "No.1     Adam         44          77\n",
      "No.2    Brain         55          88\n"
     ]
    }
   ],
   "source": [
    "# 刪除:.drop([\"欄位索引名稱\"], axis=1)\n",
    "# 注意!! axis=1 表示\"橫的\"  axis=0 表示\"直的\"\n",
    "drop_df = new_df2.drop([\"MATH_point\"], axis=1)\n",
    "print(\"原本的df\", new_df2)\n",
    "print(\"axis=1\", drop_df)\n",
    "print(\"----------------------------------\")\n",
    "print(\"原本的df\", df)\n",
    "drop_df2 = df.drop([\"No.3\"], axis=0)\n",
    "print(\"axis=0\",drop_df2)"
   ]
  },
  {
   "cell_type": "code",
   "execution_count": null,
   "id": "0b5bc85d",
   "metadata": {},
   "outputs": [],
   "source": []
  }
 ],
 "metadata": {
  "kernelspec": {
   "display_name": "Python 3 (ipykernel)",
   "language": "python",
   "name": "python3"
  },
  "language_info": {
   "codemirror_mode": {
    "name": "ipython",
    "version": 3
   },
   "file_extension": ".py",
   "mimetype": "text/x-python",
   "name": "python",
   "nbconvert_exporter": "python",
   "pygments_lexer": "ipython3",
   "version": "3.9.7"
  }
 },
 "nbformat": 4,
 "nbformat_minor": 5
}
