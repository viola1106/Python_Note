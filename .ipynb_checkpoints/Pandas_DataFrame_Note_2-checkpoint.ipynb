{
 "cells": [
  {
   "cell_type": "code",
   "execution_count": 27,
   "id": "e8797c7e",
   "metadata": {},
   "outputs": [
    {
     "name": "stdout",
     "output_type": "stream",
     "text": [
      "df:     name  eng  math\n",
      "0   Adam   44    56\n",
      "1  Brain   55    78\n",
      "2  Cerci   66    89\n",
      "df_2:    name  eng  math\n",
      "0   Ado   38    48\n",
      "1  Rock   67    77\n",
      "2  Mick   23    55\n",
      "3   Tom   67    88\n"
     ]
    }
   ],
   "source": [
    "import pandas as pd\n",
    "\n",
    "# 先創立兩個table\n",
    "point = {\n",
    "    \"name\":[\"Adam\", \"Brain\", \"Cerci\"],\n",
    "    \"eng\":[44, 55, 66],\n",
    "    \"math\":[56, 78, 89]\n",
    "}\n",
    "df = pd.DataFrame(point)\n",
    "print(\"df:\",df)\n",
    "point_2 = [\n",
    "    [\"Ado\", 38, 48],\n",
    "    [\"Rock\", 67, 77],\n",
    "    [\"Mick\", 23, 55],\n",
    "    [\"Tom\", 67, 88]\n",
    "]\n",
    "df_2 = pd.DataFrame(point_2, columns = [\"name\", \"eng\", \"math\"])\n",
    "print(\"df_2:\", df_2)\n"
   ]
  },
  {
   "cell_type": "code",
   "execution_count": 30,
   "id": "ada3cf78",
   "metadata": {},
   "outputs": [
    {
     "name": "stdout",
     "output_type": "stream",
     "text": [
      "    name  eng  math\n",
      "0   Adam   44    56\n",
      "1  Brain   55    78\n",
      "2  Cerci   66    89\n",
      "0    Ado   38    48\n",
      "1   Rock   67    77\n",
      "2   Mick   23    55\n",
      "3    Tom   67    88\n",
      "    name  eng  math\n",
      "0   Adam   44    56\n",
      "1  Brain   55    78\n",
      "2  Cerci   66    89\n",
      "3    Ado   38    48\n",
      "4   Rock   67    77\n",
      "5   Mick   23    55\n",
      "6    Tom   67    88\n"
     ]
    }
   ],
   "source": [
    "# 合併concat如果沒有輸入ignore_index，列索引就位亂掉:如下\n",
    "new_df = pd.concat([df, df_2])\n",
    "print(new_df)\n",
    "\n",
    "# table合併:concat用法:合併後用ignore_index=True，列索引才會一起合併\n",
    "new_df = pd.concat([df, df_2], ignore_index=True)\n",
    "print(new_df)"
   ]
  },
  {
   "cell_type": "code",
   "execution_count": 31,
   "id": "08e951b8",
   "metadata": {},
   "outputs": [
    {
     "name": "stdout",
     "output_type": "stream",
     "text": [
      "    name  eng  math\n",
      "0   Adam   44    56\n",
      "1   None   55    78\n",
      "2  Cerci   66    89\n",
      "3    Ado   38    48\n",
      "4   Rock   67    77\n",
      "5   Mick   23    55\n",
      "6    Tom   67    88\n"
     ]
    }
   ],
   "source": [
    "# 給指定欄位附值None : .at[列位索引, \"欄位索引名稱\"]\n",
    "new_df.at[1, \"name\"] = None\n",
    "print(new_df)  # 在name欄的第1列內容變成Non"
   ]
  },
  {
   "cell_type": "code",
   "execution_count": 33,
   "id": "0a41ab10",
   "metadata": {},
   "outputs": [
    {
     "name": "stdout",
     "output_type": "stream",
     "text": [
      "    name  eng  math\n",
      "0   Adam   44    56\n",
      "2  Cerci   66    89\n",
      "3    Ado   38    48\n",
      "4   Rock   67    77\n",
      "5   Mick   23    55\n",
      "6    Tom   67    88\n",
      ".reset_index(drop=True)用法\n",
      "    name  eng  math\n",
      "0   Adam   44    56\n",
      "1  Cerci   66    89\n",
      "2    Ado   38    48\n",
      "3   Rock   67    77\n",
      "4   Mick   23    55\n",
      "5    Tom   67    88\n"
     ]
    }
   ],
   "source": [
    "# 第1列的內容變成None之後，可以用dropna將空值(Nona或NaN)刪除\n",
    "new_df = new_df.dropna()\n",
    "print(new_df)  \n",
    "# 可以看到第1列的None整列被刪除了，但列位索引也同時被刪除了\n",
    "\n",
    "print(\".reset_index(drop=True)用法\")\n",
    "# 在dropna()後面加上.reset_index(drop=True)，就可以回復原本順序的列位索引\n",
    "new_df = new_df.dropna().reset_index(drop=True)\n",
    "print(new_df) "
   ]
  },
  {
   "cell_type": "code",
   "execution_count": 46,
   "id": "f7de02f7",
   "metadata": {},
   "outputs": [
    {
     "name": "stdout",
     "output_type": "stream",
     "text": [
      ".at .iat用法\n",
      "原本的     name  eng  math\n",
      "0   Adam   44    56\n",
      "1  Cerci   66    89\n",
      "2    Ado   38    48\n",
      "3   Rock   44    77\n",
      "4   Adam   23    55\n",
      "5    Tom   67    88\n",
      "    name  eng  math\n",
      "0   Adam   44    56\n",
      "1  Cerci   66    89\n",
      "2    Ado   38    48\n",
      "3   Rock   44    77\n",
      "4   Adam   44    55\n",
      "5    Tom   67    88\n"
     ]
    }
   ],
   "source": [
    "# .at .iat的用法:.at[列位索引, \"欄位索引名稱\"], \n",
    "# .iat[列位索引,欄位索引]\n",
    "\n",
    "print(\".at .iat用法\")\n",
    "print(\"原本的\", new_df)\n",
    "new_df.at[4, \"name\"] = \"Adam\"\n",
    "new_df.iat[4, 1] = 44\n",
    "print(new_df)"
   ]
  },
  {
   "cell_type": "code",
   "execution_count": 48,
   "id": "1de00fa8",
   "metadata": {},
   "outputs": [
    {
     "name": "stdout",
     "output_type": "stream",
     "text": [
      "原本的\n",
      "     name  eng  math\n",
      "0   Adam   44    56\n",
      "1  Cerci   66    89\n",
      "2    Ado   38    48\n",
      "3   Rock   44    77\n",
      "4   Adam   44    55\n",
      "5    Tom   67    88\n",
      "名字相同但分數不同的資料\n",
      "     name  eng  math\n",
      "0   Adam   44    56\n",
      "1  Cerci   66    89\n",
      "2    Ado   38    48\n",
      "3   Rock   44    77\n",
      "4   Adam   44    55\n",
      "5    Tom   67    88\n",
      "刪除重複資料並調整列位索引\n",
      "     name  eng  math\n",
      "0   Adam   44    56\n",
      "1  Cerci   66    89\n",
      "2    Ado   38    48\n",
      "3   Rock   44    77\n",
      "4    Tom   67    88\n"
     ]
    }
   ],
   "source": [
    "# 現在有重複的資料: name:Adam，要刪除重複的資料用,drop_duplicates()\n",
    "# 可以在()內加入ignore_index=True，調整索引順序\n",
    "# 如果該筆資料只要出現一個是不相同的就不會刪除\n",
    "print(\"原本的\\n\", new_df )\n",
    "new_df = new_df.drop_duplicates(ignore_index=True)\n",
    "print(\"名字相同但分數不同的資料\\n\", new_df)\n",
    "# 調整成完全相同的兩筆資料後進行刪除\n",
    "new_df.iat[4, 2] = 56\n",
    "new_df = new_df.drop_duplicates(ignore_index=True)\n",
    "print(\"刪除重複資料並調整列位索引\\n\", new_df)\n",
    "# 可以看到原本第4列的Adam被刪除了，並且調整了列位索引"
   ]
  },
  {
   "cell_type": "code",
   "execution_count": 50,
   "id": "c4b4d59b",
   "metadata": {},
   "outputs": [
    {
     "name": "stdout",
     "output_type": "stream",
     "text": [
      "現在的資料:\n",
      "     name  eng  math\n",
      "0   Adam   44    56\n",
      "1  Cerci   66    89\n",
      "2    Ado   38    48\n",
      "3   Rock   44    77\n",
      "4    Tom   67    88\n",
      "比大小eng > 60\n",
      "    name  eng  math\n",
      "1  Cerci   66    89\n",
      "4    Tom   67    88\n",
      "比大小math > 60\n",
      "    name  eng  math\n",
      "1  Cerci   66    89\n",
      "3   Rock   44    77\n",
      "4    Tom   67    88\n"
     ]
    }
   ],
   "source": [
    "# Table內的值比大小\n",
    "print(\"現在的資料:\\n\", new_df)\n",
    "print(\"比大小eng > 60\")\n",
    "print(new_df[new_df[\"eng\"] > 60])\n",
    "print(\"比大小math > 60\")\n",
    "print(new_df[new_df[\"math\"] > 60])"
   ]
  },
  {
   "cell_type": "code",
   "execution_count": 53,
   "id": "3fbd57e1",
   "metadata": {},
   "outputs": [
    {
     "name": "stdout",
     "output_type": "stream",
     "text": [
      "現在的資料\n",
      "     name  eng  math\n",
      "0   Adam   44    56\n",
      "1  Cerci   66    89\n",
      "2    Ado   38    48\n",
      "3   Rock   44    77\n",
      "4    Tom   67    88\n",
      "篩選出Adam Cerci: 欄位名稱.isin()\n",
      "    name  eng  math\n",
      "0   Adam   44    56\n",
      "1  Cerci   66    89\n",
      "篩選出英文66, 44\n",
      "    name  eng  math\n",
      "0   Adam   44    56\n",
      "1  Cerci   66    89\n",
      "3   Rock   44    77\n"
     ]
    }
   ],
   "source": [
    "# 篩選條件:欄位名稱.isin()\n",
    "print(\"現在的資料\\n\", new_df)\n",
    "print(\"篩選出Adam Cerci: 欄位名稱.isin()\")\n",
    "print(new_df[new_df[\"name\"].isin([\"Adam\", \"Cerci\"])])\n",
    "print(\"篩選出英文66, 44\")\n",
    "print(new_df[new_df[\"eng\"].isin([66, 44])])"
   ]
  },
  {
   "cell_type": "code",
   "execution_count": 56,
   "id": "46a18295",
   "metadata": {},
   "outputs": [
    {
     "name": "stdout",
     "output_type": "stream",
     "text": [
      "現在的資料\n",
      "     name  eng  math\n",
      "0   Adam   44    56\n",
      "1  Cerci   66    89\n",
      "2    Ado   38    48\n",
      "3   Rock   44    77\n",
      "4    Tom   67    88\n",
      "遞減排序:ascending=Fales/0\n",
      "    name  eng  math\n",
      "4    Tom   67    88\n",
      "3   Rock   44    77\n",
      "2    Ado   38    48\n",
      "1  Cerci   66    89\n",
      "0   Adam   44    56\n",
      "遞增排序:ascending=True/1\n",
      "    name  eng  math\n",
      "0   Adam   44    56\n",
      "1  Cerci   66    89\n",
      "2    Ado   38    48\n",
      "3   Rock   44    77\n",
      "4    Tom   67    88\n"
     ]
    }
   ],
   "source": [
    "# 排序:sort_index(ascending=True or False)\n",
    "# 如果index是字母，也會按照字母順序排\n",
    "print(\"現在的資料\\n\", new_df)\n",
    "\n",
    "print(\"遞減排序:ascending=Fales/0\")\n",
    "print(new_df.sort_index(ascending=False))\n",
    "print(\"遞增排序:ascending=True/1\")\n",
    "print(new_df.sort_index(ascending=True))"
   ]
  },
  {
   "cell_type": "code",
   "execution_count": 64,
   "id": "e9df81d1",
   "metadata": {},
   "outputs": [
    {
     "name": "stdout",
     "output_type": "stream",
     "text": [
      "df_2:\n",
      "       0   1   2\n",
      "0   Ado  38  48\n",
      "1  Rock  67  77\n",
      "2  Mick  23  55\n",
      "3   Tom  67  88\n",
      "axis=1，'每一列裡面索引欄1內容'都刪掉\n",
      "程式: df_2.drop([1], axis=1)\n",
      "      0   2\n",
      "0   Ado  48\n",
      "1  Rock  77\n",
      "2  Mick  55\n",
      "3   Tom  88\n",
      "\n",
      "axis=0，'每一欄裡面索引1的列內容'都刪掉\n",
      "程式: df_2.drop([1], axis=0)  \n",
      "      0   1   2\n",
      "0   Ado  38  48\n",
      "2  Mick  23  55\n",
      "3   Tom  67  88\n"
     ]
    }
   ],
   "source": [
    "# 補充axis用法\n",
    "point_2 = [\n",
    "    [\"Ado\", 38, 48],\n",
    "    [\"Rock\", 67, 77],\n",
    "    [\"Mick\", 23, 55],\n",
    "    [\"Tom\", 67, 88]\n",
    "]\n",
    "df_2 = pd.DataFrame(point_2)\n",
    "print(\"df_2:\\n\", df_2)\n",
    "\n",
    "print(\"axis=1，'每一列裡面索引欄1內容'都刪掉\")         \n",
    "new_df=df_2.drop([1], axis=1)   #1是橫的\n",
    "print(\"程式: df_2.drop([1], axis=1)\")\n",
    "print(new_df)  \n",
    "print(\"\")\n",
    "print(\"axis=0，'每一欄裡面索引1的列內容'都刪掉\")   \n",
    "print(\"程式: df_2.drop([1], axis=0)  \")\n",
    "new_df=df_2.drop([1], axis=0)   #0是直的\n",
    "print(new_df) "
   ]
  },
  {
   "cell_type": "code",
   "execution_count": null,
   "id": "491e8815",
   "metadata": {},
   "outputs": [],
   "source": []
  }
 ],
 "metadata": {
  "kernelspec": {
   "display_name": "Python 3 (ipykernel)",
   "language": "python",
   "name": "python3"
  },
  "language_info": {
   "codemirror_mode": {
    "name": "ipython",
    "version": 3
   },
   "file_extension": ".py",
   "mimetype": "text/x-python",
   "name": "python",
   "nbconvert_exporter": "python",
   "pygments_lexer": "ipython3",
   "version": "3.9.7"
  }
 },
 "nbformat": 4,
 "nbformat_minor": 5
}
