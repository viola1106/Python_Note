{
 "cells": [
  {
   "cell_type": "code",
   "execution_count": 1,
   "id": "3392f2ea",
   "metadata": {},
   "outputs": [],
   "source": [
    "from sklearn import datasets\n",
    "import pandas as pd\n",
    "import numpy as np"
   ]
  },
  {
   "cell_type": "code",
   "execution_count": 2,
   "id": "4bf018c7",
   "metadata": {},
   "outputs": [
    {
     "name": "stdout",
     "output_type": "stream",
     "text": [
      "target_names:['setosa' 'versicolor' 'virginica']\n"
     ]
    },
    {
     "data": {
      "text/html": [
       "<div>\n",
       "<style scoped>\n",
       "    .dataframe tbody tr th:only-of-type {\n",
       "        vertical-align: middle;\n",
       "    }\n",
       "\n",
       "    .dataframe tbody tr th {\n",
       "        vertical-align: top;\n",
       "    }\n",
       "\n",
       "    .dataframe thead th {\n",
       "        text-align: right;\n",
       "    }\n",
       "</style>\n",
       "<table border=\"1\" class=\"dataframe\">\n",
       "  <thead>\n",
       "    <tr style=\"text-align: right;\">\n",
       "      <th></th>\n",
       "      <th>sepal length (cm)</th>\n",
       "      <th>sepal width (cm)</th>\n",
       "      <th>petal length (cm)</th>\n",
       "      <th>petal width (cm)</th>\n",
       "      <th>target</th>\n",
       "    </tr>\n",
       "  </thead>\n",
       "  <tbody>\n",
       "    <tr>\n",
       "      <th>0</th>\n",
       "      <td>5.1</td>\n",
       "      <td>3.5</td>\n",
       "      <td>1.4</td>\n",
       "      <td>0.2</td>\n",
       "      <td>0</td>\n",
       "    </tr>\n",
       "    <tr>\n",
       "      <th>1</th>\n",
       "      <td>4.9</td>\n",
       "      <td>3.0</td>\n",
       "      <td>1.4</td>\n",
       "      <td>0.2</td>\n",
       "      <td>0</td>\n",
       "    </tr>\n",
       "    <tr>\n",
       "      <th>2</th>\n",
       "      <td>4.7</td>\n",
       "      <td>3.2</td>\n",
       "      <td>1.3</td>\n",
       "      <td>0.2</td>\n",
       "      <td>0</td>\n",
       "    </tr>\n",
       "  </tbody>\n",
       "</table>\n",
       "</div>"
      ],
      "text/plain": [
       "   sepal length (cm)  sepal width (cm)  petal length (cm)  petal width (cm)  \\\n",
       "0                5.1               3.5                1.4               0.2   \n",
       "1                4.9               3.0                1.4               0.2   \n",
       "2                4.7               3.2                1.3               0.2   \n",
       "\n",
       "   target  \n",
       "0       0  \n",
       "1       0  \n",
       "2       0  "
      ]
     },
     "execution_count": 2,
     "metadata": {},
     "output_type": "execute_result"
    }
   ],
   "source": [
    "iris = datasets.load_iris()\n",
    "x = pd.DataFrame(iris['data'], columns = iris[\"feature_names\"])\n",
    "print(\"target_names:\"+str(iris['target_names']))\n",
    "y = pd.DataFrame(iris['target'], columns = ['target'])\n",
    "iris_data = pd.concat([x, y], axis=1)\n",
    "iris_data.head(3)"
   ]
  },
  {
   "cell_type": "markdown",
   "id": "31163787",
   "metadata": {},
   "source": [
    "### Matplotlib"
   ]
  },
  {
   "cell_type": "code",
   "execution_count": 3,
   "id": "aa9024e0",
   "metadata": {},
   "outputs": [],
   "source": [
    "import matplotlib.pyplot as plt"
   ]
  },
  {
   "cell_type": "code",
   "execution_count": 4,
   "id": "2581fea7",
   "metadata": {},
   "outputs": [
    {
     "data": {
      "text/plain": [
       "[<matplotlib.lines.Line2D at 0x27cf8142400>]"
      ]
     },
     "execution_count": 4,
     "metadata": {},
     "output_type": "execute_result"
    },
    {
     "data": {
      "image/png": "[encoded data removed]",
      "text/plain": [
       "<Figure size 432x288 with 1 Axes>"
      ]
     },
     "metadata": {
      "needs_background": "light"
     },
     "output_type": "display_data"
    }
   ],
   "source": [
    "# 直接執行就可以出現圖表，如果沒有的話，可以用plt.show()，或是可以先執行程式碼: %matplotlib inline之後每次執行就會自動顯示圖表\n",
    "plt.plot([1, 2, 3, 4])  # ()內是y資料，所以x從開始"
   ]
  },
  {
   "cell_type": "code",
   "execution_count": 5,
   "id": "dc3e305f",
   "metadata": {},
   "outputs": [
    {
     "data": {
      "text/plain": [
       "Text(0.5, 0, 'xlabel')"
      ]
     },
     "execution_count": 5,
     "metadata": {},
     "output_type": "execute_result"
    },
    {
     "data": {
      "image/png": "[encoded data removed]",
      "text/plain": [
       "<Figure size 432x288 with 1 Axes>"
      ]
     },
     "metadata": {
      "needs_background": "light"
     },
     "output_type": "display_data"
    }
   ],
   "source": [
    "# plt.plot([x資料],[y資料])\n",
    "plt.plot([1, 2, 3, 4], [1, 4, 6, 10])\n",
    "plt.ylabel('ylabel')  # y軸命名\n",
    "plt.xlabel('xlabel')  # x軸命名"
   ]
  },
  {
   "cell_type": "code",
   "execution_count": 6,
   "id": "6be69fea",
   "metadata": {},
   "outputs": [
    {
     "data": {
      "text/plain": [
       "[<matplotlib.lines.Line2D at 0x27cf894cd90>]"
      ]
     },
     "execution_count": 6,
     "metadata": {},
     "output_type": "execute_result"
    },
    {
     "data": {
      "image/png": "[encoded data removed]",
      "text/plain": [
       "<Figure size 432x288 with 1 Axes>"
      ]
     },
     "metadata": {
      "needs_background": "light"
     },
     "output_type": "display_data"
    }
   ],
   "source": [
    "# 'ro':r表示red紅色，o表示是點\n",
    "plt.plot([1, 2, 3, 4], [1, 4, 6, 10], 'ro')"
   ]
  },
  {
   "cell_type": "code",
   "execution_count": 7,
   "id": "91472926",
   "metadata": {},
   "outputs": [
    {
     "data": {
      "text/plain": [
       "[<matplotlib.lines.Line2D at 0x27cf89c01c0>]"
      ]
     },
     "execution_count": 7,
     "metadata": {},
     "output_type": "execute_result"
    },
    {
     "data": {
      "image/png": "[encoded data removed]",
      "text/plain": [
       "<Figure size 432x288 with 1 Axes>"
      ]
     },
     "metadata": {
      "needs_background": "light"
     },
     "output_type": "display_data"
    }
   ],
   "source": [
    "# g--:g是green --是虛線\n",
    "# 可以按shit+tab看說明\n",
    "# plt.plot第三個參數主要是改變顏色形狀\n",
    "plt.plot([1, 2, 3, 4], [1, 4, 6, 10], 'g--')"
   ]
  },
  {
   "cell_type": "code",
   "execution_count": 8,
   "id": "eee4e661",
   "metadata": {},
   "outputs": [
    {
     "data": {
      "text/plain": [
       "(0.0, 6.0, 0.0, 20.0)"
      ]
     },
     "execution_count": 8,
     "metadata": {},
     "output_type": "execute_result"
    },
    {
     "data": {
      "image/png": "[encoded data removed]",
      "text/plain": [
       "<Figure size 432x288 with 1 Axes>"
      ]
     },
     "metadata": {
      "needs_background": "light"
     },
     "output_type": "display_data"
    }
   ],
   "source": [
    "# plt.axis([x, x, y, y])顯示規定範圍，前兩個是x軸範圍，後兩個是y軸範圍\n",
    "plt.plot([1, 2, 3, 4], [1, 4, 6, 10], 'ro')\n",
    "plt.axis([0, 6, 0, 20])"
   ]
  },
  {
   "cell_type": "code",
   "execution_count": 9,
   "id": "b37398e6",
   "metadata": {},
   "outputs": [
    {
     "name": "stdout",
     "output_type": "stream",
     "text": [
      "t:[0.  0.2 0.4 0.6 0.8 1.  1.2 1.4 1.6 1.8 2.  2.2 2.4 2.6 2.8 3.  3.2 3.4\n",
      " 3.6 3.8 4.  4.2 4.4 4.6 4.8]\n"
     ]
    },
    {
     "data": {
      "text/plain": [
       "[<matplotlib.lines.Line2D at 0x27cf8a81fd0>,\n",
       " <matplotlib.lines.Line2D at 0x27cf8a81fa0>,\n",
       " <matplotlib.lines.Line2D at 0x27cf8a8f1c0>]"
      ]
     },
     "execution_count": 9,
     "metadata": {},
     "output_type": "execute_result"
    },
    {
     "data": {
      "image/png": "[encoded data removed]",
      "text/plain": [
       "<Figure size 432x288 with 1 Axes>"
      ]
     },
     "metadata": {
      "needs_background": "light"
     },
     "output_type": "display_data"
    }
   ],
   "source": [
    "# 如果想要在一張圖內畫三個方程式(三條線)\n",
    "# plt.plot(第一條線的x,y,外觀,第二條線的x,y,外觀...)\n",
    "\n",
    "# 先用np創立一組資料\n",
    "t = np.arange(0., 5., 0.2)\n",
    "print('t:' + str(t))\n",
    "# y=x,red; y=x^2,blue; y=x^3,green\n",
    "plt.plot(t, t, 'r--', t, t**2, 'bs', t, t**3, 'g^')"
   ]
  },
  {
   "cell_type": "code",
   "execution_count": 10,
   "id": "22ef5d95",
   "metadata": {},
   "outputs": [
    {
     "data": {
      "text/plain": [
       "<BarContainer object of 15 artists>"
      ]
     },
     "execution_count": 10,
     "metadata": {},
     "output_type": "execute_result"
    },
    {
     "data": {
      "image/png": "[encoded data removed]",
      "text/plain": [
       "<Figure size 432x288 with 1 Axes>"
      ]
     },
     "metadata": {
      "needs_background": "light"
     },
     "output_type": "display_data"
    }
   ],
   "source": [
    "# 直方圖: plt.bar(x, y) x座標&y座標\n",
    "x = [2, 4, 6 ,8, 10, 12, 14, 16, 18, 20, 22, 24, 26, 28, 30]\n",
    "y = [5, 10, 15, 13, 22, 20, 20, 25, 18, 19, 27, 15, 20, 23, 19]\n",
    "plt.bar(x, y)"
   ]
  },
  {
   "cell_type": "code",
   "execution_count": 11,
   "id": "00be7766",
   "metadata": {},
   "outputs": [
    {
     "data": {
      "text/plain": [
       "<matplotlib.collections.PathCollection at 0x27cf8b78400>"
      ]
     },
     "execution_count": 11,
     "metadata": {},
     "output_type": "execute_result"
    },
    {
     "data": {
      "image/png": "[encoded data removed]",
      "text/plain": [
       "<Figure size 432x288 with 1 Axes>"
      ]
     },
     "metadata": {
      "needs_background": "light"
     },
     "output_type": "display_data"
    }
   ],
   "source": [
    "# 散佈圖:scatter(x,y)\n",
    "x = [2, 4, 6 ,8, 10, 12, 14, 16, 18, 20, 22, 24, 26, 28, 30]\n",
    "y = [5, 10, 15, 13, 22, 20, 20, 25, 18, 19, 27, 15, 20, 23, 19]\n",
    "plt.scatter(x, y)"
   ]
  },
  {
   "cell_type": "markdown",
   "id": "b08147f1",
   "metadata": {},
   "source": [
    "### Pandas plot (用pandas畫圖)"
   ]
  },
  {
   "cell_type": "code",
   "execution_count": 12,
   "id": "13df9bcb",
   "metadata": {},
   "outputs": [
    {
     "data": {
      "text/html": [
       "<div>\n",
       "<style scoped>\n",
       "    .dataframe tbody tr th:only-of-type {\n",
       "        vertical-align: middle;\n",
       "    }\n",
       "\n",
       "    .dataframe tbody tr th {\n",
       "        vertical-align: top;\n",
       "    }\n",
       "\n",
       "    .dataframe thead th {\n",
       "        text-align: right;\n",
       "    }\n",
       "</style>\n",
       "<table border=\"1\" class=\"dataframe\">\n",
       "  <thead>\n",
       "    <tr style=\"text-align: right;\">\n",
       "      <th></th>\n",
       "      <th>sepal length (cm)</th>\n",
       "      <th>sepal width (cm)</th>\n",
       "      <th>petal length (cm)</th>\n",
       "      <th>petal width (cm)</th>\n",
       "      <th>target</th>\n",
       "    </tr>\n",
       "  </thead>\n",
       "  <tbody>\n",
       "    <tr>\n",
       "      <th>0</th>\n",
       "      <td>5.1</td>\n",
       "      <td>3.5</td>\n",
       "      <td>1.4</td>\n",
       "      <td>0.2</td>\n",
       "      <td>0</td>\n",
       "    </tr>\n",
       "    <tr>\n",
       "      <th>1</th>\n",
       "      <td>4.9</td>\n",
       "      <td>3.0</td>\n",
       "      <td>1.4</td>\n",
       "      <td>0.2</td>\n",
       "      <td>0</td>\n",
       "    </tr>\n",
       "    <tr>\n",
       "      <th>2</th>\n",
       "      <td>4.7</td>\n",
       "      <td>3.2</td>\n",
       "      <td>1.3</td>\n",
       "      <td>0.2</td>\n",
       "      <td>0</td>\n",
       "    </tr>\n",
       "    <tr>\n",
       "      <th>3</th>\n",
       "      <td>4.6</td>\n",
       "      <td>3.1</td>\n",
       "      <td>1.5</td>\n",
       "      <td>0.2</td>\n",
       "      <td>0</td>\n",
       "    </tr>\n",
       "    <tr>\n",
       "      <th>4</th>\n",
       "      <td>5.0</td>\n",
       "      <td>3.6</td>\n",
       "      <td>1.4</td>\n",
       "      <td>0.2</td>\n",
       "      <td>0</td>\n",
       "    </tr>\n",
       "  </tbody>\n",
       "</table>\n",
       "</div>"
      ],
      "text/plain": [
       "   sepal length (cm)  sepal width (cm)  petal length (cm)  petal width (cm)  \\\n",
       "0                5.1               3.5                1.4               0.2   \n",
       "1                4.9               3.0                1.4               0.2   \n",
       "2                4.7               3.2                1.3               0.2   \n",
       "3                4.6               3.1                1.5               0.2   \n",
       "4                5.0               3.6                1.4               0.2   \n",
       "\n",
       "   target  \n",
       "0       0  \n",
       "1       0  \n",
       "2       0  \n",
       "3       0  \n",
       "4       0  "
      ]
     },
     "execution_count": 12,
     "metadata": {},
     "output_type": "execute_result"
    }
   ],
   "source": [
    "# 可以直接用pandas畫圖，可以參考matplot的參數\n",
    "iris_data.head()"
   ]
  },
  {
   "cell_type": "code",
   "execution_count": 13,
   "id": "07e9aa1d",
   "metadata": {},
   "outputs": [
    {
     "data": {
      "text/plain": [
       "<AxesSubplot:xlabel='sepal length (cm)', ylabel='sepal width (cm)'>"
      ]
     },
     "execution_count": 13,
     "metadata": {},
     "output_type": "execute_result"
    },
    {
     "data": {
      "image/png": "[encoded data removed]",
      "text/plain": [
       "<Figure size 432x288 with 2 Axes>"
      ]
     },
     "metadata": {
      "needs_background": "light"
     },
     "output_type": "display_data"
    }
   ],
   "source": [
    "# 資料後面直接.plot就可以畫圖，後面再接想要的圖表種類\n",
    "# 設定x:花萼長度, y: 花萼寬度, c是顏色: 種類類別\n",
    "iris_data.plot.scatter(x = 'sepal length (cm)', y = 'sepal width (cm)', c = 'target')"
   ]
  },
  {
   "cell_type": "markdown",
   "id": "3bb83a85",
   "metadata": {},
   "source": [
    "color 顏色是灰階的，因為內容是數字0、1、2   \n",
    "0:白色; 1:灰色; 2:黑色   \n",
    "如果要改顏色的話，就要先把數字改為RGB等顏色代號"
   ]
  },
  {
   "cell_type": "code",
   "execution_count": 14,
   "id": "76234a46",
   "metadata": {},
   "outputs": [
    {
     "data": {
      "text/html": [
       "<div>\n",
       "<style scoped>\n",
       "    .dataframe tbody tr th:only-of-type {\n",
       "        vertical-align: middle;\n",
       "    }\n",
       "\n",
       "    .dataframe tbody tr th {\n",
       "        vertical-align: top;\n",
       "    }\n",
       "\n",
       "    .dataframe thead th {\n",
       "        text-align: right;\n",
       "    }\n",
       "</style>\n",
       "<table border=\"1\" class=\"dataframe\">\n",
       "  <thead>\n",
       "    <tr style=\"text-align: right;\">\n",
       "      <th></th>\n",
       "      <th>sepal length (cm)</th>\n",
       "      <th>sepal width (cm)</th>\n",
       "      <th>petal length (cm)</th>\n",
       "      <th>petal width (cm)</th>\n",
       "      <th>target</th>\n",
       "      <th>color</th>\n",
       "    </tr>\n",
       "  </thead>\n",
       "  <tbody>\n",
       "    <tr>\n",
       "      <th>0</th>\n",
       "      <td>5.1</td>\n",
       "      <td>3.5</td>\n",
       "      <td>1.4</td>\n",
       "      <td>0.2</td>\n",
       "      <td>0</td>\n",
       "      <td>r</td>\n",
       "    </tr>\n",
       "    <tr>\n",
       "      <th>1</th>\n",
       "      <td>4.9</td>\n",
       "      <td>3.0</td>\n",
       "      <td>1.4</td>\n",
       "      <td>0.2</td>\n",
       "      <td>0</td>\n",
       "      <td>r</td>\n",
       "    </tr>\n",
       "    <tr>\n",
       "      <th>2</th>\n",
       "      <td>4.7</td>\n",
       "      <td>3.2</td>\n",
       "      <td>1.3</td>\n",
       "      <td>0.2</td>\n",
       "      <td>0</td>\n",
       "      <td>r</td>\n",
       "    </tr>\n",
       "    <tr>\n",
       "      <th>3</th>\n",
       "      <td>4.6</td>\n",
       "      <td>3.1</td>\n",
       "      <td>1.5</td>\n",
       "      <td>0.2</td>\n",
       "      <td>0</td>\n",
       "      <td>r</td>\n",
       "    </tr>\n",
       "    <tr>\n",
       "      <th>4</th>\n",
       "      <td>5.0</td>\n",
       "      <td>3.6</td>\n",
       "      <td>1.4</td>\n",
       "      <td>0.2</td>\n",
       "      <td>0</td>\n",
       "      <td>r</td>\n",
       "    </tr>\n",
       "  </tbody>\n",
       "</table>\n",
       "</div>"
      ],
      "text/plain": [
       "   sepal length (cm)  sepal width (cm)  petal length (cm)  petal width (cm)  \\\n",
       "0                5.1               3.5                1.4               0.2   \n",
       "1                4.9               3.0                1.4               0.2   \n",
       "2                4.7               3.2                1.3               0.2   \n",
       "3                4.6               3.1                1.5               0.2   \n",
       "4                5.0               3.6                1.4               0.2   \n",
       "\n",
       "   target color  \n",
       "0       0     r  \n",
       "1       0     r  \n",
       "2       0     r  \n",
       "3       0     r  \n",
       "4       0     r  "
      ]
     },
     "execution_count": 14,
     "metadata": {},
     "output_type": "execute_result"
    }
   ],
   "source": [
    "# 用dict做出對應後再用.map()去做轉換，創造出一個新的欄位:'color'\n",
    "color = {\n",
    "    0:'r',\n",
    "    1:'g',\n",
    "    2:'b'\n",
    "}\n",
    "iris_data['color'] = iris_data['target'].map(color)\n",
    "iris_data.head(5)"
   ]
  },
  {
   "cell_type": "code",
   "execution_count": 17,
   "id": "ba58be4f",
   "metadata": {},
   "outputs": [
    {
     "data": {
      "text/plain": [
       "<AxesSubplot:xlabel='sepal length (cm)', ylabel='sepal width (cm)'>"
      ]
     },
     "execution_count": 17,
     "metadata": {},
     "output_type": "execute_result"
    },
    {
     "data": {
      "image/png": "[encoded data removed]",
      "text/plain": [
       "<Figure size 432x288 with 1 Axes>"
      ]
     },
     "metadata": {
      "needs_background": "light"
     },
     "output_type": "display_data"
    }
   ],
   "source": [
    "# 可以指定欄位，c=color\n",
    "iris_data.plot.scatter(x = 'sepal length (cm)', y = 'sepal width (cm)', c = iris_data['color'])"
   ]
  },
  {
   "cell_type": "code",
   "execution_count": 19,
   "id": "35982e6a",
   "metadata": {},
   "outputs": [
    {
     "data": {
      "text/plain": [
       "<AxesSubplot:xlabel='sepal length (cm)', ylabel='sepal width (cm)'>"
      ]
     },
     "execution_count": 19,
     "metadata": {},
     "output_type": "execute_result"
    },
    {
     "data": {
      "image/png": "[encoded data removed]",
      "text/plain": [
       "<Figure size 432x288 with 1 Axes>"
      ]
     },
     "metadata": {
      "needs_background": "light"
     },
     "output_type": "display_data"
    },
    {
     "data": {
      "image/png": "[encoded data removed]",
      "text/plain": [
       "<Figure size 432x288 with 1 Axes>"
      ]
     },
     "metadata": {
      "needs_background": "light"
     },
     "output_type": "display_data"
    },
    {
     "data": {
      "image/png": "[encoded data removed]",
      "text/plain": [
       "<Figure size 432x288 with 1 Axes>"
      ]
     },
     "metadata": {
      "needs_background": "light"
     },
     "output_type": "display_data"
    }
   ],
   "source": [
    "# 加上lael 'r', label = '類別名稱'\n",
    "iris_data[iris_data['target'] == 0].plot.scatter(x = 'sepal length (cm)', y = 'sepal width (cm)', c = 'r', label = 'setosa')\n",
    "iris_data[iris_data['target'] == 1].plot.scatter(x = 'sepal length (cm)', y = 'sepal width (cm)', c = 'g', label = 'versicolor')\n",
    "iris_data[iris_data['target'] == 2].plot.scatter(x = 'sepal length (cm)', y = 'sepal width (cm)', c = 'b', label = 'virginica')"
   ]
  },
  {
   "cell_type": "markdown",
   "id": "7f0aa30f",
   "metadata": {},
   "source": [
    "三個不同類別的散佈圖分別畫出來，要結合三張圖到一張可以用ax參數"
   ]
  },
  {
   "cell_type": "code",
   "execution_count": 20,
   "id": "ee443fda",
   "metadata": {},
   "outputs": [
    {
     "data": {
      "text/plain": [
       "<AxesSubplot:xlabel='sepal length (cm)', ylabel='sepal width (cm)'>"
      ]
     },
     "execution_count": 20,
     "metadata": {},
     "output_type": "execute_result"
    },
    {
     "data": {
      "image/png": "[encoded data removed]",
      "text/plain": [
       "<Figure size 432x288 with 1 Axes>"
      ]
     },
     "metadata": {
      "needs_background": "light"
     },
     "output_type": "display_data"
    }
   ],
   "source": [
    "# ax是先把第一張圖存到ax裡面，之後的圖可以用ax參數，ax=ax把其他圖存到ax裡面\n",
    "ax = iris_data[iris_data['target'] == 0].plot.scatter(x='sepal length (cm)', y='sepal width (cm)', c='r', label='setosa')\n",
    "ax = iris_data[iris_data['target'] == 1].plot.scatter(x='sepal length (cm)', y='sepal width (cm)', c='g', label='versicolor', ax=ax)\n",
    "iris_data[iris_data['target'] == 2].plot.scatter(x='sepal length (cm)', y='sepal width (cm)', c='b', label='virginica', ax=ax)"
   ]
  },
  {
   "cell_type": "code",
   "execution_count": 21,
   "id": "509ecb44",
   "metadata": {},
   "outputs": [
    {
     "data": {
      "text/plain": [
       "<AxesSubplot:xlabel='sepal length (cm)', ylabel='sepal width (cm)'>"
      ]
     },
     "execution_count": 21,
     "metadata": {},
     "output_type": "execute_result"
    },
    {
     "data": {
      "image/png": "[encoded data removed]",
      "text/plain": [
       "<Figure size 432x288 with 1 Axes>"
      ]
     },
     "metadata": {
      "needs_background": "light"
     },
     "output_type": "display_data"
    }
   ],
   "source": [
    "# alpha參數是增加透明度，讓圖形更好看\n",
    "ax = iris_data[iris_data['target'] == 0].plot.scatter(x='sepal length (cm)', y='sepal width (cm)', c='r', alpha=0.5, label='setosa')\n",
    "ax = iris_data[iris_data['target'] == 1].plot.scatter(x='sepal length (cm)', y='sepal width (cm)', c='g', alpha=0.5,label='versicolor', ax=ax)\n",
    "iris_data[iris_data['target'] == 2].plot.scatter(x='sepal length (cm)', y='sepal width (cm)', c='b', alpha=0.5,label='virginica', ax=ax)"
   ]
  },
  {
   "cell_type": "code",
   "execution_count": 22,
   "id": "62b7f228",
   "metadata": {},
   "outputs": [
    {
     "data": {
      "text/plain": [
       "['Solarize_Light2',\n",
       " '_classic_test_patch',\n",
       " 'bmh',\n",
       " 'classic',\n",
       " 'dark_background',\n",
       " 'fast',\n",
       " 'fivethirtyeight',\n",
       " 'ggplot',\n",
       " 'grayscale',\n",
       " 'seaborn',\n",
       " 'seaborn-bright',\n",
       " 'seaborn-colorblind',\n",
       " 'seaborn-dark',\n",
       " 'seaborn-dark-palette',\n",
       " 'seaborn-darkgrid',\n",
       " 'seaborn-deep',\n",
       " 'seaborn-muted',\n",
       " 'seaborn-notebook',\n",
       " 'seaborn-paper',\n",
       " 'seaborn-pastel',\n",
       " 'seaborn-poster',\n",
       " 'seaborn-talk',\n",
       " 'seaborn-ticks',\n",
       " 'seaborn-white',\n",
       " 'seaborn-whitegrid',\n",
       " 'tableau-colorblind10']"
      ]
     },
     "execution_count": 22,
     "metadata": {},
     "output_type": "execute_result"
    }
   ],
   "source": [
    "# 還有一個方法是用style來修改外觀\n",
    "plt.style.available"
   ]
  },
  {
   "cell_type": "markdown",
   "id": "bb6993c4",
   "metadata": {},
   "source": [
    "都是matplot的模板"
   ]
  },
  {
   "cell_type": "code",
   "execution_count": 25,
   "id": "5df8483a",
   "metadata": {},
   "outputs": [],
   "source": [
    "#### 要使用上列的模板，就用.use('模板名稱')\n",
    "plt.style.use('ggplot')\n",
    "# 就把圖表從預設模式改成ggplot的樣子"
   ]
  },
  {
   "cell_type": "code",
   "execution_count": 26,
   "id": "2997dbc5",
   "metadata": {},
   "outputs": [
    {
     "data": {
      "text/plain": [
       "<matplotlib.collections.PathCollection at 0x27cfa33deb0>"
      ]
     },
     "execution_count": 26,
     "metadata": {},
     "output_type": "execute_result"
    },
    {
     "data": {
      "image/png": "[encoded data removed]",
      "text/plain": [
       "<Figure size 432x288 with 1 Axes>"
      ]
     },
     "metadata": {},
     "output_type": "display_data"
    }
   ],
   "source": [
    "# 看一下ggplot的樣子\n",
    "N = 50\n",
    "x = np.random.rand(N)\n",
    "y = np.random.rand(N)\n",
    "colors = np.random.rand(N)\n",
    "plt.scatter(x, y, c=colors, alpha=0.5)"
   ]
  },
  {
   "cell_type": "code",
   "execution_count": 27,
   "id": "957fa478",
   "metadata": {},
   "outputs": [
    {
     "data": {
      "text/plain": [
       "<matplotlib.collections.PathCollection at 0x27cfa3a8940>"
      ]
     },
     "execution_count": 27,
     "metadata": {},
     "output_type": "execute_result"
    },
    {
     "data": {
      "image/png": "[encoded data removed]",
      "text/plain": [
       "<Figure size 640x480 with 1 Axes>"
      ]
     },
     "metadata": {},
     "output_type": "display_data"
    }
   ],
   "source": [
    "# 先看一下'classic'的樣子\n",
    "plt.style.use('classic')\n",
    "N = 50\n",
    "x = np.random.rand(N)\n",
    "y = np.random.rand(N)\n",
    "colors = np.random.rand(N)\n",
    "plt.scatter(x, y, c=colors, alpha=0.5)"
   ]
  },
  {
   "cell_type": "code",
   "execution_count": 30,
   "id": "4d512e6f",
   "metadata": {},
   "outputs": [],
   "source": [
    "# 想換回ggplot的風格\n",
    "plt.style.use('ggplot')"
   ]
  },
  {
   "cell_type": "markdown",
   "id": "c55a29ca",
   "metadata": {},
   "source": [
    "### Seaborn   \n",
    "在matplot的基礎上去做更高階視覺化的API，可以用更少的程式碼畫圖"
   ]
  },
  {
   "cell_type": "code",
   "execution_count": 28,
   "id": "ea8c1cb8",
   "metadata": {},
   "outputs": [],
   "source": [
    "# sns是通用的\n",
    "import seaborn as sns"
   ]
  },
  {
   "cell_type": "code",
   "execution_count": 31,
   "id": "20d7d1ae",
   "metadata": {},
   "outputs": [
    {
     "name": "stderr",
     "output_type": "stream",
     "text": [
      "C:\\Users\\User\\anaconda3\\lib\\site-packages\\seaborn\\_decorators.py:36: FutureWarning: Pass the following variables as keyword args: x, y. From version 0.12, the only valid positional argument will be `data`, and passing other arguments without an explicit keyword will result in an error or misinterpretation.\n",
      "  warnings.warn(\n"
     ]
    },
    {
     "data": {
      "text/plain": [
       "<seaborn.axisgrid.FacetGrid at 0x27cfa3bbb50>"
      ]
     },
     "execution_count": 31,
     "metadata": {},
     "output_type": "execute_result"
    },
    {
     "data": {
      "image/png": "[encoded data removed]",
      "text/plain": [
       "<Figure size 456.5x400 with 1 Axes>"
      ]
     },
     "metadata": {},
     "output_type": "display_data"
    }
   ],
   "source": [
    "# 同樣用剛剛的iris資料來畫圖\n",
    "# lmplot是畫回歸線的function，fit_reg是回歸線，fit_reg=False就不會畫出線，沒特別寫的話就會有回歸線\n",
    "sns.lmplot('sepal length (cm)', 'sepal width (cm)', data=iris_data, fit_reg=False, hue='target')"
   ]
  },
  {
   "cell_type": "markdown",
   "id": "508a7d81",
   "metadata": {},
   "source": [
    "只要一行程式碼就可以達到剛剛matplot三行的圖形效果"
   ]
  },
  {
   "cell_type": "code",
   "execution_count": 47,
   "id": "542cf83d",
   "metadata": {},
   "outputs": [],
   "source": [
    "# 圖標的target想要從0、1、2改成類別名稱\n",
    "# 先做一個dict對應花種名稱\n",
    "target_name = {\n",
    "    0:'setosa',\n",
    "    1:'versicolor',\n",
    "    2:'virginica'\n",
    "}\n",
    "# 創立新的欄位:target_name\n",
    "iris_data['target_name'] = iris_data['target'].map(target_name)"
   ]
  },
  {
   "cell_type": "code",
   "execution_count": 48,
   "id": "06565ceb",
   "metadata": {},
   "outputs": [
    {
     "data": {
      "text/plain": [
       "<seaborn.axisgrid.FacetGrid at 0x27cfab46e50>"
      ]
     },
     "execution_count": 48,
     "metadata": {},
     "output_type": "execute_result"
    },
    {
     "data": {
      "image/png": "[encoded data removed]",
      "text/plain": [
       "<Figure size 513.375x400 with 1 Axes>"
      ]
     },
     "metadata": {},
     "output_type": "display_data"
    }
   ],
   "source": [
    "# 在將hue參數改成target_name\n",
    "sns.lmplot('sepal length (cm)', 'sepal width (cm)', data=iris_data, fit_reg=False, hue='target_name')"
   ]
  },
  {
   "cell_type": "code",
   "execution_count": 50,
   "id": "86b43290",
   "metadata": {},
   "outputs": [
    {
     "name": "stderr",
     "output_type": "stream",
     "text": [
      "C:\\Users\\User\\anaconda3\\lib\\site-packages\\seaborn\\_decorators.py:36: FutureWarning: Pass the following variables as keyword args: x, y. From version 0.12, the only valid positional argument will be `data`, and passing other arguments without an explicit keyword will result in an error or misinterpretation.\n",
      "  warnings.warn(\n"
     ]
    },
    {
     "data": {
      "text/plain": [
       "<seaborn.axisgrid.FacetGrid at 0x27cfaa68100>"
      ]
     },
     "execution_count": 50,
     "metadata": {},
     "output_type": "execute_result"
    },
    {
     "data": {
      "image/png": "[encoded data removed]",
      "text/plain": [
       "<Figure size 513.375x400 with 1 Axes>"
      ]
     },
     "metadata": {},
     "output_type": "display_data"
    }
   ],
   "source": [
    "# fit_reg=False就不會畫出線，沒特別寫的話就會有回歸線\n",
    "sns.lmplot('sepal length (cm)', 'sepal width (cm)', data=iris_data, hue='target_name')"
   ]
  },
  {
   "cell_type": "markdown",
   "id": "65878b43",
   "metadata": {},
   "source": [
    "### Plotly"
   ]
  },
  {
   "cell_type": "code",
   "execution_count": 51,
   "id": "5da5f9c9",
   "metadata": {},
   "outputs": [],
   "source": [
    "import plotly"
   ]
  },
  {
   "cell_type": "code",
   "execution_count": 52,
   "id": "00b02b7c",
   "metadata": {},
   "outputs": [
    {
     "data": {
      "text/html": [
       "        <script type=\"text/javascript\">\n",
       "        window.PlotlyConfig = {MathJaxConfig: 'local'};\n",
       "        if (window.MathJax && window.MathJax.Hub && window.MathJax.Hub.Config) {window.MathJax.Hub.Config({SVG: {font: \"STIX-Web\"}});}\n",
       "        if (typeof require !== 'undefined') {\n",
       "        require.undef(\"plotly\");\n",
       "        requirejs.config({\n",
       "            paths: {\n",
       "                'plotly': ['https://cdn.plot.ly/plotly-2.18.0.min']\n",
       "            }\n",
       "        });\n",
       "        require(['plotly'], function(Plotly) {\n",
       "            window._Plotly = Plotly;\n",
       "        });\n",
       "        }\n",
       "        </script>\n",
       "        "
      ]
     },
     "metadata": {},
     "output_type": "display_data"
    },
    {
     "data": {
      "application/vnd.plotly.v1+json": {
       "config": {
        "linkText": "Export to plot.ly",
        "plotlyServerURL": "https://plot.ly",
        "showLink": false
       },
       "data": [
        {
         "type": "scatter",
         "x": [
          1,
          2,
          3,
          4
         ],
         "y": [
          4,
          3,
          2,
          1
         ]
        }
       ],
       "layout": {
        "template": {
         "data": {
          "bar": [
           {
            "error_x": {
             "color": "#2a3f5f"
            },
            "error_y": {
             "color": "#2a3f5f"
            },
            "marker": {
             "line": {
              "color": "#E5ECF6",
              "width": 0.5
             },
             "pattern": {
              "fillmode": "overlay",
              "size": 10,
              "solidity": 0.2
             }
            },
            "type": "bar"
           }
          ],
          "barpolar": [
           {
            "marker": {
             "line": {
              "color": "#E5ECF6",
              "width": 0.5
             },
             "pattern": {
              "fillmode": "overlay",
              "size": 10,
              "solidity": 0.2
             }
            },
            "type": "barpolar"
           }
          ],
          "carpet": [
           {
            "aaxis": {
             "endlinecolor": "#2a3f5f",
             "gridcolor": "white",
             "linecolor": "white",
             "minorgridcolor": "white",
             "startlinecolor": "#2a3f5f"
            },
            "baxis": {
             "endlinecolor": "#2a3f5f",
             "gridcolor": "white",
             "linecolor": "white",
             "minorgridcolor": "white",
             "startlinecolor": "#2a3f5f"
            },
            "type": "carpet"
           }
          ],
          "choropleth": [
           {
            "colorbar": {
             "outlinewidth": 0,
             "ticks": ""
            },
            "type": "choropleth"
           }
          ],
          "contour": [
           {
            "colorbar": {
             "outlinewidth": 0,
             "ticks": ""
            },
            "colorscale": [
             [
              0,
              "#0d0887"
             ],
             [
              0.1111111111111111,
              "#46039f"
             ],
             [
              0.2222222222222222,
              "#7201a8"
             ],
             [
              0.3333333333333333,
              "#9c179e"
             ],
             [
              0.4444444444444444,
              "#bd3786"
             ],
             [
              0.5555555555555556,
              "#d8576b"
             ],
             [
              0.6666666666666666,
              "#ed7953"
             ],
             [
              0.7777777777777778,
              "#fb9f3a"
             ],
             [
              0.8888888888888888,
              "#fdca26"
             ],
             [
              1,
              "#f0f921"
             ]
            ],
            "type": "contour"
           }
          ],
          "contourcarpet": [
           {
            "colorbar": {
             "outlinewidth": 0,
             "ticks": ""
            },
            "type": "contourcarpet"
           }
          ],
          "heatmap": [
           {
            "colorbar": {
             "outlinewidth": 0,
             "ticks": ""
            },
            "colorscale": [
             [
              0,
              "#0d0887"
             ],
             [
              0.1111111111111111,
              "#46039f"
             ],
             [
              0.2222222222222222,
              "#7201a8"
             ],
             [
              0.3333333333333333,
              "#9c179e"
             ],
             [
              0.4444444444444444,
              "#bd3786"
             ],
             [
              0.5555555555555556,
              "#d8576b"
             ],
             [
              0.6666666666666666,
              "#ed7953"
             ],
             [
              0.7777777777777778,
              "#fb9f3a"
             ],
             [
              0.8888888888888888,
              "#fdca26"
             ],
             [
              1,
              "#f0f921"
             ]
            ],
            "type": "heatmap"
           }
          ],
          "heatmapgl": [
           {
            "colorbar": {
             "outlinewidth": 0,
             "ticks": ""
            },
            "colorscale": [
             [
              0,
              "#0d0887"
             ],
             [
              0.1111111111111111,
              "#46039f"
             ],
             [
              0.2222222222222222,
              "#7201a8"
             ],
             [
              0.3333333333333333,
              "#9c179e"
             ],
             [
              0.4444444444444444,
              "#bd3786"
             ],
             [
              0.5555555555555556,
              "#d8576b"
             ],
             [
              0.6666666666666666,
              "#ed7953"
             ],
             [
              0.7777777777777778,
              "#fb9f3a"
             ],
             [
              0.8888888888888888,
              "#fdca26"
             ],
             [
              1,
              "#f0f921"
             ]
            ],
            "type": "heatmapgl"
           }
          ],
          "histogram": [
           {
            "marker": {
             "pattern": {
              "fillmode": "overlay",
              "size": 10,
              "solidity": 0.2
             }
            },
            "type": "histogram"
           }
          ],
          "histogram2d": [
           {
            "colorbar": {
             "outlinewidth": 0,
             "ticks": ""
            },
            "colorscale": [
             [
              0,
              "#0d0887"
             ],
             [
              0.1111111111111111,
              "#46039f"
             ],
             [
              0.2222222222222222,
              "#7201a8"
             ],
             [
              0.3333333333333333,
              "#9c179e"
             ],
             [
              0.4444444444444444,
              "#bd3786"
             ],
             [
              0.5555555555555556,
              "#d8576b"
             ],
             [
              0.6666666666666666,
              "#ed7953"
             ],
             [
              0.7777777777777778,
              "#fb9f3a"
             ],
             [
              0.8888888888888888,
              "#fdca26"
             ],
             [
              1,
              "#f0f921"
             ]
            ],
            "type": "histogram2d"
           }
          ],
          "histogram2dcontour": [
           {
            "colorbar": {
             "outlinewidth": 0,
             "ticks": ""
            },
            "colorscale": [
             [
              0,
              "#0d0887"
             ],
             [
              0.1111111111111111,
              "#46039f"
             ],
             [
              0.2222222222222222,
              "#7201a8"
             ],
             [
              0.3333333333333333,
              "#9c179e"
             ],
             [
              0.4444444444444444,
              "#bd3786"
             ],
             [
              0.5555555555555556,
              "#d8576b"
             ],
             [
              0.6666666666666666,
              "#ed7953"
             ],
             [
              0.7777777777777778,
              "#fb9f3a"
             ],
             [
              0.8888888888888888,
              "#fdca26"
             ],
             [
              1,
              "#f0f921"
             ]
            ],
            "type": "histogram2dcontour"
           }
          ],
          "mesh3d": [
           {
            "colorbar": {
             "outlinewidth": 0,
             "ticks": ""
            },
            "type": "mesh3d"
           }
          ],
          "parcoords": [
           {
            "line": {
             "colorbar": {
              "outlinewidth": 0,
              "ticks": ""
             }
            },
            "type": "parcoords"
           }
          ],
          "pie": [
           {
            "automargin": true,
            "type": "pie"
           }
          ],
          "scatter": [
           {
            "fillpattern": {
             "fillmode": "overlay",
             "size": 10,
             "solidity": 0.2
            },
            "type": "scatter"
           }
          ],
          "scatter3d": [
           {
            "line": {
             "colorbar": {
              "outlinewidth": 0,
              "ticks": ""
             }
            },
            "marker": {
             "colorbar": {
              "outlinewidth": 0,
              "ticks": ""
             }
            },
            "type": "scatter3d"
           }
          ],
          "scattercarpet": [
           {
            "marker": {
             "colorbar": {
              "outlinewidth": 0,
              "ticks": ""
             }
            },
            "type": "scattercarpet"
           }
          ],
          "scattergeo": [
           {
            "marker": {
             "colorbar": {
              "outlinewidth": 0,
              "ticks": ""
             }
            },
            "type": "scattergeo"
           }
          ],
          "scattergl": [
           {
            "marker": {
             "colorbar": {
              "outlinewidth": 0,
              "ticks": ""
             }
            },
            "type": "scattergl"
           }
          ],
          "scattermapbox": [
           {
            "marker": {
             "colorbar": {
              "outlinewidth": 0,
              "ticks": ""
             }
            },
            "type": "scattermapbox"
           }
          ],
          "scatterpolar": [
           {
            "marker": {
             "colorbar": {
              "outlinewidth": 0,
              "ticks": ""
             }
            },
            "type": "scatterpolar"
           }
          ],
          "scatterpolargl": [
           {
            "marker": {
             "colorbar": {
              "outlinewidth": 0,
              "ticks": ""
             }
            },
            "type": "scatterpolargl"
           }
          ],
          "scatterternary": [
           {
            "marker": {
             "colorbar": {
              "outlinewidth": 0,
              "ticks": ""
             }
            },
            "type": "scatterternary"
           }
          ],
          "surface": [
           {
            "colorbar": {
             "outlinewidth": 0,
             "ticks": ""
            },
            "colorscale": [
             [
              0,
              "#0d0887"
             ],
             [
              0.1111111111111111,
              "#46039f"
             ],
             [
              0.2222222222222222,
              "#7201a8"
             ],
             [
              0.3333333333333333,
              "#9c179e"
             ],
             [
              0.4444444444444444,
              "#bd3786"
             ],
             [
              0.5555555555555556,
              "#d8576b"
             ],
             [
              0.6666666666666666,
              "#ed7953"
             ],
             [
              0.7777777777777778,
              "#fb9f3a"
             ],
             [
              0.8888888888888888,
              "#fdca26"
             ],
             [
              1,
              "#f0f921"
             ]
            ],
            "type": "surface"
           }
          ],
          "table": [
           {
            "cells": {
             "fill": {
              "color": "#EBF0F8"
             },
             "line": {
              "color": "white"
             }
            },
            "header": {
             "fill": {
              "color": "#C8D4E3"
             },
             "line": {
              "color": "white"
             }
            },
            "type": "table"
           }
          ]
         },
         "layout": {
          "annotationdefaults": {
           "arrowcolor": "#2a3f5f",
           "arrowhead": 0,
           "arrowwidth": 1
          },
          "autotypenumbers": "strict",
          "coloraxis": {
           "colorbar": {
            "outlinewidth": 0,
            "ticks": ""
           }
          },
          "colorscale": {
           "diverging": [
            [
             0,
             "#8e0152"
            ],
            [
             0.1,
             "#c51b7d"
            ],
            [
             0.2,
             "#de77ae"
            ],
            [
             0.3,
             "#f1b6da"
            ],
            [
             0.4,
             "#fde0ef"
            ],
            [
             0.5,
             "#f7f7f7"
            ],
            [
             0.6,
             "#e6f5d0"
            ],
            [
             0.7,
             "#b8e186"
            ],
            [
             0.8,
             "#7fbc41"
            ],
            [
             0.9,
             "#4d9221"
            ],
            [
             1,
             "#276419"
            ]
           ],
           "sequential": [
            [
             0,
             "#0d0887"
            ],
            [
             0.1111111111111111,
             "#46039f"
            ],
            [
             0.2222222222222222,
             "#7201a8"
            ],
            [
             0.3333333333333333,
             "#9c179e"
            ],
            [
             0.4444444444444444,
             "#bd3786"
            ],
            [
             0.5555555555555556,
             "#d8576b"
            ],
            [
             0.6666666666666666,
             "#ed7953"
            ],
            [
             0.7777777777777778,
             "#fb9f3a"
            ],
            [
             0.8888888888888888,
             "#fdca26"
            ],
            [
             1,
             "#f0f921"
            ]
           ],
           "sequentialminus": [
            [
             0,
             "#0d0887"
            ],
            [
             0.1111111111111111,
             "#46039f"
            ],
            [
             0.2222222222222222,
             "#7201a8"
            ],
            [
             0.3333333333333333,
             "#9c179e"
            ],
            [
             0.4444444444444444,
             "#bd3786"
            ],
            [
             0.5555555555555556,
             "#d8576b"
            ],
            [
             0.6666666666666666,
             "#ed7953"
            ],
            [
             0.7777777777777778,
             "#fb9f3a"
            ],
            [
             0.8888888888888888,
             "#fdca26"
            ],
            [
             1,
             "#f0f921"
            ]
           ]
          },
          "colorway": [
           "#636efa",
           "#EF553B",
           "#00cc96",
           "#ab63fa",
           "#FFA15A",
           "#19d3f3",
           "#FF6692",
           "#B6E880",
           "#FF97FF",
           "#FECB52"
          ],
          "font": {
           "color": "#2a3f5f"
          },
          "geo": {
           "bgcolor": "white",
           "lakecolor": "white",
           "landcolor": "#E5ECF6",
           "showlakes": true,
           "showland": true,
           "subunitcolor": "white"
          },
          "hoverlabel": {
           "align": "left"
          },
          "hovermode": "closest",
          "mapbox": {
           "style": "light"
          },
          "paper_bgcolor": "white",
          "plot_bgcolor": "#E5ECF6",
          "polar": {
           "angularaxis": {
            "gridcolor": "white",
            "linecolor": "white",
            "ticks": ""
           },
           "bgcolor": "#E5ECF6",
           "radialaxis": {
            "gridcolor": "white",
            "linecolor": "white",
            "ticks": ""
           }
          },
          "scene": {
           "xaxis": {
            "backgroundcolor": "#E5ECF6",
            "gridcolor": "white",
            "gridwidth": 2,
            "linecolor": "white",
            "showbackground": true,
            "ticks": "",
            "zerolinecolor": "white"
           },
           "yaxis": {
            "backgroundcolor": "#E5ECF6",
            "gridcolor": "white",
            "gridwidth": 2,
            "linecolor": "white",
            "showbackground": true,
            "ticks": "",
            "zerolinecolor": "white"
           },
           "zaxis": {
            "backgroundcolor": "#E5ECF6",
            "gridcolor": "white",
            "gridwidth": 2,
            "linecolor": "white",
            "showbackground": true,
            "ticks": "",
            "zerolinecolor": "white"
           }
          },
          "shapedefaults": {
           "line": {
            "color": "#2a3f5f"
           }
          },
          "ternary": {
           "aaxis": {
            "gridcolor": "white",
            "linecolor": "white",
            "ticks": ""
           },
           "baxis": {
            "gridcolor": "white",
            "linecolor": "white",
            "ticks": ""
           },
           "bgcolor": "#E5ECF6",
           "caxis": {
            "gridcolor": "white",
            "linecolor": "white",
            "ticks": ""
           }
          },
          "title": {
           "x": 0.05
          },
          "xaxis": {
           "automargin": true,
           "gridcolor": "white",
           "linecolor": "white",
           "ticks": "",
           "title": {
            "standoff": 15
           },
           "zerolinecolor": "white",
           "zerolinewidth": 2
          },
          "yaxis": {
           "automargin": true,
           "gridcolor": "white",
           "linecolor": "white",
           "ticks": "",
           "title": {
            "standoff": 15
           },
           "zerolinecolor": "white",
           "zerolinewidth": 2
          }
         }
        },
        "title": {
         "text": "Hello World"
        }
       }
      },
      "text/html": [
       "<div>                            <div id=\"77eb83f3-e875-4a2f-8c0a-dac04540b716\" class=\"plotly-graph-div\" style=\"height:525px; width:100%;\"></div>            <script type=\"text/javascript\">                require([\"plotly\"], function(Plotly) {                    window.PLOTLYENV=window.PLOTLYENV || {};                                    if (document.getElementById(\"77eb83f3-e875-4a2f-8c0a-dac04540b716\")) {                    Plotly.newPlot(                        \"77eb83f3-e875-4a2f-8c0a-dac04540b716\",                        [{\"x\":[1,2,3,4],\"y\":[4,3,2,1],\"type\":\"scatter\"}],                        {\"template\":{\"data\":{\"barpolar\":[{\"marker\":{\"line\":{\"color\":\"#E5ECF6\",\"width\":0.5},\"pattern\":{\"fillmode\":\"overlay\",\"size\":10,\"solidity\":0.2}},\"type\":\"barpolar\"}],\"bar\":[{\"error_x\":{\"color\":\"#2a3f5f\"},\"error_y\":{\"color\":\"#2a3f5f\"},\"marker\":{\"line\":{\"color\":\"#E5ECF6\",\"width\":0.5},\"pattern\":{\"fillmode\":\"overlay\",\"size\":10,\"solidity\":0.2}},\"type\":\"bar\"}],\"carpet\":[{\"aaxis\":{\"endlinecolor\":\"#2a3f5f\",\"gridcolor\":\"white\",\"linecolor\":\"white\",\"minorgridcolor\":\"white\",\"startlinecolor\":\"#2a3f5f\"},\"baxis\":{\"endlinecolor\":\"#2a3f5f\",\"gridcolor\":\"white\",\"linecolor\":\"white\",\"minorgridcolor\":\"white\",\"startlinecolor\":\"#2a3f5f\"},\"type\":\"carpet\"}],\"choropleth\":[{\"colorbar\":{\"outlinewidth\":0,\"ticks\":\"\"},\"type\":\"choropleth\"}],\"contourcarpet\":[{\"colorbar\":{\"outlinewidth\":0,\"ticks\":\"\"},\"type\":\"contourcarpet\"}],\"contour\":[{\"colorbar\":{\"outlinewidth\":0,\"ticks\":\"\"},\"colorscale\":[[0.0,\"#0d0887\"],[0.1111111111111111,\"#46039f\"],[0.2222222222222222,\"#7201a8\"],[0.3333333333333333,\"#9c179e\"],[0.4444444444444444,\"#bd3786\"],[0.5555555555555556,\"#d8576b\"],[0.6666666666666666,\"#ed7953\"],[0.7777777777777778,\"#fb9f3a\"],[0.8888888888888888,\"#fdca26\"],[1.0,\"#f0f921\"]],\"type\":\"contour\"}],\"heatmapgl\":[{\"colorbar\":{\"outlinewidth\":0,\"ticks\":\"\"},\"colorscale\":[[0.0,\"#0d0887\"],[0.1111111111111111,\"#46039f\"],[0.2222222222222222,\"#7201a8\"],[0.3333333333333333,\"#9c179e\"],[0.4444444444444444,\"#bd3786\"],[0.5555555555555556,\"#d8576b\"],[0.6666666666666666,\"#ed7953\"],[0.7777777777777778,\"#fb9f3a\"],[0.8888888888888888,\"#fdca26\"],[1.0,\"#f0f921\"]],\"type\":\"heatmapgl\"}],\"heatmap\":[{\"colorbar\":{\"outlinewidth\":0,\"ticks\":\"\"},\"colorscale\":[[0.0,\"#0d0887\"],[0.1111111111111111,\"#46039f\"],[0.2222222222222222,\"#7201a8\"],[0.3333333333333333,\"#9c179e\"],[0.4444444444444444,\"#bd3786\"],[0.5555555555555556,\"#d8576b\"],[0.6666666666666666,\"#ed7953\"],[0.7777777777777778,\"#fb9f3a\"],[0.8888888888888888,\"#fdca26\"],[1.0,\"#f0f921\"]],\"type\":\"heatmap\"}],\"histogram2dcontour\":[{\"colorbar\":{\"outlinewidth\":0,\"ticks\":\"\"},\"colorscale\":[[0.0,\"#0d0887\"],[0.1111111111111111,\"#46039f\"],[0.2222222222222222,\"#7201a8\"],[0.3333333333333333,\"#9c179e\"],[0.4444444444444444,\"#bd3786\"],[0.5555555555555556,\"#d8576b\"],[0.6666666666666666,\"#ed7953\"],[0.7777777777777778,\"#fb9f3a\"],[0.8888888888888888,\"#fdca26\"],[1.0,\"#f0f921\"]],\"type\":\"histogram2dcontour\"}],\"histogram2d\":[{\"colorbar\":{\"outlinewidth\":0,\"ticks\":\"\"},\"colorscale\":[[0.0,\"#0d0887\"],[0.1111111111111111,\"#46039f\"],[0.2222222222222222,\"#7201a8\"],[0.3333333333333333,\"#9c179e\"],[0.4444444444444444,\"#bd3786\"],[0.5555555555555556,\"#d8576b\"],[0.6666666666666666,\"#ed7953\"],[0.7777777777777778,\"#fb9f3a\"],[0.8888888888888888,\"#fdca26\"],[1.0,\"#f0f921\"]],\"type\":\"histogram2d\"}],\"histogram\":[{\"marker\":{\"pattern\":{\"fillmode\":\"overlay\",\"size\":10,\"solidity\":0.2}},\"type\":\"histogram\"}],\"mesh3d\":[{\"colorbar\":{\"outlinewidth\":0,\"ticks\":\"\"},\"type\":\"mesh3d\"}],\"parcoords\":[{\"line\":{\"colorbar\":{\"outlinewidth\":0,\"ticks\":\"\"}},\"type\":\"parcoords\"}],\"pie\":[{\"automargin\":true,\"type\":\"pie\"}],\"scatter3d\":[{\"line\":{\"colorbar\":{\"outlinewidth\":0,\"ticks\":\"\"}},\"marker\":{\"colorbar\":{\"outlinewidth\":0,\"ticks\":\"\"}},\"type\":\"scatter3d\"}],\"scattercarpet\":[{\"marker\":{\"colorbar\":{\"outlinewidth\":0,\"ticks\":\"\"}},\"type\":\"scattercarpet\"}],\"scattergeo\":[{\"marker\":{\"colorbar\":{\"outlinewidth\":0,\"ticks\":\"\"}},\"type\":\"scattergeo\"}],\"scattergl\":[{\"marker\":{\"colorbar\":{\"outlinewidth\":0,\"ticks\":\"\"}},\"type\":\"scattergl\"}],\"scattermapbox\":[{\"marker\":{\"colorbar\":{\"outlinewidth\":0,\"ticks\":\"\"}},\"type\":\"scattermapbox\"}],\"scatterpolargl\":[{\"marker\":{\"colorbar\":{\"outlinewidth\":0,\"ticks\":\"\"}},\"type\":\"scatterpolargl\"}],\"scatterpolar\":[{\"marker\":{\"colorbar\":{\"outlinewidth\":0,\"ticks\":\"\"}},\"type\":\"scatterpolar\"}],\"scatter\":[{\"fillpattern\":{\"fillmode\":\"overlay\",\"size\":10,\"solidity\":0.2},\"type\":\"scatter\"}],\"scatterternary\":[{\"marker\":{\"colorbar\":{\"outlinewidth\":0,\"ticks\":\"\"}},\"type\":\"scatterternary\"}],\"surface\":[{\"colorbar\":{\"outlinewidth\":0,\"ticks\":\"\"},\"colorscale\":[[0.0,\"#0d0887\"],[0.1111111111111111,\"#46039f\"],[0.2222222222222222,\"#7201a8\"],[0.3333333333333333,\"#9c179e\"],[0.4444444444444444,\"#bd3786\"],[0.5555555555555556,\"#d8576b\"],[0.6666666666666666,\"#ed7953\"],[0.7777777777777778,\"#fb9f3a\"],[0.8888888888888888,\"#fdca26\"],[1.0,\"#f0f921\"]],\"type\":\"surface\"}],\"table\":[{\"cells\":{\"fill\":{\"color\":\"#EBF0F8\"},\"line\":{\"color\":\"white\"}},\"header\":{\"fill\":{\"color\":\"#C8D4E3\"},\"line\":{\"color\":\"white\"}},\"type\":\"table\"}]},\"layout\":{\"annotationdefaults\":{\"arrowcolor\":\"#2a3f5f\",\"arrowhead\":0,\"arrowwidth\":1},\"autotypenumbers\":\"strict\",\"coloraxis\":{\"colorbar\":{\"outlinewidth\":0,\"ticks\":\"\"}},\"colorscale\":{\"diverging\":[[0,\"#8e0152\"],[0.1,\"#c51b7d\"],[0.2,\"#de77ae\"],[0.3,\"#f1b6da\"],[0.4,\"#fde0ef\"],[0.5,\"#f7f7f7\"],[0.6,\"#e6f5d0\"],[0.7,\"#b8e186\"],[0.8,\"#7fbc41\"],[0.9,\"#4d9221\"],[1,\"#276419\"]],\"sequential\":[[0.0,\"#0d0887\"],[0.1111111111111111,\"#46039f\"],[0.2222222222222222,\"#7201a8\"],[0.3333333333333333,\"#9c179e\"],[0.4444444444444444,\"#bd3786\"],[0.5555555555555556,\"#d8576b\"],[0.6666666666666666,\"#ed7953\"],[0.7777777777777778,\"#fb9f3a\"],[0.8888888888888888,\"#fdca26\"],[1.0,\"#f0f921\"]],\"sequentialminus\":[[0.0,\"#0d0887\"],[0.1111111111111111,\"#46039f\"],[0.2222222222222222,\"#7201a8\"],[0.3333333333333333,\"#9c179e\"],[0.4444444444444444,\"#bd3786\"],[0.5555555555555556,\"#d8576b\"],[0.6666666666666666,\"#ed7953\"],[0.7777777777777778,\"#fb9f3a\"],[0.8888888888888888,\"#fdca26\"],[1.0,\"#f0f921\"]]},\"colorway\":[\"#636efa\",\"#EF553B\",\"#00cc96\",\"#ab63fa\",\"#FFA15A\",\"#19d3f3\",\"#FF6692\",\"#B6E880\",\"#FF97FF\",\"#FECB52\"],\"font\":{\"color\":\"#2a3f5f\"},\"geo\":{\"bgcolor\":\"white\",\"lakecolor\":\"white\",\"landcolor\":\"#E5ECF6\",\"showlakes\":true,\"showland\":true,\"subunitcolor\":\"white\"},\"hoverlabel\":{\"align\":\"left\"},\"hovermode\":\"closest\",\"mapbox\":{\"style\":\"light\"},\"paper_bgcolor\":\"white\",\"plot_bgcolor\":\"#E5ECF6\",\"polar\":{\"angularaxis\":{\"gridcolor\":\"white\",\"linecolor\":\"white\",\"ticks\":\"\"},\"bgcolor\":\"#E5ECF6\",\"radialaxis\":{\"gridcolor\":\"white\",\"linecolor\":\"white\",\"ticks\":\"\"}},\"scene\":{\"xaxis\":{\"backgroundcolor\":\"#E5ECF6\",\"gridcolor\":\"white\",\"gridwidth\":2,\"linecolor\":\"white\",\"showbackground\":true,\"ticks\":\"\",\"zerolinecolor\":\"white\"},\"yaxis\":{\"backgroundcolor\":\"#E5ECF6\",\"gridcolor\":\"white\",\"gridwidth\":2,\"linecolor\":\"white\",\"showbackground\":true,\"ticks\":\"\",\"zerolinecolor\":\"white\"},\"zaxis\":{\"backgroundcolor\":\"#E5ECF6\",\"gridcolor\":\"white\",\"gridwidth\":2,\"linecolor\":\"white\",\"showbackground\":true,\"ticks\":\"\",\"zerolinecolor\":\"white\"}},\"shapedefaults\":{\"line\":{\"color\":\"#2a3f5f\"}},\"ternary\":{\"aaxis\":{\"gridcolor\":\"white\",\"linecolor\":\"white\",\"ticks\":\"\"},\"baxis\":{\"gridcolor\":\"white\",\"linecolor\":\"white\",\"ticks\":\"\"},\"bgcolor\":\"#E5ECF6\",\"caxis\":{\"gridcolor\":\"white\",\"linecolor\":\"white\",\"ticks\":\"\"}},\"title\":{\"x\":0.05},\"xaxis\":{\"automargin\":true,\"gridcolor\":\"white\",\"linecolor\":\"white\",\"ticks\":\"\",\"title\":{\"standoff\":15},\"zerolinecolor\":\"white\",\"zerolinewidth\":2},\"yaxis\":{\"automargin\":true,\"gridcolor\":\"white\",\"linecolor\":\"white\",\"ticks\":\"\",\"title\":{\"standoff\":15},\"zerolinecolor\":\"white\",\"zerolinewidth\":2}}},\"title\":{\"text\":\"Hello World\"}},                        {\"responsive\": true}                    ).then(function(){\n",
       "                            \n",
       "var gd = document.getElementById('77eb83f3-e875-4a2f-8c0a-dac04540b716');\n",
       "var x = new MutationObserver(function (mutations, observer) {{\n",
       "        var display = window.getComputedStyle(gd).display;\n",
       "        if (!display || display === 'none') {{\n",
       "            console.log([gd, 'removed!']);\n",
       "            Plotly.purge(gd);\n",
       "            observer.disconnect();\n",
       "        }}\n",
       "}});\n",
       "\n",
       "// Listen for the removal of the full notebook cells\n",
       "var notebookContainer = gd.closest('#notebook-container');\n",
       "if (notebookContainer) {{\n",
       "    x.observe(notebookContainer, {childList: true});\n",
       "}}\n",
       "\n",
       "// Listen for the clearing of the current output cell\n",
       "var outputEl = gd.closest('.output');\n",
       "if (outputEl) {{\n",
       "    x.observe(outputEl, {childList: true});\n",
       "}}\n",
       "\n",
       "                        })                };                });            </script>        </div>"
      ]
     },
     "metadata": {},
     "output_type": "display_data"
    }
   ],
   "source": [
    "# 畫折線圖\n",
    "from plotly.graph_objs import Scatter, Layout\n",
    "plotly.offline.init_notebook_mode(connected=True)\n",
    "plotly.offline.iplot({\n",
    "    \"data\": [Scatter(x=[1, 2, 3, 4], y=[4, 3, 2, 1])],\n",
    "    \"layout\": Layout(title=\"Hello World\")\n",
    "})"
   ]
  },
  {
   "cell_type": "markdown",
   "id": "daefd3c2",
   "metadata": {},
   "source": [
    "可以看到當滑鼠移到圖表上會出現一些icon做點選(互動式)，可以下載、上傳雲端、等等"
   ]
  },
  {
   "cell_type": "code",
   "execution_count": 65,
   "id": "9841fafc",
   "metadata": {},
   "outputs": [
    {
     "data": {
      "application/vnd.plotly.v1+json": {
       "config": {
        "linkText": "Export to plot.ly",
        "plotlyServerURL": "https://plot.ly",
        "showLink": false
       },
       "data": [
        {
         "mode": "markers",
         "name": "setosa",
         "type": "scatter",
         "x": [
          5.1,
          4.9,
          4.7,
          4.6,
          5,
          5.4,
          4.6,
          5,
          4.4,
          4.9,
          5.4,
          4.8,
          4.8,
          4.3,
          5.8,
          5.7,
          5.4,
          5.1,
          5.7,
          5.1,
          5.4,
          5.1,
          4.6,
          5.1,
          4.8,
          5,
          5,
          5.2,
          5.2,
          4.7,
          4.8,
          5.4,
          5.2,
          5.5,
          4.9,
          5,
          5.5,
          4.9,
          4.4,
          5.1,
          5,
          4.5,
          4.4,
          5,
          5.1,
          4.8,
          5.1,
          4.6,
          5.3,
          5
         ],
         "y": [
          3.5,
          3,
          3.2,
          3.1,
          3.6,
          3.9,
          3.4,
          3.4,
          2.9,
          3.1,
          3.7,
          3.4,
          3,
          3,
          4,
          4.4,
          3.9,
          3.5,
          3.8,
          3.8,
          3.4,
          3.7,
          3.6,
          3.3,
          3.4,
          3,
          3.4,
          3.5,
          3.4,
          3.2,
          3.1,
          3.4,
          4.1,
          4.2,
          3.1,
          3.2,
          3.5,
          3.6,
          3,
          3.4,
          3.5,
          2.3,
          3.2,
          3.5,
          3.8,
          3,
          3.8,
          3.2,
          3.7,
          3.3
         ]
        },
        {
         "mode": "markers",
         "name": "versicolor",
         "type": "scatter",
         "x": [
          7,
          6.4,
          6.9,
          5.5,
          6.5,
          5.7,
          6.3,
          4.9,
          6.6,
          5.2,
          5,
          5.9,
          6,
          6.1,
          5.6,
          6.7,
          5.6,
          5.8,
          6.2,
          5.6,
          5.9,
          6.1,
          6.3,
          6.1,
          6.4,
          6.6,
          6.8,
          6.7,
          6,
          5.7,
          5.5,
          5.5,
          5.8,
          6,
          5.4,
          6,
          6.7,
          6.3,
          5.6,
          5.5,
          5.5,
          6.1,
          5.8,
          5,
          5.6,
          5.7,
          5.7,
          6.2,
          5.1,
          5.7
         ],
         "y": [
          3.2,
          3.2,
          3.1,
          2.3,
          2.8,
          2.8,
          3.3,
          2.4,
          2.9,
          2.7,
          2,
          3,
          2.2,
          2.9,
          2.9,
          3.1,
          3,
          2.7,
          2.2,
          2.5,
          3.2,
          2.8,
          2.5,
          2.8,
          2.9,
          3,
          2.8,
          3,
          2.9,
          2.6,
          2.4,
          2.4,
          2.7,
          2.7,
          3,
          3.4,
          3.1,
          2.3,
          3,
          2.5,
          2.6,
          3,
          2.6,
          2.3,
          2.7,
          3,
          2.9,
          2.9,
          2.5,
          2.8
         ]
        },
        {
         "mode": "markers",
         "name": "virginica",
         "type": "scatter",
         "x": [
          6.3,
          5.8,
          7.1,
          6.3,
          6.5,
          7.6,
          4.9,
          7.3,
          6.7,
          7.2,
          6.5,
          6.4,
          6.8,
          5.7,
          5.8,
          6.4,
          6.5,
          7.7,
          7.7,
          6,
          6.9,
          5.6,
          7.7,
          6.3,
          6.7,
          7.2,
          6.2,
          6.1,
          6.4,
          7.2,
          7.4,
          7.9,
          6.4,
          6.3,
          6.1,
          7.7,
          6.3,
          6.4,
          6,
          6.9,
          6.7,
          6.9,
          5.8,
          6.8,
          6.7,
          6.7,
          6.3,
          6.5,
          6.2,
          5.9
         ],
         "y": [
          3.3,
          2.7,
          3,
          2.9,
          3,
          3,
          2.5,
          2.9,
          2.5,
          3.6,
          3.2,
          2.7,
          3,
          2.5,
          2.8,
          3.2,
          3,
          3.8,
          2.6,
          2.2,
          3.2,
          2.8,
          2.8,
          2.7,
          3.3,
          3.2,
          2.8,
          3,
          2.8,
          3,
          2.8,
          3.8,
          2.8,
          2.8,
          2.6,
          3,
          3.4,
          3.1,
          3,
          3.1,
          3.1,
          3.1,
          2.7,
          3.2,
          3.3,
          3,
          2.5,
          3,
          3.4,
          3
         ]
        }
       ],
       "layout": {
        "template": {
         "data": {
          "bar": [
           {
            "error_x": {
             "color": "#2a3f5f"
            },
            "error_y": {
             "color": "#2a3f5f"
            },
            "marker": {
             "line": {
              "color": "#E5ECF6",
              "width": 0.5
             },
             "pattern": {
              "fillmode": "overlay",
              "size": 10,
              "solidity": 0.2
             }
            },
            "type": "bar"
           }
          ],
          "barpolar": [
           {
            "marker": {
             "line": {
              "color": "#E5ECF6",
              "width": 0.5
             },
             "pattern": {
              "fillmode": "overlay",
              "size": 10,
              "solidity": 0.2
             }
            },
            "type": "barpolar"
           }
          ],
          "carpet": [
           {
            "aaxis": {
             "endlinecolor": "#2a3f5f",
             "gridcolor": "white",
             "linecolor": "white",
             "minorgridcolor": "white",
             "startlinecolor": "#2a3f5f"
            },
            "baxis": {
             "endlinecolor": "#2a3f5f",
             "gridcolor": "white",
             "linecolor": "white",
             "minorgridcolor": "white",
             "startlinecolor": "#2a3f5f"
            },
            "type": "carpet"
           }
          ],
          "choropleth": [
           {
            "colorbar": {
             "outlinewidth": 0,
             "ticks": ""
            },
            "type": "choropleth"
           }
          ],
          "contour": [
           {
            "colorbar": {
             "outlinewidth": 0,
             "ticks": ""
            },
            "colorscale": [
             [
              0,
              "#0d0887"
             ],
             [
              0.1111111111111111,
              "#46039f"
             ],
             [
              0.2222222222222222,
              "#7201a8"
             ],
             [
              0.3333333333333333,
              "#9c179e"
             ],
             [
              0.4444444444444444,
              "#bd3786"
             ],
             [
              0.5555555555555556,
              "#d8576b"
             ],
             [
              0.6666666666666666,
              "#ed7953"
             ],
             [
              0.7777777777777778,
              "#fb9f3a"
             ],
             [
              0.8888888888888888,
              "#fdca26"
             ],
             [
              1,
              "#f0f921"
             ]
            ],
            "type": "contour"
           }
          ],
          "contourcarpet": [
           {
            "colorbar": {
             "outlinewidth": 0,
             "ticks": ""
            },
            "type": "contourcarpet"
           }
          ],
          "heatmap": [
           {
            "colorbar": {
             "outlinewidth": 0,
             "ticks": ""
            },
            "colorscale": [
             [
              0,
              "#0d0887"
             ],
             [
              0.1111111111111111,
              "#46039f"
             ],
             [
              0.2222222222222222,
              "#7201a8"
             ],
             [
              0.3333333333333333,
              "#9c179e"
             ],
             [
              0.4444444444444444,
              "#bd3786"
             ],
             [
              0.5555555555555556,
              "#d8576b"
             ],
             [
              0.6666666666666666,
              "#ed7953"
             ],
             [
              0.7777777777777778,
              "#fb9f3a"
             ],
             [
              0.8888888888888888,
              "#fdca26"
             ],
             [
              1,
              "#f0f921"
             ]
            ],
            "type": "heatmap"
           }
          ],
          "heatmapgl": [
           {
            "colorbar": {
             "outlinewidth": 0,
             "ticks": ""
            },
            "colorscale": [
             [
              0,
              "#0d0887"
             ],
             [
              0.1111111111111111,
              "#46039f"
             ],
             [
              0.2222222222222222,
              "#7201a8"
             ],
             [
              0.3333333333333333,
              "#9c179e"
             ],
             [
              0.4444444444444444,
              "#bd3786"
             ],
             [
              0.5555555555555556,
              "#d8576b"
             ],
             [
              0.6666666666666666,
              "#ed7953"
             ],
             [
              0.7777777777777778,
              "#fb9f3a"
             ],
             [
              0.8888888888888888,
              "#fdca26"
             ],
             [
              1,
              "#f0f921"
             ]
            ],
            "type": "heatmapgl"
           }
          ],
          "histogram": [
           {
            "marker": {
             "pattern": {
              "fillmode": "overlay",
              "size": 10,
              "solidity": 0.2
             }
            },
            "type": "histogram"
           }
          ],
          "histogram2d": [
           {
            "colorbar": {
             "outlinewidth": 0,
             "ticks": ""
            },
            "colorscale": [
             [
              0,
              "#0d0887"
             ],
             [
              0.1111111111111111,
              "#46039f"
             ],
             [
              0.2222222222222222,
              "#7201a8"
             ],
             [
              0.3333333333333333,
              "#9c179e"
             ],
             [
              0.4444444444444444,
              "#bd3786"
             ],
             [
              0.5555555555555556,
              "#d8576b"
             ],
             [
              0.6666666666666666,
              "#ed7953"
             ],
             [
              0.7777777777777778,
              "#fb9f3a"
             ],
             [
              0.8888888888888888,
              "#fdca26"
             ],
             [
              1,
              "#f0f921"
             ]
            ],
            "type": "histogram2d"
           }
          ],
          "histogram2dcontour": [
           {
            "colorbar": {
             "outlinewidth": 0,
             "ticks": ""
            },
            "colorscale": [
             [
              0,
              "#0d0887"
             ],
             [
              0.1111111111111111,
              "#46039f"
             ],
             [
              0.2222222222222222,
              "#7201a8"
             ],
             [
              0.3333333333333333,
              "#9c179e"
             ],
             [
              0.4444444444444444,
              "#bd3786"
             ],
             [
              0.5555555555555556,
              "#d8576b"
             ],
             [
              0.6666666666666666,
              "#ed7953"
             ],
             [
              0.7777777777777778,
              "#fb9f3a"
             ],
             [
              0.8888888888888888,
              "#fdca26"
             ],
             [
              1,
              "#f0f921"
             ]
            ],
            "type": "histogram2dcontour"
           }
          ],
          "mesh3d": [
           {
            "colorbar": {
             "outlinewidth": 0,
             "ticks": ""
            },
            "type": "mesh3d"
           }
          ],
          "parcoords": [
           {
            "line": {
             "colorbar": {
              "outlinewidth": 0,
              "ticks": ""
             }
            },
            "type": "parcoords"
           }
          ],
          "pie": [
           {
            "automargin": true,
            "type": "pie"
           }
          ],
          "scatter": [
           {
            "fillpattern": {
             "fillmode": "overlay",
             "size": 10,
             "solidity": 0.2
            },
            "type": "scatter"
           }
          ],
          "scatter3d": [
           {
            "line": {
             "colorbar": {
              "outlinewidth": 0,
              "ticks": ""
             }
            },
            "marker": {
             "colorbar": {
              "outlinewidth": 0,
              "ticks": ""
             }
            },
            "type": "scatter3d"
           }
          ],
          "scattercarpet": [
           {
            "marker": {
             "colorbar": {
              "outlinewidth": 0,
              "ticks": ""
             }
            },
            "type": "scattercarpet"
           }
          ],
          "scattergeo": [
           {
            "marker": {
             "colorbar": {
              "outlinewidth": 0,
              "ticks": ""
             }
            },
            "type": "scattergeo"
           }
          ],
          "scattergl": [
           {
            "marker": {
             "colorbar": {
              "outlinewidth": 0,
              "ticks": ""
             }
            },
            "type": "scattergl"
           }
          ],
          "scattermapbox": [
           {
            "marker": {
             "colorbar": {
              "outlinewidth": 0,
              "ticks": ""
             }
            },
            "type": "scattermapbox"
           }
          ],
          "scatterpolar": [
           {
            "marker": {
             "colorbar": {
              "outlinewidth": 0,
              "ticks": ""
             }
            },
            "type": "scatterpolar"
           }
          ],
          "scatterpolargl": [
           {
            "marker": {
             "colorbar": {
              "outlinewidth": 0,
              "ticks": ""
             }
            },
            "type": "scatterpolargl"
           }
          ],
          "scatterternary": [
           {
            "marker": {
             "colorbar": {
              "outlinewidth": 0,
              "ticks": ""
             }
            },
            "type": "scatterternary"
           }
          ],
          "surface": [
           {
            "colorbar": {
             "outlinewidth": 0,
             "ticks": ""
            },
            "colorscale": [
             [
              0,
              "#0d0887"
             ],
             [
              0.1111111111111111,
              "#46039f"
             ],
             [
              0.2222222222222222,
              "#7201a8"
             ],
             [
              0.3333333333333333,
              "#9c179e"
             ],
             [
              0.4444444444444444,
              "#bd3786"
             ],
             [
              0.5555555555555556,
              "#d8576b"
             ],
             [
              0.6666666666666666,
              "#ed7953"
             ],
             [
              0.7777777777777778,
              "#fb9f3a"
             ],
             [
              0.8888888888888888,
              "#fdca26"
             ],
             [
              1,
              "#f0f921"
             ]
            ],
            "type": "surface"
           }
          ],
          "table": [
           {
            "cells": {
             "fill": {
              "color": "#EBF0F8"
             },
             "line": {
              "color": "white"
             }
            },
            "header": {
             "fill": {
              "color": "#C8D4E3"
             },
             "line": {
              "color": "white"
             }
            },
            "type": "table"
           }
          ]
         },
         "layout": {
          "annotationdefaults": {
           "arrowcolor": "#2a3f5f",
           "arrowhead": 0,
           "arrowwidth": 1
          },
          "autotypenumbers": "strict",
          "coloraxis": {
           "colorbar": {
            "outlinewidth": 0,
            "ticks": ""
           }
          },
          "colorscale": {
           "diverging": [
            [
             0,
             "#8e0152"
            ],
            [
             0.1,
             "#c51b7d"
            ],
            [
             0.2,
             "#de77ae"
            ],
            [
             0.3,
             "#f1b6da"
            ],
            [
             0.4,
             "#fde0ef"
            ],
            [
             0.5,
             "#f7f7f7"
            ],
            [
             0.6,
             "#e6f5d0"
            ],
            [
             0.7,
             "#b8e186"
            ],
            [
             0.8,
             "#7fbc41"
            ],
            [
             0.9,
             "#4d9221"
            ],
            [
             1,
             "#276419"
            ]
           ],
           "sequential": [
            [
             0,
             "#0d0887"
            ],
            [
             0.1111111111111111,
             "#46039f"
            ],
            [
             0.2222222222222222,
             "#7201a8"
            ],
            [
             0.3333333333333333,
             "#9c179e"
            ],
            [
             0.4444444444444444,
             "#bd3786"
            ],
            [
             0.5555555555555556,
             "#d8576b"
            ],
            [
             0.6666666666666666,
             "#ed7953"
            ],
            [
             0.7777777777777778,
             "#fb9f3a"
            ],
            [
             0.8888888888888888,
             "#fdca26"
            ],
            [
             1,
             "#f0f921"
            ]
           ],
           "sequentialminus": [
            [
             0,
             "#0d0887"
            ],
            [
             0.1111111111111111,
             "#46039f"
            ],
            [
             0.2222222222222222,
             "#7201a8"
            ],
            [
             0.3333333333333333,
             "#9c179e"
            ],
            [
             0.4444444444444444,
             "#bd3786"
            ],
            [
             0.5555555555555556,
             "#d8576b"
            ],
            [
             0.6666666666666666,
             "#ed7953"
            ],
            [
             0.7777777777777778,
             "#fb9f3a"
            ],
            [
             0.8888888888888888,
             "#fdca26"
            ],
            [
             1,
             "#f0f921"
            ]
           ]
          },
          "colorway": [
           "#636efa",
           "#EF553B",
           "#00cc96",
           "#ab63fa",
           "#FFA15A",
           "#19d3f3",
           "#FF6692",
           "#B6E880",
           "#FF97FF",
           "#FECB52"
          ],
          "font": {
           "color": "#2a3f5f"
          },
          "geo": {
           "bgcolor": "white",
           "lakecolor": "white",
           "landcolor": "#E5ECF6",
           "showlakes": true,
           "showland": true,
           "subunitcolor": "white"
          },
          "hoverlabel": {
           "align": "left"
          },
          "hovermode": "closest",
          "mapbox": {
           "style": "light"
          },
          "paper_bgcolor": "white",
          "plot_bgcolor": "#E5ECF6",
          "polar": {
           "angularaxis": {
            "gridcolor": "white",
            "linecolor": "white",
            "ticks": ""
           },
           "bgcolor": "#E5ECF6",
           "radialaxis": {
            "gridcolor": "white",
            "linecolor": "white",
            "ticks": ""
           }
          },
          "scene": {
           "xaxis": {
            "backgroundcolor": "#E5ECF6",
            "gridcolor": "white",
            "gridwidth": 2,
            "linecolor": "white",
            "showbackground": true,
            "ticks": "",
            "zerolinecolor": "white"
           },
           "yaxis": {
            "backgroundcolor": "#E5ECF6",
            "gridcolor": "white",
            "gridwidth": 2,
            "linecolor": "white",
            "showbackground": true,
            "ticks": "",
            "zerolinecolor": "white"
           },
           "zaxis": {
            "backgroundcolor": "#E5ECF6",
            "gridcolor": "white",
            "gridwidth": 2,
            "linecolor": "white",
            "showbackground": true,
            "ticks": "",
            "zerolinecolor": "white"
           }
          },
          "shapedefaults": {
           "line": {
            "color": "#2a3f5f"
           }
          },
          "ternary": {
           "aaxis": {
            "gridcolor": "white",
            "linecolor": "white",
            "ticks": ""
           },
           "baxis": {
            "gridcolor": "white",
            "linecolor": "white",
            "ticks": ""
           },
           "bgcolor": "#E5ECF6",
           "caxis": {
            "gridcolor": "white",
            "linecolor": "white",
            "ticks": ""
           }
          },
          "title": {
           "x": 0.05
          },
          "xaxis": {
           "automargin": true,
           "gridcolor": "white",
           "linecolor": "white",
           "ticks": "",
           "title": {
            "standoff": 15
           },
           "zerolinecolor": "white",
           "zerolinewidth": 2
          },
          "yaxis": {
           "automargin": true,
           "gridcolor": "white",
           "linecolor": "white",
           "ticks": "",
           "title": {
            "standoff": 15
           },
           "zerolinecolor": "white",
           "zerolinewidth": 2
          }
         }
        }
       }
      },
      "text/html": [
       "<div>                            <div id=\"51ab0347-afa7-4eb1-bb25-e2ca45e3fcd7\" class=\"plotly-graph-div\" style=\"height:525px; width:100%;\"></div>            <script type=\"text/javascript\">                require([\"plotly\"], function(Plotly) {                    window.PLOTLYENV=window.PLOTLYENV || {};                                    if (document.getElementById(\"51ab0347-afa7-4eb1-bb25-e2ca45e3fcd7\")) {                    Plotly.newPlot(                        \"51ab0347-afa7-4eb1-bb25-e2ca45e3fcd7\",                        [{\"mode\":\"markers\",\"name\":\"setosa\",\"x\":[5.1,4.9,4.7,4.6,5.0,5.4,4.6,5.0,4.4,4.9,5.4,4.8,4.8,4.3,5.8,5.7,5.4,5.1,5.7,5.1,5.4,5.1,4.6,5.1,4.8,5.0,5.0,5.2,5.2,4.7,4.8,5.4,5.2,5.5,4.9,5.0,5.5,4.9,4.4,5.1,5.0,4.5,4.4,5.0,5.1,4.8,5.1,4.6,5.3,5.0],\"y\":[3.5,3.0,3.2,3.1,3.6,3.9,3.4,3.4,2.9,3.1,3.7,3.4,3.0,3.0,4.0,4.4,3.9,3.5,3.8,3.8,3.4,3.7,3.6,3.3,3.4,3.0,3.4,3.5,3.4,3.2,3.1,3.4,4.1,4.2,3.1,3.2,3.5,3.6,3.0,3.4,3.5,2.3,3.2,3.5,3.8,3.0,3.8,3.2,3.7,3.3],\"type\":\"scatter\"},{\"mode\":\"markers\",\"name\":\"versicolor\",\"x\":[7.0,6.4,6.9,5.5,6.5,5.7,6.3,4.9,6.6,5.2,5.0,5.9,6.0,6.1,5.6,6.7,5.6,5.8,6.2,5.6,5.9,6.1,6.3,6.1,6.4,6.6,6.8,6.7,6.0,5.7,5.5,5.5,5.8,6.0,5.4,6.0,6.7,6.3,5.6,5.5,5.5,6.1,5.8,5.0,5.6,5.7,5.7,6.2,5.1,5.7],\"y\":[3.2,3.2,3.1,2.3,2.8,2.8,3.3,2.4,2.9,2.7,2.0,3.0,2.2,2.9,2.9,3.1,3.0,2.7,2.2,2.5,3.2,2.8,2.5,2.8,2.9,3.0,2.8,3.0,2.9,2.6,2.4,2.4,2.7,2.7,3.0,3.4,3.1,2.3,3.0,2.5,2.6,3.0,2.6,2.3,2.7,3.0,2.9,2.9,2.5,2.8],\"type\":\"scatter\"},{\"mode\":\"markers\",\"name\":\"virginica\",\"x\":[6.3,5.8,7.1,6.3,6.5,7.6,4.9,7.3,6.7,7.2,6.5,6.4,6.8,5.7,5.8,6.4,6.5,7.7,7.7,6.0,6.9,5.6,7.7,6.3,6.7,7.2,6.2,6.1,6.4,7.2,7.4,7.9,6.4,6.3,6.1,7.7,6.3,6.4,6.0,6.9,6.7,6.9,5.8,6.8,6.7,6.7,6.3,6.5,6.2,5.9],\"y\":[3.3,2.7,3.0,2.9,3.0,3.0,2.5,2.9,2.5,3.6,3.2,2.7,3.0,2.5,2.8,3.2,3.0,3.8,2.6,2.2,3.2,2.8,2.8,2.7,3.3,3.2,2.8,3.0,2.8,3.0,2.8,3.8,2.8,2.8,2.6,3.0,3.4,3.1,3.0,3.1,3.1,3.1,2.7,3.2,3.3,3.0,2.5,3.0,3.4,3.0],\"type\":\"scatter\"}],                        {\"template\":{\"data\":{\"barpolar\":[{\"marker\":{\"line\":{\"color\":\"#E5ECF6\",\"width\":0.5},\"pattern\":{\"fillmode\":\"overlay\",\"size\":10,\"solidity\":0.2}},\"type\":\"barpolar\"}],\"bar\":[{\"error_x\":{\"color\":\"#2a3f5f\"},\"error_y\":{\"color\":\"#2a3f5f\"},\"marker\":{\"line\":{\"color\":\"#E5ECF6\",\"width\":0.5},\"pattern\":{\"fillmode\":\"overlay\",\"size\":10,\"solidity\":0.2}},\"type\":\"bar\"}],\"carpet\":[{\"aaxis\":{\"endlinecolor\":\"#2a3f5f\",\"gridcolor\":\"white\",\"linecolor\":\"white\",\"minorgridcolor\":\"white\",\"startlinecolor\":\"#2a3f5f\"},\"baxis\":{\"endlinecolor\":\"#2a3f5f\",\"gridcolor\":\"white\",\"linecolor\":\"white\",\"minorgridcolor\":\"white\",\"startlinecolor\":\"#2a3f5f\"},\"type\":\"carpet\"}],\"choropleth\":[{\"colorbar\":{\"outlinewidth\":0,\"ticks\":\"\"},\"type\":\"choropleth\"}],\"contourcarpet\":[{\"colorbar\":{\"outlinewidth\":0,\"ticks\":\"\"},\"type\":\"contourcarpet\"}],\"contour\":[{\"colorbar\":{\"outlinewidth\":0,\"ticks\":\"\"},\"colorscale\":[[0.0,\"#0d0887\"],[0.1111111111111111,\"#46039f\"],[0.2222222222222222,\"#7201a8\"],[0.3333333333333333,\"#9c179e\"],[0.4444444444444444,\"#bd3786\"],[0.5555555555555556,\"#d8576b\"],[0.6666666666666666,\"#ed7953\"],[0.7777777777777778,\"#fb9f3a\"],[0.8888888888888888,\"#fdca26\"],[1.0,\"#f0f921\"]],\"type\":\"contour\"}],\"heatmapgl\":[{\"colorbar\":{\"outlinewidth\":0,\"ticks\":\"\"},\"colorscale\":[[0.0,\"#0d0887\"],[0.1111111111111111,\"#46039f\"],[0.2222222222222222,\"#7201a8\"],[0.3333333333333333,\"#9c179e\"],[0.4444444444444444,\"#bd3786\"],[0.5555555555555556,\"#d8576b\"],[0.6666666666666666,\"#ed7953\"],[0.7777777777777778,\"#fb9f3a\"],[0.8888888888888888,\"#fdca26\"],[1.0,\"#f0f921\"]],\"type\":\"heatmapgl\"}],\"heatmap\":[{\"colorbar\":{\"outlinewidth\":0,\"ticks\":\"\"},\"colorscale\":[[0.0,\"#0d0887\"],[0.1111111111111111,\"#46039f\"],[0.2222222222222222,\"#7201a8\"],[0.3333333333333333,\"#9c179e\"],[0.4444444444444444,\"#bd3786\"],[0.5555555555555556,\"#d8576b\"],[0.6666666666666666,\"#ed7953\"],[0.7777777777777778,\"#fb9f3a\"],[0.8888888888888888,\"#fdca26\"],[1.0,\"#f0f921\"]],\"type\":\"heatmap\"}],\"histogram2dcontour\":[{\"colorbar\":{\"outlinewidth\":0,\"ticks\":\"\"},\"colorscale\":[[0.0,\"#0d0887\"],[0.1111111111111111,\"#46039f\"],[0.2222222222222222,\"#7201a8\"],[0.3333333333333333,\"#9c179e\"],[0.4444444444444444,\"#bd3786\"],[0.5555555555555556,\"#d8576b\"],[0.6666666666666666,\"#ed7953\"],[0.7777777777777778,\"#fb9f3a\"],[0.8888888888888888,\"#fdca26\"],[1.0,\"#f0f921\"]],\"type\":\"histogram2dcontour\"}],\"histogram2d\":[{\"colorbar\":{\"outlinewidth\":0,\"ticks\":\"\"},\"colorscale\":[[0.0,\"#0d0887\"],[0.1111111111111111,\"#46039f\"],[0.2222222222222222,\"#7201a8\"],[0.3333333333333333,\"#9c179e\"],[0.4444444444444444,\"#bd3786\"],[0.5555555555555556,\"#d8576b\"],[0.6666666666666666,\"#ed7953\"],[0.7777777777777778,\"#fb9f3a\"],[0.8888888888888888,\"#fdca26\"],[1.0,\"#f0f921\"]],\"type\":\"histogram2d\"}],\"histogram\":[{\"marker\":{\"pattern\":{\"fillmode\":\"overlay\",\"size\":10,\"solidity\":0.2}},\"type\":\"histogram\"}],\"mesh3d\":[{\"colorbar\":{\"outlinewidth\":0,\"ticks\":\"\"},\"type\":\"mesh3d\"}],\"parcoords\":[{\"line\":{\"colorbar\":{\"outlinewidth\":0,\"ticks\":\"\"}},\"type\":\"parcoords\"}],\"pie\":[{\"automargin\":true,\"type\":\"pie\"}],\"scatter3d\":[{\"line\":{\"colorbar\":{\"outlinewidth\":0,\"ticks\":\"\"}},\"marker\":{\"colorbar\":{\"outlinewidth\":0,\"ticks\":\"\"}},\"type\":\"scatter3d\"}],\"scattercarpet\":[{\"marker\":{\"colorbar\":{\"outlinewidth\":0,\"ticks\":\"\"}},\"type\":\"scattercarpet\"}],\"scattergeo\":[{\"marker\":{\"colorbar\":{\"outlinewidth\":0,\"ticks\":\"\"}},\"type\":\"scattergeo\"}],\"scattergl\":[{\"marker\":{\"colorbar\":{\"outlinewidth\":0,\"ticks\":\"\"}},\"type\":\"scattergl\"}],\"scattermapbox\":[{\"marker\":{\"colorbar\":{\"outlinewidth\":0,\"ticks\":\"\"}},\"type\":\"scattermapbox\"}],\"scatterpolargl\":[{\"marker\":{\"colorbar\":{\"outlinewidth\":0,\"ticks\":\"\"}},\"type\":\"scatterpolargl\"}],\"scatterpolar\":[{\"marker\":{\"colorbar\":{\"outlinewidth\":0,\"ticks\":\"\"}},\"type\":\"scatterpolar\"}],\"scatter\":[{\"fillpattern\":{\"fillmode\":\"overlay\",\"size\":10,\"solidity\":0.2},\"type\":\"scatter\"}],\"scatterternary\":[{\"marker\":{\"colorbar\":{\"outlinewidth\":0,\"ticks\":\"\"}},\"type\":\"scatterternary\"}],\"surface\":[{\"colorbar\":{\"outlinewidth\":0,\"ticks\":\"\"},\"colorscale\":[[0.0,\"#0d0887\"],[0.1111111111111111,\"#46039f\"],[0.2222222222222222,\"#7201a8\"],[0.3333333333333333,\"#9c179e\"],[0.4444444444444444,\"#bd3786\"],[0.5555555555555556,\"#d8576b\"],[0.6666666666666666,\"#ed7953\"],[0.7777777777777778,\"#fb9f3a\"],[0.8888888888888888,\"#fdca26\"],[1.0,\"#f0f921\"]],\"type\":\"surface\"}],\"table\":[{\"cells\":{\"fill\":{\"color\":\"#EBF0F8\"},\"line\":{\"color\":\"white\"}},\"header\":{\"fill\":{\"color\":\"#C8D4E3\"},\"line\":{\"color\":\"white\"}},\"type\":\"table\"}]},\"layout\":{\"annotationdefaults\":{\"arrowcolor\":\"#2a3f5f\",\"arrowhead\":0,\"arrowwidth\":1},\"autotypenumbers\":\"strict\",\"coloraxis\":{\"colorbar\":{\"outlinewidth\":0,\"ticks\":\"\"}},\"colorscale\":{\"diverging\":[[0,\"#8e0152\"],[0.1,\"#c51b7d\"],[0.2,\"#de77ae\"],[0.3,\"#f1b6da\"],[0.4,\"#fde0ef\"],[0.5,\"#f7f7f7\"],[0.6,\"#e6f5d0\"],[0.7,\"#b8e186\"],[0.8,\"#7fbc41\"],[0.9,\"#4d9221\"],[1,\"#276419\"]],\"sequential\":[[0.0,\"#0d0887\"],[0.1111111111111111,\"#46039f\"],[0.2222222222222222,\"#7201a8\"],[0.3333333333333333,\"#9c179e\"],[0.4444444444444444,\"#bd3786\"],[0.5555555555555556,\"#d8576b\"],[0.6666666666666666,\"#ed7953\"],[0.7777777777777778,\"#fb9f3a\"],[0.8888888888888888,\"#fdca26\"],[1.0,\"#f0f921\"]],\"sequentialminus\":[[0.0,\"#0d0887\"],[0.1111111111111111,\"#46039f\"],[0.2222222222222222,\"#7201a8\"],[0.3333333333333333,\"#9c179e\"],[0.4444444444444444,\"#bd3786\"],[0.5555555555555556,\"#d8576b\"],[0.6666666666666666,\"#ed7953\"],[0.7777777777777778,\"#fb9f3a\"],[0.8888888888888888,\"#fdca26\"],[1.0,\"#f0f921\"]]},\"colorway\":[\"#636efa\",\"#EF553B\",\"#00cc96\",\"#ab63fa\",\"#FFA15A\",\"#19d3f3\",\"#FF6692\",\"#B6E880\",\"#FF97FF\",\"#FECB52\"],\"font\":{\"color\":\"#2a3f5f\"},\"geo\":{\"bgcolor\":\"white\",\"lakecolor\":\"white\",\"landcolor\":\"#E5ECF6\",\"showlakes\":true,\"showland\":true,\"subunitcolor\":\"white\"},\"hoverlabel\":{\"align\":\"left\"},\"hovermode\":\"closest\",\"mapbox\":{\"style\":\"light\"},\"paper_bgcolor\":\"white\",\"plot_bgcolor\":\"#E5ECF6\",\"polar\":{\"angularaxis\":{\"gridcolor\":\"white\",\"linecolor\":\"white\",\"ticks\":\"\"},\"bgcolor\":\"#E5ECF6\",\"radialaxis\":{\"gridcolor\":\"white\",\"linecolor\":\"white\",\"ticks\":\"\"}},\"scene\":{\"xaxis\":{\"backgroundcolor\":\"#E5ECF6\",\"gridcolor\":\"white\",\"gridwidth\":2,\"linecolor\":\"white\",\"showbackground\":true,\"ticks\":\"\",\"zerolinecolor\":\"white\"},\"yaxis\":{\"backgroundcolor\":\"#E5ECF6\",\"gridcolor\":\"white\",\"gridwidth\":2,\"linecolor\":\"white\",\"showbackground\":true,\"ticks\":\"\",\"zerolinecolor\":\"white\"},\"zaxis\":{\"backgroundcolor\":\"#E5ECF6\",\"gridcolor\":\"white\",\"gridwidth\":2,\"linecolor\":\"white\",\"showbackground\":true,\"ticks\":\"\",\"zerolinecolor\":\"white\"}},\"shapedefaults\":{\"line\":{\"color\":\"#2a3f5f\"}},\"ternary\":{\"aaxis\":{\"gridcolor\":\"white\",\"linecolor\":\"white\",\"ticks\":\"\"},\"baxis\":{\"gridcolor\":\"white\",\"linecolor\":\"white\",\"ticks\":\"\"},\"bgcolor\":\"#E5ECF6\",\"caxis\":{\"gridcolor\":\"white\",\"linecolor\":\"white\",\"ticks\":\"\"}},\"title\":{\"x\":0.05},\"xaxis\":{\"automargin\":true,\"gridcolor\":\"white\",\"linecolor\":\"white\",\"ticks\":\"\",\"title\":{\"standoff\":15},\"zerolinecolor\":\"white\",\"zerolinewidth\":2},\"yaxis\":{\"automargin\":true,\"gridcolor\":\"white\",\"linecolor\":\"white\",\"ticks\":\"\",\"title\":{\"standoff\":15},\"zerolinecolor\":\"white\",\"zerolinewidth\":2}}}},                        {\"responsive\": true}                    ).then(function(){\n",
       "                            \n",
       "var gd = document.getElementById('51ab0347-afa7-4eb1-bb25-e2ca45e3fcd7');\n",
       "var x = new MutationObserver(function (mutations, observer) {{\n",
       "        var display = window.getComputedStyle(gd).display;\n",
       "        if (!display || display === 'none') {{\n",
       "            console.log([gd, 'removed!']);\n",
       "            Plotly.purge(gd);\n",
       "            observer.disconnect();\n",
       "        }}\n",
       "}});\n",
       "\n",
       "// Listen for the removal of the full notebook cells\n",
       "var notebookContainer = gd.closest('#notebook-container');\n",
       "if (notebookContainer) {{\n",
       "    x.observe(notebookContainer, {childList: true});\n",
       "}}\n",
       "\n",
       "// Listen for the clearing of the current output cell\n",
       "var outputEl = gd.closest('.output');\n",
       "if (outputEl) {{\n",
       "    x.observe(outputEl, {childList: true});\n",
       "}}\n",
       "\n",
       "                        })                };                });            </script>        </div>"
      ]
     },
     "metadata": {},
     "output_type": "display_data"
    }
   ],
   "source": [
    "# 用iris做出散佈圖\n",
    "# 首先要先做出三筆資料(三個種類)\n",
    "\n",
    "# 記得import~~\n",
    "# ps:plotly.plotly已經棄用了，要先install chart_studio在import\n",
    "import chart_studio.plotly as py\n",
    "import plotly.graph_objs as go\n",
    "\n",
    "# 種類:0 setosa\n",
    "trace0 = go.Scatter(\n",
    "    x = iris_data[iris_data['target'] == 0]['sepal length (cm)'],  # 先篩選出種類0，x軸是花萼長度\n",
    "    y = iris_data[iris_data['target'] == 0]['sepal width (cm)'],  # 先篩選出種類0，x軸是花萼寬度\n",
    "    mode = 'markers',  # markers是散佈圖\n",
    "    name = 'setosa'\n",
    ")\n",
    "# 種類:1 versicolor\n",
    "trace1 = go.Scatter(\n",
    "    x = iris_data[iris_data['target'] == 1]['sepal length (cm)'],  # 先篩選出種類0，x軸是花萼長度\n",
    "    y = iris_data[iris_data['target'] == 1]['sepal width (cm)'],  # 先篩選出種類0，x軸是花萼寬度\n",
    "    mode = 'markers',  # markers是散佈圖\n",
    "    name = 'versicolor'\n",
    ")\n",
    "# 種類:2 virginica\n",
    "trace2 = go.Scatter(\n",
    "    x = iris_data[iris_data['target'] == 2]['sepal length (cm)'],  # 先篩選出種類0，x軸是花萼長度\n",
    "    y = iris_data[iris_data['target'] == 2]['sepal width (cm)'],  # 先篩選出種類0，x軸是花萼寬度\n",
    "    mode = 'markers',  # markers是散佈圖\n",
    "    name = 'virginica'\n",
    ")\n",
    "\n",
    "# 把資料都放到data裡面\n",
    "data = [trace0, trace1, trace2]\n",
    "plotly.offline.iplot(data, filename = 'iris-scatter')"
   ]
  },
  {
   "cell_type": "markdown",
   "id": "0244da3a",
   "metadata": {},
   "source": [
    "### 用Plotly做酷炫的3D圖"
   ]
  },
  {
   "cell_type": "code",
   "execution_count": 74,
   "id": "fc4fce74",
   "metadata": {},
   "outputs": [
    {
     "data": {
      "application/vnd.plotly.v1+json": {
       "config": {
        "linkText": "Export to plot.ly",
        "plotlyServerURL": "https://plot.ly",
        "showLink": false
       },
       "data": [
        {
         "marker": {
          "color": [
           0.40835560255706077,
           -0.21004072098293242,
           -2.0207073267203755,
           -0.32473176994342756,
           0.3110125758972808,
           -0.051093645747424477,
           -0.870581971420156,
           0.2944189015426119,
           1.276650830848768,
           -1.4786234580425308,
           -0.08953917799712363,
           0.8492938246145604,
           -1.3079250551396504,
           0.9601382906413987,
           -1.1376450357696632,
           -0.36447762872483624,
           -1.5425806435578657,
           -1.445430275943427,
           -0.49808756221222206,
           -1.0153276007267353,
           -0.28967129548650616,
           0.797072477823345,
           0.2580318564190278,
           -0.427827242511894,
           1.358528377935598,
           -0.3472537109962571,
           0.33109880496144717,
           -0.43439176509127503,
           -0.7457297396287799,
           -1.0859494210913518,
           -0.6705345438905885,
           1.2007220633929363,
           -0.07884605085836044,
           1.0491138226076733,
           -1.8779815968275368,
           0.7960720836257463,
           -1.1405115515649484,
           2.4474817569542218,
           -2.4834064243415295,
           -1.37613219704612,
           0.36928854275637013,
           -3.706721592784068,
           0.7592966892956677,
           -0.11992286605990682,
           -0.4747391310281048,
           -0.2580674985444094,
           -0.8902666985643083,
           0.07381230471014497,
           -1.8696390739834574,
           -0.6980279275349909,
           -0.5671371957724465,
           -0.9357896177012919,
           0.35245574006875496,
           0.25481218169093944,
           -0.8339008773235252,
           1.6282500637635566,
           0.14949340000260225,
           0.33934624473432373,
           1.0886619455904039,
           -1.0194102437213235,
           -1.4029578596079357,
           0.4997372039247602,
           -0.3632864715146479,
           -1.5166592954120208,
           -0.5151466466341708,
           -1.2468995267294303,
           -0.4713419950286553,
           -1.4131146997683903,
           1.1054200801493579,
           -0.6629588055060461,
           2.1150455858380326,
           0.43838918692536144,
           -1.263542337142275,
           -0.07434030951859652,
           0.43189031077131895,
           -0.12535829567912715,
           -1.2676760741401292,
           -1.121701440354432,
           1.654649648402798,
           2.256460374535665,
           0.18184523060232188,
           0.9652295544337085,
           0.1342638063886732,
           0.44835784891077196,
           0.09865340521465062,
           0.06642863860792514,
           -0.807444558610546,
           0.641331002658382,
           -0.46117740621648884,
           -1.371760351313308,
           0.33374982052196117,
           1.293940748313904,
           -0.41618467632808526,
           0.528951384641219,
           0.6119682935559636,
           -1.0581816342405603,
           0.17588316424196412,
           -1.3994533917176757,
           -0.2679284820617998,
           1.780539002106321,
           0.062042327883181335,
           1.2594089382483045,
           0.05763508287290616,
           -0.45874544647839255,
           0.6019656870323453,
           0.5964615761478025,
           0.926132508866573,
           -1.9452851721285598,
           -0.0680390981974547,
           0.2887258987355181,
           -0.5383474542369819,
           -0.18851601375557783,
           0.09814431742822127,
           0.5815149091293378,
           0.9155213184557504,
           -0.5207875679697496,
           -1.2710657016811355,
           -0.39921170559752206,
           0.7238654141296351,
           0.9805824863944096,
           -0.8710617395038496,
           -0.7055325913931518,
           0.038092673484472046,
           -1.2822634202885443,
           1.4608706647547223,
           -1.337551606287019,
           -0.8407803263232149,
           2.0997113552736275,
           -1.5186514680723366,
           -0.5905843295711244,
           1.367025054309403,
           -0.23804213481397224,
           0.3118450162812762,
           0.8917223886646173,
           1.9514314091882456,
           -0.3550611620444512,
           -1.6210401281471185,
           0.6704905277694153,
           -0.39008097413367254,
           1.7708019151736365,
           1.8658401145499113,
           1.4815317300009783,
           1.2344134468323587,
           -0.20778404491235022,
           1.3603386566622346,
           0.741832059492397,
           -0.12863993358832462,
           0.2978165913442716,
           0.8020836187578216,
           1.0448744708549624,
           -0.8234651772480028,
           0.42457365578302475,
           0.6079077677955959,
           -1.1463397929263908,
           -0.5004098172228498,
           3.5062580823252913,
           -0.4039036989253977,
           1.0541799322659815,
           0.19479298625516303,
           0.2576627350423931,
           0.1025938185936029,
           -0.06147148645960633,
           1.3375498170512046,
           0.4156557489025414,
           0.7907490243929927,
           -0.5347952187324845,
           1.3709662315017401,
           0.873628658272098,
           -0.8796515675712603,
           0.8943282558644146,
           -1.726386426758728,
           -0.6667055394232804,
           1.3735306205545614,
           -0.2685156195916061,
           -0.443338637575417,
           0.18961977556502876,
           0.32145256003644024,
           -0.6159653005253385,
           -1.2134931955859,
           -0.234314390817687,
           -0.7218200761122383,
           0.5001590801470418,
           -0.11459233737599568,
           0.9781056840709094,
           0.4909495020037021,
           0.9139818038180761,
           2.938423570387447,
           -0.0840785457814737,
           -1.9857127593793291,
           -0.9927604846238429,
           -1.174861794378022,
           1.1926240755425708,
           -0.7912781555022763,
           0.9835889153657343,
           1.1853131416831852,
           1.4957087172404155,
           -0.7431413651743188,
           -1.2698204299452407,
           0.9245579180831063,
           -1.0243686335454847,
           -0.3467957722854456,
           1.0960875387374183,
           -0.8613445131301887,
           0.5786962521099694,
           -1.0916382639622892,
           -1.4224720266998698,
           -0.5312700065340116,
           -0.7441287809463847,
           0.5994546152336906,
           1.0960347628999687,
           1.4844045572885805,
           -0.9694458548958786,
           0.15819591596490218,
           0.21408888558776093,
           1.2105658550055214,
           -0.42879354922132396,
           -0.22263163675443182,
           0.8119374613402669,
           -2.2172805928618797,
           -0.4816398530041627,
           0.6541187446601525,
           0.7761236046275256,
           0.6947395386102431,
           -0.225560716596808,
           1.9930566752785777,
           -0.25939872517524953,
           0.8143147020378634,
           -0.8314874953885035,
           -0.6601560039468349,
           -0.059966602089304454,
           -0.9214269956168429,
           -0.9285744824230535,
           -0.667463700430018,
           1.0335277341364624,
           -1.1044262208438729,
           -0.5285084121191811,
           -0.4138983603036768,
           -1.1718205618788806,
           0.3964933049685951,
           -0.18701708972079897,
           -1.8627620476759041,
           0.9543517339495604,
           -0.6712701054479443,
           0.9860049142026036,
           -0.18717705304445612,
           0.2909228179965722,
           0.16057964799193464,
           -0.40595007291434043,
           0.22296736551857593,
           -1.4200599672663268,
           -0.05952681461704877,
           -0.174541205596865,
           0.3289807793749764,
           1.9425655191999227,
           -0.5576001249372268,
           1.1741536739499285,
           -0.6402371777712133,
           0.024078898372580367,
           -1.262347362643733,
           0.47974000954351664,
           0.5488784613431381,
           0.4370134882591648,
           -0.918107927497807,
           -0.9293558859273275,
           -0.6254239427175884,
           0.010274261096082492,
           -0.9464428830946022,
           -0.4051073028607479,
           -0.126797197770093,
           -0.7049163013495319,
           -0.5991223731073031,
           0.42494398510828196,
           1.0469302582699906,
           -4.427042573530788,
           -0.5637221615808672,
           -0.9770287156871282,
           -0.08017609710354628,
           0.06772711067846646,
           1.2069311346711944,
           -1.65260663728003,
           1.2129117607500364,
           -0.4766396912061809,
           0.03690182854234911,
           -0.1826107894093856,
           0.5962472340778455,
           0.9419347480496175,
           -0.9348491647565824,
           0.3914688139317456,
           0.0992481233429994,
           -1.0269308011690366,
           0.28639689613184866,
           -1.477275707234199,
           0.00693445279702493,
           3.392299779914161,
           -0.20038933743342952,
           0.6724739679517721,
           0.6793955216636718,
           0.13694258831373354,
           0.564669502516843,
           0.7210158716791142,
           -0.5656409175382379,
           -0.3265626947426057,
           0.47169901319185337,
           -1.1010127166046906,
           0.9447811340236929,
           0.89395083764286,
           0.5228368071900948,
           0.37818158400566515,
           0.2727939709831232,
           1.0354493437414882,
           -1.1116804403341272,
           -0.5240869500264029,
           2.7641851135340145,
           0.9132580674968158,
           -1.8022850407469764,
           0.595524786108301,
           -1.3307897510967186,
           -0.8943750980329284,
           0.15772447251500327,
           -0.09528118766680942,
           -0.3493615813886452,
           -0.8243159656548361,
           -0.734401352677461,
           0.9392383353282612,
           -0.03283400891732833,
           0.3793766484664952,
           0.9714581108226337,
           -0.4655111948187464,
           -0.02257485310492761,
           -0.08317257397870287,
           -0.8162046710510146,
           0.3589916110160886,
           -0.8997468031527376,
           0.08936116593580824,
           1.1958848304393332,
           -0.8552273644330477,
           1.1951637034866556,
           -1.955079109334754,
           0.26902248398265116,
           2.0233773004167968,
           -0.36436234782047444,
           -1.843295273868656,
           -0.2917951082683433,
           -0.47182547572875777,
           0.5127598918215567,
           1.7960382233463417,
           2.0623430145099126,
           0.25155589869878403,
           0.6224627835775826,
           0.3929028068078146,
           -0.08252226457671774,
           -0.4195753143005426,
           0.8503879027871113,
           -0.1077132797182969,
           0.4374820317624592,
           1.5732552204679489,
           0.5124176533274386,
           -1.572461841757696,
           0.7777031157026596,
           0.23465028170940827,
           0.6666406350942818,
           -0.4180495083681748,
           0.3447964083517669,
           -1.8342349441134687,
           -2.2154435605042266,
           0.6979894606278356,
           0.601455723219438,
           0.4352038267208535,
           -0.218773762951801,
           -1.574423721086748,
           -0.7105381157683057,
           1.7873978121987026,
           -1.145582970857573,
           1.326526050421047,
           0.49104222390884994,
           0.7580335439263906,
           0.3567537617279385,
           -0.722243235326307,
           -0.6701841037474914,
           0.26197785440037646,
           0.5454543335064357,
           0.24135502216577742,
           0.7962459699679234,
           -1.5638937393595074,
           0.16533078626606934,
           -0.5544362100989715,
           0.20186797645130156,
           0.3875256026979458,
           -1.1116085969937075,
           2.7186707098287277,
           -0.9599261399547047,
           0.6024358068849044,
           -0.7712306625611911,
           -0.7432017320541932,
           -0.4475644466283472,
           0.35098509397031863,
           -1.078340672524158,
           -0.27641815283602467,
           -1.8261511440844298,
           2.0403284680301845
          ],
          "colorscale": [
           [
            0,
            "#440154"
           ],
           [
            0.1111111111111111,
            "#482878"
           ],
           [
            0.2222222222222222,
            "#3e4989"
           ],
           [
            0.3333333333333333,
            "#31688e"
           ],
           [
            0.4444444444444444,
            "#26828e"
           ],
           [
            0.5555555555555556,
            "#1f9e89"
           ],
           [
            0.6666666666666666,
            "#35b779"
           ],
           [
            0.7777777777777778,
            "#6ece58"
           ],
           [
            0.8888888888888888,
            "#b5de2b"
           ],
           [
            1,
            "#fde725"
           ]
          ],
          "opacity": 0.8,
          "size": 12
         },
         "mode": "markers",
         "type": "scatter3d",
         "x": [
          -0.27238912750823513,
          0.4533736444850577,
          -1.2032332940169836,
          0.9325830424935936,
          0.04765634831091961,
          -1.9209372945058618,
          2.0608592711997846,
          0.016870942802639784,
          0.6504520577033072,
          -1.4895203328090847,
          0.18301671073817227,
          1.1584596527055622,
          0.4822755651692271,
          0.5188490254030502,
          -0.7253337400535282,
          -0.27060155324307705,
          -0.26285698973988847,
          -1.058718889451892,
          0.14157774212324195,
          -1.972806567963364,
          -0.08682880487392318,
          -0.7422034481304609,
          0.5558829904492906,
          -0.347945259331313,
          0.6952496146865041,
          -0.04212235178189354,
          0.8354046844591988,
          0.196619573595919,
          1.0353769095977496,
          -1.6710483556906555,
          -0.31936747278479183,
          -1.1062581092225743,
          0.2647741643622466,
          0.11069453424927159,
          0.6871443828874294,
          0.036036323915930125,
          -0.08792454254793426,
          -0.8420629560386295,
          -0.40853535838502053,
          -0.46470318672092853,
          1.0475150094119723,
          -0.7772257760563707,
          -1.430558081688435,
          0.3121062200900773,
          1.5337819184500057,
          1.0852996071659193,
          0.5306043550198262,
          1.6256167737145482,
          0.15671881220221157,
          -1.1183403670854508,
          -1.040666322330025,
          0.1430081156750913,
          0.8138960397525121,
          0.47899025807085066,
          -1.8152842352179428,
          0.8041560909615422,
          -1.374703848480853,
          0.42420090212018646,
          -0.9959460481319413,
          -0.5962305903307846,
          0.19516972701908128,
          0.3020690380231824,
          1.2297645349127686,
          -0.3198531665684567,
          -0.49110209618082934,
          0.6197907812692057,
          0.4865896867199076,
          0.8252624298665194,
          1.2767704869314014,
          -0.050508725856465375,
          -0.21440611499898063,
          -0.37686950475116143,
          0.10390527780460486,
          1.2602432620115227,
          -0.1659816710694131,
          -0.24102264974190074,
          -0.9099373665935,
          -0.9884157602302067,
          1.948526565281133,
          -0.061602987259191354,
          1.032230783538513,
          -1.5603106901791728,
          0.37917838708982227,
          1.2371287863256988,
          1.1026415995595424,
          0.26810934709421674,
          -0.1905196007260105,
          1.669340676199903,
          -0.25937652139415224,
          -1.5034754354009428,
          0.08718959182994156,
          0.48557101966947247,
          2.0948139368384378,
          0.9953342778521043,
          0.8727161994077558,
          -1.5066012177030874,
          -1.444443217797875,
          0.6081558105142496,
          0.6177981166647522,
          -1.2970355127522983,
          -0.29801372271050386,
          0.8348751547281608,
          -0.24307715882901018,
          -0.5669991226016105,
          0.21333623766173257,
          0.7884108981810791,
          0.40010384252449904,
          0.7815054212586756,
          -0.15364031367730555,
          0.7514486348954732,
          -0.20394126829041387,
          -0.41623017068494916,
          -1.4410677466227413,
          0.2117650129270319,
          0.44985574237253295,
          -2.072682526628129,
          -0.9076172648696561,
          -2.14385203750341,
          1.896757875864419,
          -1.342840996543825,
          -2.0485310312279807,
          -0.6857499187195686,
          -0.8456725841384348,
          -1.1382573903740738,
          0.34754776730199755,
          1.1201820017903346,
          -1.3907235458655542,
          1.3624173007051936,
          -0.47127553363940555,
          0.04279283559968527,
          -0.2962603820407768,
          0.2657421911996251,
          -0.7904389351396862,
          0.11072767433521727,
          0.9260261932090896,
          -2.8450926212759007,
          0.5473072918696715,
          -0.37852212851064515,
          -0.14094178928607165,
          -0.16192443957721123,
          -0.14462021211730228,
          1.8398906970511946,
          0.24223561095290355,
          -2.238205496817701,
          -0.3537257772633204,
          0.10526043249033182,
          0.7647470055008501,
          -1.839075780776401,
          0.4034736692815652,
          1.6385815079059325,
          -0.712857454389045,
          -0.7097415851050372,
          1.2642173859451507,
          -1.5030284907520672,
          0.755634494327703,
          -0.2161023198397142,
          0.4973972861730555,
          -0.7582708879786136,
          0.2954880566404422,
          3.3152290620651836,
          -1.5062975277997779,
          -0.4759850730348291,
          -0.0005264560493910427,
          0.21784081155674465,
          -1.6219189329609056,
          -1.3871860575142028,
          1.118745511394427,
          1.8189832938154953,
          0.7883690660227524,
          0.018848261686634595,
          -0.9371069998001528,
          0.33993779643883837,
          -0.6070037129492122,
          0.016627924883311874,
          -0.3911148636652968,
          0.7630864206971851,
          0.9297847763412131,
          0.7535488110687503,
          0.2174950242637816,
          0.645309708149528,
          0.8409861544743945,
          -1.4417082411249955,
          -0.28106058617701934,
          -0.4578421267027324,
          -0.8513480268988733,
          0.08877027352632054,
          -0.930952997253026,
          -0.5263731756192981,
          -0.8921783058464494,
          -1.0649722957578938,
          0.7562440411101172,
          -3.093898666874714,
          1.4307365965713275,
          0.8632991243161015,
          -0.1308794462423899,
          0.42057214442242924,
          0.6620393072578726,
          0.566240638488922,
          1.3323867493748989,
          0.2848088668812879,
          0.8649726171095616,
          -0.3747158983103658,
          0.2880325054543044,
          0.45466758255475626,
          -0.7608579917014785,
          0.05746487087593363,
          -0.9642962737503739,
          1.233124843649638,
          0.019540779416982172,
          -0.3179439368600112,
          -0.06969747820418776,
          -0.8392315157492323,
          -1.0888167937793898,
          -0.5178348303527771,
          -0.7663260017846489,
          -1.4247843870397527,
          -1.4306835701835563,
          0.008380190052500182,
          0.40165915149616216,
          0.12555540657206374,
          0.6009094125342931,
          -0.1771545161292993,
          0.7506723266213168,
          0.19793730772085058,
          -0.1825998234224195,
          -0.24349332736923554,
          0.07042741196821443,
          -0.47734553771182703,
          1.3827727649283899,
          1.123862569325817,
          -0.5110235599168372,
          -0.5265503189008591,
          -0.4321958917525653,
          -0.30307055027171376,
          -0.6554281122281932,
          -1.0126271433927085,
          -1.155368137197501,
          -1.4337059293826657,
          0.954283505630222,
          -0.52118702159312,
          0.732993658773298,
          0.348759266029283,
          -0.06851225930869646,
          0.14640463428442171,
          0.32380494753283634,
          0.739146073866458,
          1.4207315084114802,
          0.48660386681369744,
          0.23935707418730498,
          -0.9023320682717253,
          -1.178685154342335,
          -2.2624145469518244,
          0.2937822686356934,
          -0.1188176242997009,
          -0.7599806291401258,
          0.3749721703447926,
          -0.44727694162524356,
          0.3243936116139474,
          0.44224345982447405,
          -3.091103467808736,
          1.0879196564949076,
          -1.9386339773357406,
          -0.3639804409351836,
          0.30309038830696294,
          -1.619197040162011,
          0.5108464662612645,
          -0.6486228296294816,
          -0.7493218175087272,
          0.6368450149632043,
          0.7360551568421826,
          -0.05538190385152312,
          -0.8585615386023381,
          1.0730545770359696,
          1.5151243997554185,
          0.036801493447754054,
          0.061461823116874835,
          1.3319385844920766,
          1.1860419552679293,
          -0.26150040161320726,
          0.33061615716153603,
          -0.9538199653639559,
          0.07279049370739982,
          1.4765002327580523,
          0.2738554479806834,
          -0.1284777866732307,
          0.14198836115895244,
          0.7962409944961216,
          -0.1305168673142521,
          -0.023652623402691874,
          1.842427066714471,
          0.08946359932651315,
          1.5780772810767931,
          0.46891575575046873,
          1.4535243437035157,
          -0.32871449901293504,
          0.9895479907674927,
          -0.8662288594977119,
          -0.4451577830096069,
          -1.839818822170201,
          -1.5284716502375293,
          1.591020835166072,
          0.7778149554028945,
          -1.6328025720817807,
          1.623012373700156,
          -0.5508043819374244,
          0.39241320603015417,
          -0.8631995394204376,
          -1.5050560791323062,
          -0.2646671557656032,
          0.5761774286252263,
          -1.4519286507766436,
          2.0249148088612015,
          -0.13542659719184555,
          0.11238375464609679,
          -1.0233293933932461,
          1.3548024924383189,
          -0.9563071121534035,
          0.7907208515649802,
          0.30665078764060505,
          -0.38489209803353086,
          -0.42642341002918954,
          -0.9698363063168417,
          -0.9637740008534068,
          -1.0681847546298593,
          1.9816456760957377,
          0.09596015558121514,
          0.924310675798594,
          1.035613027574085,
          -0.3392818397840403,
          2.0285519692198086,
          -0.18812706551715142,
          -0.5831189745155708,
          -0.354277404985994,
          1.5851772445102674,
          -0.5345865662960857,
          -0.21731494084150693,
          0.17262459010703302,
          -1.5765017445992962,
          -0.380075760135604,
          0.35290965397460733,
          0.32757338184405965,
          2.1253661388164615,
          0.45467948631286004,
          -1.2597833798181741,
          1.098712863555957,
          0.2632782471249602,
          1.9897808540026054,
          -6.258266407551661e-05,
          1.6984907808219478,
          1.524386700297123,
          -0.5955449760281413,
          0.683803808972444,
          0.11784201992179175,
          1.6608866162015117,
          0.023408365077848707,
          0.038049933865573315,
          0.20269425463770568,
          1.8165174705204414,
          1.2789466657355844,
          -0.1930861756561083,
          0.9061913155217395,
          -1.0345393650140264,
          -1.1474355574597088,
          0.25429288572476244,
          -0.7002326916809506,
          -0.15146293620994922,
          0.1493255302947542,
          1.0258272292025457,
          -1.075099088783474,
          -0.3245522634234356,
          -0.5411997856956047,
          -2.1890742987362852,
          1.373277169198669,
          0.8797826055782745,
          0.8325449453403997,
          0.5720074279041719,
          0.3644347405361912,
          -0.4815895303864532,
          0.05122965212400551,
          -1.7417815131686383,
          0.77165080263934,
          0.3236492889185359,
          -1.5867271480172387,
          -0.7738994752327589,
          -0.2241077039199681,
          -0.1962077869157595,
          0.8798945264065667,
          0.33581197798952794,
          1.447035516137707,
          0.36264036093380225,
          -0.5550733410598538,
          -0.9353411174702118,
          -0.5887597515151095,
          -1.854329303874849,
          0.6732653090144388,
          0.3426109214717249,
          -0.3136655827544466,
          -0.08086840736623103,
          -0.9080729872200775,
          -1.27826085282639
         ],
         "y": [
          0.8174348505209467,
          0.6264001983778069,
          0.49505906050925513,
          -0.3965934978969201,
          0.6803280065894175,
          -0.7264466681822579,
          -0.09663812906258379,
          -2.4463759616586294,
          -1.222709340029509,
          0.14491097315667084,
          2.1101762984350407,
          1.6124456790940025,
          0.3240223914338518,
          -0.19862843214295312,
          0.3588738853336399,
          -1.3551592956473266,
          -0.6445002300644759,
          -2.6172386274651327,
          -0.08144179737296288,
          1.516460590098341,
          -0.6680558207713638,
          -0.1563681681315644,
          -0.5325949647752947,
          1.3372509415017553,
          0.02068344670747234,
          -0.9707033057181242,
          0.6543888970562561,
          -0.9291415081289918,
          -1.1346266313986264,
          0.9050033093986752,
          0.27495829761113205,
          0.594954129973408,
          -0.39085467319259404,
          0.34220297702239694,
          1.0116697027795623,
          -1.0152961654996118,
          1.153024777233992,
          -1.0020407753480611,
          -1.0232415350230866,
          1.0940111403636903,
          -0.8061139870761773,
          -0.9576188625845002,
          -0.16922372468693145,
          0.19337044204270362,
          -1.2783200889991362,
          -0.10744207106337963,
          -1.5407593972478115,
          -0.3292971655763843,
          0.006176798825863899,
          -0.4030176888676864,
          -0.014976666858930041,
          -0.43804782361037725,
          0.8539285375734869,
          0.5363047767584346,
          -0.34650912453056637,
          0.7356906510548805,
          0.05913079976252932,
          -0.29699904540927946,
          -0.15074450989458493,
          -0.09426194526262839,
          0.45625825337691817,
          -0.1294378848934809,
          -0.5890319853341902,
          -1.921768386402266,
          0.7264758670520328,
          0.9131163349782334,
          0.6120212738301877,
          -0.22226804471188807,
          1.7424106985133705,
          0.2789976508668096,
          -1.266154935500546,
          -0.0767837214815531,
          -1.971973270884478,
          0.07293146655943308,
          -1.915863507926102,
          -1.1230831943899635,
          0.7088698146466048,
          0.37520630338943356,
          -0.12628496159174715,
          -0.13966746473844194,
          0.4760754869156986,
          -1.250901363069821,
          1.1775969246012625,
          1.2737270477707026,
          -1.7638003422508284,
          0.9619631592176531,
          0.14134648433448613,
          0.2856078324684438,
          -0.23970872044932295,
          2.0021158343714105,
          -0.5435265715330067,
          0.15216174319979872,
          2.5048195754148685,
          -0.18404588378111286,
          -0.40838571367729687,
          -0.8237267012401848,
          1.1858842329184895,
          0.515095286650861,
          -0.06134088864421174,
          1.4112135018199254,
          -1.2218644885544145,
          1.2579813784644924,
          -1.6009918096277953,
          2.077324826404447,
          1.1245234838884024,
          -0.7142313034471095,
          -0.7328883923980097,
          -0.923415642992198,
          -0.07189233679274244,
          -0.6570557645652264,
          -1.769056482497465,
          0.48759601988891077,
          2.2900487268467593,
          0.4651080007860213,
          -1.6127936933012164,
          -0.37430018602143617,
          0.5655309152559567,
          0.8756054747886622,
          -0.6421139709775153,
          0.08256192142048255,
          0.6592113414175489,
          1.0176242057040423,
          -0.883354174095561,
          1.3251352899618971,
          -0.18636003166820933,
          0.9441430250739701,
          -0.8588241559071246,
          -0.060013409987578994,
          -1.0152921634887464,
          0.33605335600089464,
          -2.464074438850303,
          -1.3770102348407658,
          2.6192634050506367,
          -1.0238224636213176,
          -0.5215612673547733,
          -0.8854938208250417,
          -1.9206918250399594,
          1.3866872992384462,
          -0.5304264143186516,
          -0.7053891648502018,
          -0.5365792044998734,
          1.0136844091308883,
          1.869669310247183,
          -0.31858455259119467,
          -1.2063079869416375,
          0.4505155434253394,
          -0.6594806147120476,
          0.17798117460720705,
          -0.294645819182038,
          -2.5183520817831178,
          -0.8223254706247806,
          0.08543957557465304,
          -1.8656623486616795,
          0.8934414895779467,
          0.6797351879118627,
          1.266511127923984,
          -1.7548079857465169,
          -1.3267215312165408,
          -1.902950794241438,
          1.2785055953298596,
          -1.5690607439981732,
          -0.28190527532078624,
          -0.5097481903522946,
          -0.35167547794209275,
          -0.744711567654327,
          1.0745824138774112,
          -0.5893995678549693,
          0.8976861795039422,
          0.3865433882332127,
          0.10691939656122726,
          0.3309287863411421,
          2.178167194611642,
          -0.38988321330794556,
          1.7519931179212815,
          1.6831743360612312,
          -0.4822855032939538,
          -0.07794676987636727,
          -0.04906599974495348,
          -0.2904272702847218,
          -2.5400082537187982,
          -2.056039202493599,
          -0.717956487965721,
          -0.09840019508024805,
          0.1261109282493893,
          0.057194502320631085,
          -0.9432459757646074,
          0.955247171643085,
          1.9290771687732202,
          0.06064888362193009,
          1.3440772909515533,
          0.7022849244928013,
          0.21625368707666864,
          -0.7836889225263964,
          0.21361415892717397,
          0.913016823535196,
          -1.7954328746472628,
          1.9892916231291216,
          -0.06410590908639237,
          -0.12952490061838107,
          0.6751166541217681,
          -0.8795396016976375,
          0.32455168041648624,
          -1.2615098213843123,
          -0.5164316507959565,
          -0.9415871038033977,
          -0.12928684638024115,
          -0.6786097187949516,
          -0.33980310052079316,
          -0.1481848085549489,
          1.687900778875946,
          -0.5822867056158945,
          -0.24394248764321397,
          -0.23583327597515197,
          -1.7012534605963647,
          0.2825486101206226,
          0.7290265937828759,
          0.4908657722605982,
          0.8882714824251361,
          -1.0445130294699077,
          1.6567000692250158,
          -0.8040490040504878,
          0.6408063644674615,
          -0.1313261764224072,
          0.6121335123616743,
          1.664096514101214,
          -1.8691238933046384,
          1.0521718860532456,
          0.34415012697231934,
          1.9205796493516747,
          0.782292786250275,
          0.09230619504544714,
          0.4700452250270209,
          0.3270736386411343,
          -1.4739003850169976,
          0.37420382316389156,
          -0.2308613998596461,
          0.1254775291169406,
          1.2002499489013159,
          0.10291082457482538,
          0.6889824120825266,
          0.5325995425946841,
          -0.9034715232549075,
          0.4282410095973299,
          -0.7793185065796125,
          -0.2308840023914116,
          -0.48166102264547017,
          0.26267360348869573,
          -0.7281245426941299,
          -0.6252652260251217,
          2.033623726944058,
          -0.396138125031325,
          1.1981025752513776,
          1.1604276466093253,
          -0.4224641517501267,
          -0.6025910138185477,
          -0.3866600931985526,
          -0.3456206794487238,
          0.09460969062314147,
          -0.6411193491729525,
          1.7288874373342014,
          -0.9564717461863343,
          1.5595949680046826,
          -0.030913108027590293,
          0.22851154807724258,
          1.0937656493686125,
          -0.8634444148124745,
          2.0002044266337564,
          -0.7992685722645089,
          -1.1049606122206823,
          1.5716739142983551,
          -0.6753489040606294,
          1.3341516197074628,
          -0.6035534160240627,
          -0.6964461388182118,
          1.6734829373862532,
          -1.641127860123012,
          -1.2978225515854944,
          0.9274017497807299,
          -0.6147845000916312,
          0.06687035051496053,
          1.219861149438153,
          -0.9165881142288941,
          -0.3100917736584932,
          -0.9422833316509256,
          -0.712216139551542,
          -0.4595368266888847,
          -1.3397980223566366,
          0.07343772444029788,
          0.9197210957412029,
          -0.3197324926665373,
          -0.08155104499859242,
          0.7500706023275225,
          1.2537594686191345,
          0.658703681125841,
          -0.7482375349477156,
          0.6744018489983513,
          0.9411166734856854,
          0.7256641123121732,
          1.3829424475103145,
          -1.5607569503195766,
          -1.3175379176372672,
          0.8332734680196353,
          -1.8349766520652109,
          1.3393657887087307,
          0.068159538093606,
          -1.7820292074163373,
          0.8483449627244296,
          0.610396087814018,
          -0.8331632190538382,
          -0.3031709912984946,
          -0.5471714309573835,
          1.0307335872143093,
          0.14658894027429198,
          -0.30125991386526657,
          0.4094026087530963,
          1.5901768213692489,
          -0.36123597967190463,
          0.8822035392520381,
          1.6014801114367037,
          0.8488900744218585,
          -0.2160634961065747,
          -2.1357339252128926,
          -0.5837688228909702,
          -0.1647402515708342,
          1.8903947116620066,
          0.4153560178623496,
          -0.7855938934271502,
          0.12191614622345587,
          -0.2425975512366735,
          -0.24332282833713337,
          1.5455702025427047,
          -0.7347360348417853,
          -0.7865549701688841,
          0.8725924136122146,
          -0.11315818854242933,
          -0.44474241764680095,
          -0.8327507593767718,
          0.5014765851257104,
          1.356454985436841,
          0.019225276233235958,
          0.37375804031985893,
          0.5788066204941993,
          -0.244638798148341,
          0.03689011044748028,
          0.2968741682626164,
          1.3831796678805974,
          -0.5259349848985779,
          1.1254407221595435,
          0.3810385021961064,
          -0.30662237544825327,
          0.03476616694104173,
          -1.5191012273666387,
          -0.631664502878474,
          -0.6463559639349671,
          0.3823723337509731,
          0.23008434169685588,
          -0.8259559066236278,
          -0.6609412693790631,
          0.7406558895342644,
          0.03520291812038098,
          -0.301107605096635,
          -1.0921780115164517,
          0.21656120779835264,
          0.6425193708913438,
          1.0298449669283403,
          0.3483322239079389,
          -1.4745516849545754,
          0.5651676374733486,
          0.32314738495060963,
          -0.7150264152785528,
          -0.2059480857414485,
          -0.5812298000916317,
          0.13749480644005646,
          -0.7689812037355834,
          1.7375111074065317,
          -1.7152020128303735,
          0.29977639399279915,
          0.3783722979137877,
          -0.8886253700842547,
          -0.8923214462040839,
          -0.440502055433287,
          0.7309024186195403,
          -0.38682821063453005,
          0.6536409079428837,
          -0.7425051754868645,
          1.224613565136103,
          1.126531862535594,
          0.3007455421514691,
          -0.7819169625703637,
          -1.8272638873556382,
          0.9781963434464941,
          0.14943814450844858,
          -0.5762230388938734,
          1.5316274590205734,
          -0.9502452315462901,
          1.9408627137419876,
          0.1002516190450776,
          1.00455993741973,
          -1.0269602689694735,
          1.4018512134218182
         ],
         "z": [
          0.40835560255706077,
          -0.21004072098293242,
          -2.0207073267203755,
          -0.32473176994342756,
          0.3110125758972808,
          -0.051093645747424477,
          -0.870581971420156,
          0.2944189015426119,
          1.276650830848768,
          -1.4786234580425308,
          -0.08953917799712363,
          0.8492938246145604,
          -1.3079250551396504,
          0.9601382906413987,
          -1.1376450357696632,
          -0.36447762872483624,
          -1.5425806435578657,
          -1.445430275943427,
          -0.49808756221222206,
          -1.0153276007267353,
          -0.28967129548650616,
          0.797072477823345,
          0.2580318564190278,
          -0.427827242511894,
          1.358528377935598,
          -0.3472537109962571,
          0.33109880496144717,
          -0.43439176509127503,
          -0.7457297396287799,
          -1.0859494210913518,
          -0.6705345438905885,
          1.2007220633929363,
          -0.07884605085836044,
          1.0491138226076733,
          -1.8779815968275368,
          0.7960720836257463,
          -1.1405115515649484,
          2.4474817569542218,
          -2.4834064243415295,
          -1.37613219704612,
          0.36928854275637013,
          -3.706721592784068,
          0.7592966892956677,
          -0.11992286605990682,
          -0.4747391310281048,
          -0.2580674985444094,
          -0.8902666985643083,
          0.07381230471014497,
          -1.8696390739834574,
          -0.6980279275349909,
          -0.5671371957724465,
          -0.9357896177012919,
          0.35245574006875496,
          0.25481218169093944,
          -0.8339008773235252,
          1.6282500637635566,
          0.14949340000260225,
          0.33934624473432373,
          1.0886619455904039,
          -1.0194102437213235,
          -1.4029578596079357,
          0.4997372039247602,
          -0.3632864715146479,
          -1.5166592954120208,
          -0.5151466466341708,
          -1.2468995267294303,
          -0.4713419950286553,
          -1.4131146997683903,
          1.1054200801493579,
          -0.6629588055060461,
          2.1150455858380326,
          0.43838918692536144,
          -1.263542337142275,
          -0.07434030951859652,
          0.43189031077131895,
          -0.12535829567912715,
          -1.2676760741401292,
          -1.121701440354432,
          1.654649648402798,
          2.256460374535665,
          0.18184523060232188,
          0.9652295544337085,
          0.1342638063886732,
          0.44835784891077196,
          0.09865340521465062,
          0.06642863860792514,
          -0.807444558610546,
          0.641331002658382,
          -0.46117740621648884,
          -1.371760351313308,
          0.33374982052196117,
          1.293940748313904,
          -0.41618467632808526,
          0.528951384641219,
          0.6119682935559636,
          -1.0581816342405603,
          0.17588316424196412,
          -1.3994533917176757,
          -0.2679284820617998,
          1.780539002106321,
          0.062042327883181335,
          1.2594089382483045,
          0.05763508287290616,
          -0.45874544647839255,
          0.6019656870323453,
          0.5964615761478025,
          0.926132508866573,
          -1.9452851721285598,
          -0.0680390981974547,
          0.2887258987355181,
          -0.5383474542369819,
          -0.18851601375557783,
          0.09814431742822127,
          0.5815149091293378,
          0.9155213184557504,
          -0.5207875679697496,
          -1.2710657016811355,
          -0.39921170559752206,
          0.7238654141296351,
          0.9805824863944096,
          -0.8710617395038496,
          -0.7055325913931518,
          0.038092673484472046,
          -1.2822634202885443,
          1.4608706647547223,
          -1.337551606287019,
          -0.8407803263232149,
          2.0997113552736275,
          -1.5186514680723366,
          -0.5905843295711244,
          1.367025054309403,
          -0.23804213481397224,
          0.3118450162812762,
          0.8917223886646173,
          1.9514314091882456,
          -0.3550611620444512,
          -1.6210401281471185,
          0.6704905277694153,
          -0.39008097413367254,
          1.7708019151736365,
          1.8658401145499113,
          1.4815317300009783,
          1.2344134468323587,
          -0.20778404491235022,
          1.3603386566622346,
          0.741832059492397,
          -0.12863993358832462,
          0.2978165913442716,
          0.8020836187578216,
          1.0448744708549624,
          -0.8234651772480028,
          0.42457365578302475,
          0.6079077677955959,
          -1.1463397929263908,
          -0.5004098172228498,
          3.5062580823252913,
          -0.4039036989253977,
          1.0541799322659815,
          0.19479298625516303,
          0.2576627350423931,
          0.1025938185936029,
          -0.06147148645960633,
          1.3375498170512046,
          0.4156557489025414,
          0.7907490243929927,
          -0.5347952187324845,
          1.3709662315017401,
          0.873628658272098,
          -0.8796515675712603,
          0.8943282558644146,
          -1.726386426758728,
          -0.6667055394232804,
          1.3735306205545614,
          -0.2685156195916061,
          -0.443338637575417,
          0.18961977556502876,
          0.32145256003644024,
          -0.6159653005253385,
          -1.2134931955859,
          -0.234314390817687,
          -0.7218200761122383,
          0.5001590801470418,
          -0.11459233737599568,
          0.9781056840709094,
          0.4909495020037021,
          0.9139818038180761,
          2.938423570387447,
          -0.0840785457814737,
          -1.9857127593793291,
          -0.9927604846238429,
          -1.174861794378022,
          1.1926240755425708,
          -0.7912781555022763,
          0.9835889153657343,
          1.1853131416831852,
          1.4957087172404155,
          -0.7431413651743188,
          -1.2698204299452407,
          0.9245579180831063,
          -1.0243686335454847,
          -0.3467957722854456,
          1.0960875387374183,
          -0.8613445131301887,
          0.5786962521099694,
          -1.0916382639622892,
          -1.4224720266998698,
          -0.5312700065340116,
          -0.7441287809463847,
          0.5994546152336906,
          1.0960347628999687,
          1.4844045572885805,
          -0.9694458548958786,
          0.15819591596490218,
          0.21408888558776093,
          1.2105658550055214,
          -0.42879354922132396,
          -0.22263163675443182,
          0.8119374613402669,
          -2.2172805928618797,
          -0.4816398530041627,
          0.6541187446601525,
          0.7761236046275256,
          0.6947395386102431,
          -0.225560716596808,
          1.9930566752785777,
          -0.25939872517524953,
          0.8143147020378634,
          -0.8314874953885035,
          -0.6601560039468349,
          -0.059966602089304454,
          -0.9214269956168429,
          -0.9285744824230535,
          -0.667463700430018,
          1.0335277341364624,
          -1.1044262208438729,
          -0.5285084121191811,
          -0.4138983603036768,
          -1.1718205618788806,
          0.3964933049685951,
          -0.18701708972079897,
          -1.8627620476759041,
          0.9543517339495604,
          -0.6712701054479443,
          0.9860049142026036,
          -0.18717705304445612,
          0.2909228179965722,
          0.16057964799193464,
          -0.40595007291434043,
          0.22296736551857593,
          -1.4200599672663268,
          -0.05952681461704877,
          -0.174541205596865,
          0.3289807793749764,
          1.9425655191999227,
          -0.5576001249372268,
          1.1741536739499285,
          -0.6402371777712133,
          0.024078898372580367,
          -1.262347362643733,
          0.47974000954351664,
          0.5488784613431381,
          0.4370134882591648,
          -0.918107927497807,
          -0.9293558859273275,
          -0.6254239427175884,
          0.010274261096082492,
          -0.9464428830946022,
          -0.4051073028607479,
          -0.126797197770093,
          -0.7049163013495319,
          -0.5991223731073031,
          0.42494398510828196,
          1.0469302582699906,
          -4.427042573530788,
          -0.5637221615808672,
          -0.9770287156871282,
          -0.08017609710354628,
          0.06772711067846646,
          1.2069311346711944,
          -1.65260663728003,
          1.2129117607500364,
          -0.4766396912061809,
          0.03690182854234911,
          -0.1826107894093856,
          0.5962472340778455,
          0.9419347480496175,
          -0.9348491647565824,
          0.3914688139317456,
          0.0992481233429994,
          -1.0269308011690366,
          0.28639689613184866,
          -1.477275707234199,
          0.00693445279702493,
          3.392299779914161,
          -0.20038933743342952,
          0.6724739679517721,
          0.6793955216636718,
          0.13694258831373354,
          0.564669502516843,
          0.7210158716791142,
          -0.5656409175382379,
          -0.3265626947426057,
          0.47169901319185337,
          -1.1010127166046906,
          0.9447811340236929,
          0.89395083764286,
          0.5228368071900948,
          0.37818158400566515,
          0.2727939709831232,
          1.0354493437414882,
          -1.1116804403341272,
          -0.5240869500264029,
          2.7641851135340145,
          0.9132580674968158,
          -1.8022850407469764,
          0.595524786108301,
          -1.3307897510967186,
          -0.8943750980329284,
          0.15772447251500327,
          -0.09528118766680942,
          -0.3493615813886452,
          -0.8243159656548361,
          -0.734401352677461,
          0.9392383353282612,
          -0.03283400891732833,
          0.3793766484664952,
          0.9714581108226337,
          -0.4655111948187464,
          -0.02257485310492761,
          -0.08317257397870287,
          -0.8162046710510146,
          0.3589916110160886,
          -0.8997468031527376,
          0.08936116593580824,
          1.1958848304393332,
          -0.8552273644330477,
          1.1951637034866556,
          -1.955079109334754,
          0.26902248398265116,
          2.0233773004167968,
          -0.36436234782047444,
          -1.843295273868656,
          -0.2917951082683433,
          -0.47182547572875777,
          0.5127598918215567,
          1.7960382233463417,
          2.0623430145099126,
          0.25155589869878403,
          0.6224627835775826,
          0.3929028068078146,
          -0.08252226457671774,
          -0.4195753143005426,
          0.8503879027871113,
          -0.1077132797182969,
          0.4374820317624592,
          1.5732552204679489,
          0.5124176533274386,
          -1.572461841757696,
          0.7777031157026596,
          0.23465028170940827,
          0.6666406350942818,
          -0.4180495083681748,
          0.3447964083517669,
          -1.8342349441134687,
          -2.2154435605042266,
          0.6979894606278356,
          0.601455723219438,
          0.4352038267208535,
          -0.218773762951801,
          -1.574423721086748,
          -0.7105381157683057,
          1.7873978121987026,
          -1.145582970857573,
          1.326526050421047,
          0.49104222390884994,
          0.7580335439263906,
          0.3567537617279385,
          -0.722243235326307,
          -0.6701841037474914,
          0.26197785440037646,
          0.5454543335064357,
          0.24135502216577742,
          0.7962459699679234,
          -1.5638937393595074,
          0.16533078626606934,
          -0.5544362100989715,
          0.20186797645130156,
          0.3875256026979458,
          -1.1116085969937075,
          2.7186707098287277,
          -0.9599261399547047,
          0.6024358068849044,
          -0.7712306625611911,
          -0.7432017320541932,
          -0.4475644466283472,
          0.35098509397031863,
          -1.078340672524158,
          -0.27641815283602467,
          -1.8261511440844298,
          2.0403284680301845
         ]
        }
       ],
       "layout": {
        "margin": {
         "b": 0,
         "l": 0,
         "r": 0,
         "t": 0
        },
        "template": {
         "data": {
          "bar": [
           {
            "error_x": {
             "color": "#2a3f5f"
            },
            "error_y": {
             "color": "#2a3f5f"
            },
            "marker": {
             "line": {
              "color": "#E5ECF6",
              "width": 0.5
             },
             "pattern": {
              "fillmode": "overlay",
              "size": 10,
              "solidity": 0.2
             }
            },
            "type": "bar"
           }
          ],
          "barpolar": [
           {
            "marker": {
             "line": {
              "color": "#E5ECF6",
              "width": 0.5
             },
             "pattern": {
              "fillmode": "overlay",
              "size": 10,
              "solidity": 0.2
             }
            },
            "type": "barpolar"
           }
          ],
          "carpet": [
           {
            "aaxis": {
             "endlinecolor": "#2a3f5f",
             "gridcolor": "white",
             "linecolor": "white",
             "minorgridcolor": "white",
             "startlinecolor": "#2a3f5f"
            },
            "baxis": {
             "endlinecolor": "#2a3f5f",
             "gridcolor": "white",
             "linecolor": "white",
             "minorgridcolor": "white",
             "startlinecolor": "#2a3f5f"
            },
            "type": "carpet"
           }
          ],
          "choropleth": [
           {
            "colorbar": {
             "outlinewidth": 0,
             "ticks": ""
            },
            "type": "choropleth"
           }
          ],
          "contour": [
           {
            "colorbar": {
             "outlinewidth": 0,
             "ticks": ""
            },
            "colorscale": [
             [
              0,
              "#0d0887"
             ],
             [
              0.1111111111111111,
              "#46039f"
             ],
             [
              0.2222222222222222,
              "#7201a8"
             ],
             [
              0.3333333333333333,
              "#9c179e"
             ],
             [
              0.4444444444444444,
              "#bd3786"
             ],
             [
              0.5555555555555556,
              "#d8576b"
             ],
             [
              0.6666666666666666,
              "#ed7953"
             ],
             [
              0.7777777777777778,
              "#fb9f3a"
             ],
             [
              0.8888888888888888,
              "#fdca26"
             ],
             [
              1,
              "#f0f921"
             ]
            ],
            "type": "contour"
           }
          ],
          "contourcarpet": [
           {
            "colorbar": {
             "outlinewidth": 0,
             "ticks": ""
            },
            "type": "contourcarpet"
           }
          ],
          "heatmap": [
           {
            "colorbar": {
             "outlinewidth": 0,
             "ticks": ""
            },
            "colorscale": [
             [
              0,
              "#0d0887"
             ],
             [
              0.1111111111111111,
              "#46039f"
             ],
             [
              0.2222222222222222,
              "#7201a8"
             ],
             [
              0.3333333333333333,
              "#9c179e"
             ],
             [
              0.4444444444444444,
              "#bd3786"
             ],
             [
              0.5555555555555556,
              "#d8576b"
             ],
             [
              0.6666666666666666,
              "#ed7953"
             ],
             [
              0.7777777777777778,
              "#fb9f3a"
             ],
             [
              0.8888888888888888,
              "#fdca26"
             ],
             [
              1,
              "#f0f921"
             ]
            ],
            "type": "heatmap"
           }
          ],
          "heatmapgl": [
           {
            "colorbar": {
             "outlinewidth": 0,
             "ticks": ""
            },
            "colorscale": [
             [
              0,
              "#0d0887"
             ],
             [
              0.1111111111111111,
              "#46039f"
             ],
             [
              0.2222222222222222,
              "#7201a8"
             ],
             [
              0.3333333333333333,
              "#9c179e"
             ],
             [
              0.4444444444444444,
              "#bd3786"
             ],
             [
              0.5555555555555556,
              "#d8576b"
             ],
             [
              0.6666666666666666,
              "#ed7953"
             ],
             [
              0.7777777777777778,
              "#fb9f3a"
             ],
             [
              0.8888888888888888,
              "#fdca26"
             ],
             [
              1,
              "#f0f921"
             ]
            ],
            "type": "heatmapgl"
           }
          ],
          "histogram": [
           {
            "marker": {
             "pattern": {
              "fillmode": "overlay",
              "size": 10,
              "solidity": 0.2
             }
            },
            "type": "histogram"
           }
          ],
          "histogram2d": [
           {
            "colorbar": {
             "outlinewidth": 0,
             "ticks": ""
            },
            "colorscale": [
             [
              0,
              "#0d0887"
             ],
             [
              0.1111111111111111,
              "#46039f"
             ],
             [
              0.2222222222222222,
              "#7201a8"
             ],
             [
              0.3333333333333333,
              "#9c179e"
             ],
             [
              0.4444444444444444,
              "#bd3786"
             ],
             [
              0.5555555555555556,
              "#d8576b"
             ],
             [
              0.6666666666666666,
              "#ed7953"
             ],
             [
              0.7777777777777778,
              "#fb9f3a"
             ],
             [
              0.8888888888888888,
              "#fdca26"
             ],
             [
              1,
              "#f0f921"
             ]
            ],
            "type": "histogram2d"
           }
          ],
          "histogram2dcontour": [
           {
            "colorbar": {
             "outlinewidth": 0,
             "ticks": ""
            },
            "colorscale": [
             [
              0,
              "#0d0887"
             ],
             [
              0.1111111111111111,
              "#46039f"
             ],
             [
              0.2222222222222222,
              "#7201a8"
             ],
             [
              0.3333333333333333,
              "#9c179e"
             ],
             [
              0.4444444444444444,
              "#bd3786"
             ],
             [
              0.5555555555555556,
              "#d8576b"
             ],
             [
              0.6666666666666666,
              "#ed7953"
             ],
             [
              0.7777777777777778,
              "#fb9f3a"
             ],
             [
              0.8888888888888888,
              "#fdca26"
             ],
             [
              1,
              "#f0f921"
             ]
            ],
            "type": "histogram2dcontour"
           }
          ],
          "mesh3d": [
           {
            "colorbar": {
             "outlinewidth": 0,
             "ticks": ""
            },
            "type": "mesh3d"
           }
          ],
          "parcoords": [
           {
            "line": {
             "colorbar": {
              "outlinewidth": 0,
              "ticks": ""
             }
            },
            "type": "parcoords"
           }
          ],
          "pie": [
           {
            "automargin": true,
            "type": "pie"
           }
          ],
          "scatter": [
           {
            "fillpattern": {
             "fillmode": "overlay",
             "size": 10,
             "solidity": 0.2
            },
            "type": "scatter"
           }
          ],
          "scatter3d": [
           {
            "line": {
             "colorbar": {
              "outlinewidth": 0,
              "ticks": ""
             }
            },
            "marker": {
             "colorbar": {
              "outlinewidth": 0,
              "ticks": ""
             }
            },
            "type": "scatter3d"
           }
          ],
          "scattercarpet": [
           {
            "marker": {
             "colorbar": {
              "outlinewidth": 0,
              "ticks": ""
             }
            },
            "type": "scattercarpet"
           }
          ],
          "scattergeo": [
           {
            "marker": {
             "colorbar": {
              "outlinewidth": 0,
              "ticks": ""
             }
            },
            "type": "scattergeo"
           }
          ],
          "scattergl": [
           {
            "marker": {
             "colorbar": {
              "outlinewidth": 0,
              "ticks": ""
             }
            },
            "type": "scattergl"
           }
          ],
          "scattermapbox": [
           {
            "marker": {
             "colorbar": {
              "outlinewidth": 0,
              "ticks": ""
             }
            },
            "type": "scattermapbox"
           }
          ],
          "scatterpolar": [
           {
            "marker": {
             "colorbar": {
              "outlinewidth": 0,
              "ticks": ""
             }
            },
            "type": "scatterpolar"
           }
          ],
          "scatterpolargl": [
           {
            "marker": {
             "colorbar": {
              "outlinewidth": 0,
              "ticks": ""
             }
            },
            "type": "scatterpolargl"
           }
          ],
          "scatterternary": [
           {
            "marker": {
             "colorbar": {
              "outlinewidth": 0,
              "ticks": ""
             }
            },
            "type": "scatterternary"
           }
          ],
          "surface": [
           {
            "colorbar": {
             "outlinewidth": 0,
             "ticks": ""
            },
            "colorscale": [
             [
              0,
              "#0d0887"
             ],
             [
              0.1111111111111111,
              "#46039f"
             ],
             [
              0.2222222222222222,
              "#7201a8"
             ],
             [
              0.3333333333333333,
              "#9c179e"
             ],
             [
              0.4444444444444444,
              "#bd3786"
             ],
             [
              0.5555555555555556,
              "#d8576b"
             ],
             [
              0.6666666666666666,
              "#ed7953"
             ],
             [
              0.7777777777777778,
              "#fb9f3a"
             ],
             [
              0.8888888888888888,
              "#fdca26"
             ],
             [
              1,
              "#f0f921"
             ]
            ],
            "type": "surface"
           }
          ],
          "table": [
           {
            "cells": {
             "fill": {
              "color": "#EBF0F8"
             },
             "line": {
              "color": "white"
             }
            },
            "header": {
             "fill": {
              "color": "#C8D4E3"
             },
             "line": {
              "color": "white"
             }
            },
            "type": "table"
           }
          ]
         },
         "layout": {
          "annotationdefaults": {
           "arrowcolor": "#2a3f5f",
           "arrowhead": 0,
           "arrowwidth": 1
          },
          "autotypenumbers": "strict",
          "coloraxis": {
           "colorbar": {
            "outlinewidth": 0,
            "ticks": ""
           }
          },
          "colorscale": {
           "diverging": [
            [
             0,
             "#8e0152"
            ],
            [
             0.1,
             "#c51b7d"
            ],
            [
             0.2,
             "#de77ae"
            ],
            [
             0.3,
             "#f1b6da"
            ],
            [
             0.4,
             "#fde0ef"
            ],
            [
             0.5,
             "#f7f7f7"
            ],
            [
             0.6,
             "#e6f5d0"
            ],
            [
             0.7,
             "#b8e186"
            ],
            [
             0.8,
             "#7fbc41"
            ],
            [
             0.9,
             "#4d9221"
            ],
            [
             1,
             "#276419"
            ]
           ],
           "sequential": [
            [
             0,
             "#0d0887"
            ],
            [
             0.1111111111111111,
             "#46039f"
            ],
            [
             0.2222222222222222,
             "#7201a8"
            ],
            [
             0.3333333333333333,
             "#9c179e"
            ],
            [
             0.4444444444444444,
             "#bd3786"
            ],
            [
             0.5555555555555556,
             "#d8576b"
            ],
            [
             0.6666666666666666,
             "#ed7953"
            ],
            [
             0.7777777777777778,
             "#fb9f3a"
            ],
            [
             0.8888888888888888,
             "#fdca26"
            ],
            [
             1,
             "#f0f921"
            ]
           ],
           "sequentialminus": [
            [
             0,
             "#0d0887"
            ],
            [
             0.1111111111111111,
             "#46039f"
            ],
            [
             0.2222222222222222,
             "#7201a8"
            ],
            [
             0.3333333333333333,
             "#9c179e"
            ],
            [
             0.4444444444444444,
             "#bd3786"
            ],
            [
             0.5555555555555556,
             "#d8576b"
            ],
            [
             0.6666666666666666,
             "#ed7953"
            ],
            [
             0.7777777777777778,
             "#fb9f3a"
            ],
            [
             0.8888888888888888,
             "#fdca26"
            ],
            [
             1,
             "#f0f921"
            ]
           ]
          },
          "colorway": [
           "#636efa",
           "#EF553B",
           "#00cc96",
           "#ab63fa",
           "#FFA15A",
           "#19d3f3",
           "#FF6692",
           "#B6E880",
           "#FF97FF",
           "#FECB52"
          ],
          "font": {
           "color": "#2a3f5f"
          },
          "geo": {
           "bgcolor": "white",
           "lakecolor": "white",
           "landcolor": "#E5ECF6",
           "showlakes": true,
           "showland": true,
           "subunitcolor": "white"
          },
          "hoverlabel": {
           "align": "left"
          },
          "hovermode": "closest",
          "mapbox": {
           "style": "light"
          },
          "paper_bgcolor": "white",
          "plot_bgcolor": "#E5ECF6",
          "polar": {
           "angularaxis": {
            "gridcolor": "white",
            "linecolor": "white",
            "ticks": ""
           },
           "bgcolor": "#E5ECF6",
           "radialaxis": {
            "gridcolor": "white",
            "linecolor": "white",
            "ticks": ""
           }
          },
          "scene": {
           "xaxis": {
            "backgroundcolor": "#E5ECF6",
            "gridcolor": "white",
            "gridwidth": 2,
            "linecolor": "white",
            "showbackground": true,
            "ticks": "",
            "zerolinecolor": "white"
           },
           "yaxis": {
            "backgroundcolor": "#E5ECF6",
            "gridcolor": "white",
            "gridwidth": 2,
            "linecolor": "white",
            "showbackground": true,
            "ticks": "",
            "zerolinecolor": "white"
           },
           "zaxis": {
            "backgroundcolor": "#E5ECF6",
            "gridcolor": "white",
            "gridwidth": 2,
            "linecolor": "white",
            "showbackground": true,
            "ticks": "",
            "zerolinecolor": "white"
           }
          },
          "shapedefaults": {
           "line": {
            "color": "#2a3f5f"
           }
          },
          "ternary": {
           "aaxis": {
            "gridcolor": "white",
            "linecolor": "white",
            "ticks": ""
           },
           "baxis": {
            "gridcolor": "white",
            "linecolor": "white",
            "ticks": ""
           },
           "bgcolor": "#E5ECF6",
           "caxis": {
            "gridcolor": "white",
            "linecolor": "white",
            "ticks": ""
           }
          },
          "title": {
           "x": 0.05
          },
          "xaxis": {
           "automargin": true,
           "gridcolor": "white",
           "linecolor": "white",
           "ticks": "",
           "title": {
            "standoff": 15
           },
           "zerolinecolor": "white",
           "zerolinewidth": 2
          },
          "yaxis": {
           "automargin": true,
           "gridcolor": "white",
           "linecolor": "white",
           "ticks": "",
           "title": {
            "standoff": 15
           },
           "zerolinecolor": "white",
           "zerolinewidth": 2
          }
         }
        }
       }
      },
      "text/html": [
       "<div>                            <div id=\"18aed001-4a51-41df-a32b-51524a40a63a\" class=\"plotly-graph-div\" style=\"height:525px; width:100%;\"></div>            <script type=\"text/javascript\">                require([\"plotly\"], function(Plotly) {                    window.PLOTLYENV=window.PLOTLYENV || {};                                    if (document.getElementById(\"18aed001-4a51-41df-a32b-51524a40a63a\")) {                    Plotly.newPlot(                        \"18aed001-4a51-41df-a32b-51524a40a63a\",                        [{\"marker\":{\"color\":[0.40835560255706077,-0.21004072098293242,-2.0207073267203755,-0.32473176994342756,0.3110125758972808,-0.051093645747424477,-0.870581971420156,0.2944189015426119,1.276650830848768,-1.4786234580425308,-0.08953917799712363,0.8492938246145604,-1.3079250551396504,0.9601382906413987,-1.1376450357696632,-0.36447762872483624,-1.5425806435578657,-1.445430275943427,-0.49808756221222206,-1.0153276007267353,-0.28967129548650616,0.797072477823345,0.2580318564190278,-0.427827242511894,1.358528377935598,-0.3472537109962571,0.33109880496144717,-0.43439176509127503,-0.7457297396287799,-1.0859494210913518,-0.6705345438905885,1.2007220633929363,-0.07884605085836044,1.0491138226076733,-1.8779815968275368,0.7960720836257463,-1.1405115515649484,2.4474817569542218,-2.4834064243415295,-1.37613219704612,0.36928854275637013,-3.706721592784068,0.7592966892956677,-0.11992286605990682,-0.4747391310281048,-0.2580674985444094,-0.8902666985643083,0.07381230471014497,-1.8696390739834574,-0.6980279275349909,-0.5671371957724465,-0.9357896177012919,0.35245574006875496,0.25481218169093944,-0.8339008773235252,1.6282500637635566,0.14949340000260225,0.33934624473432373,1.0886619455904039,-1.0194102437213235,-1.4029578596079357,0.4997372039247602,-0.3632864715146479,-1.5166592954120208,-0.5151466466341708,-1.2468995267294303,-0.4713419950286553,-1.4131146997683903,1.1054200801493579,-0.6629588055060461,2.1150455858380326,0.43838918692536144,-1.263542337142275,-0.07434030951859652,0.43189031077131895,-0.12535829567912715,-1.2676760741401292,-1.121701440354432,1.654649648402798,2.256460374535665,0.18184523060232188,0.9652295544337085,0.1342638063886732,0.44835784891077196,0.09865340521465062,0.06642863860792514,-0.807444558610546,0.641331002658382,-0.46117740621648884,-1.371760351313308,0.33374982052196117,1.293940748313904,-0.41618467632808526,0.528951384641219,0.6119682935559636,-1.0581816342405603,0.17588316424196412,-1.3994533917176757,-0.2679284820617998,1.780539002106321,0.062042327883181335,1.2594089382483045,0.05763508287290616,-0.45874544647839255,0.6019656870323453,0.5964615761478025,0.926132508866573,-1.9452851721285598,-0.0680390981974547,0.2887258987355181,-0.5383474542369819,-0.18851601375557783,0.09814431742822127,0.5815149091293378,0.9155213184557504,-0.5207875679697496,-1.2710657016811355,-0.39921170559752206,0.7238654141296351,0.9805824863944096,-0.8710617395038496,-0.7055325913931518,0.038092673484472046,-1.2822634202885443,1.4608706647547223,-1.337551606287019,-0.8407803263232149,2.0997113552736275,-1.5186514680723366,-0.5905843295711244,1.367025054309403,-0.23804213481397224,0.3118450162812762,0.8917223886646173,1.9514314091882456,-0.3550611620444512,-1.6210401281471185,0.6704905277694153,-0.39008097413367254,1.7708019151736365,1.8658401145499113,1.4815317300009783,1.2344134468323587,-0.20778404491235022,1.3603386566622346,0.741832059492397,-0.12863993358832462,0.2978165913442716,0.8020836187578216,1.0448744708549624,-0.8234651772480028,0.42457365578302475,0.6079077677955959,-1.1463397929263908,-0.5004098172228498,3.5062580823252913,-0.4039036989253977,1.0541799322659815,0.19479298625516303,0.2576627350423931,0.1025938185936029,-0.06147148645960633,1.3375498170512046,0.4156557489025414,0.7907490243929927,-0.5347952187324845,1.3709662315017401,0.873628658272098,-0.8796515675712603,0.8943282558644146,-1.726386426758728,-0.6667055394232804,1.3735306205545614,-0.2685156195916061,-0.443338637575417,0.18961977556502876,0.32145256003644024,-0.6159653005253385,-1.2134931955859,-0.234314390817687,-0.7218200761122383,0.5001590801470418,-0.11459233737599568,0.9781056840709094,0.4909495020037021,0.9139818038180761,2.938423570387447,-0.0840785457814737,-1.9857127593793291,-0.9927604846238429,-1.174861794378022,1.1926240755425708,-0.7912781555022763,0.9835889153657343,1.1853131416831852,1.4957087172404155,-0.7431413651743188,-1.2698204299452407,0.9245579180831063,-1.0243686335454847,-0.3467957722854456,1.0960875387374183,-0.8613445131301887,0.5786962521099694,-1.0916382639622892,-1.4224720266998698,-0.5312700065340116,-0.7441287809463847,0.5994546152336906,1.0960347628999687,1.4844045572885805,-0.9694458548958786,0.15819591596490218,0.21408888558776093,1.2105658550055214,-0.42879354922132396,-0.22263163675443182,0.8119374613402669,-2.2172805928618797,-0.4816398530041627,0.6541187446601525,0.7761236046275256,0.6947395386102431,-0.225560716596808,1.9930566752785777,-0.25939872517524953,0.8143147020378634,-0.8314874953885035,-0.6601560039468349,-0.059966602089304454,-0.9214269956168429,-0.9285744824230535,-0.667463700430018,1.0335277341364624,-1.1044262208438729,-0.5285084121191811,-0.4138983603036768,-1.1718205618788806,0.3964933049685951,-0.18701708972079897,-1.8627620476759041,0.9543517339495604,-0.6712701054479443,0.9860049142026036,-0.18717705304445612,0.2909228179965722,0.16057964799193464,-0.40595007291434043,0.22296736551857593,-1.4200599672663268,-0.05952681461704877,-0.174541205596865,0.3289807793749764,1.9425655191999227,-0.5576001249372268,1.1741536739499285,-0.6402371777712133,0.024078898372580367,-1.262347362643733,0.47974000954351664,0.5488784613431381,0.4370134882591648,-0.918107927497807,-0.9293558859273275,-0.6254239427175884,0.010274261096082492,-0.9464428830946022,-0.4051073028607479,-0.126797197770093,-0.7049163013495319,-0.5991223731073031,0.42494398510828196,1.0469302582699906,-4.427042573530788,-0.5637221615808672,-0.9770287156871282,-0.08017609710354628,0.06772711067846646,1.2069311346711944,-1.65260663728003,1.2129117607500364,-0.4766396912061809,0.03690182854234911,-0.1826107894093856,0.5962472340778455,0.9419347480496175,-0.9348491647565824,0.3914688139317456,0.0992481233429994,-1.0269308011690366,0.28639689613184866,-1.477275707234199,0.00693445279702493,3.392299779914161,-0.20038933743342952,0.6724739679517721,0.6793955216636718,0.13694258831373354,0.564669502516843,0.7210158716791142,-0.5656409175382379,-0.3265626947426057,0.47169901319185337,-1.1010127166046906,0.9447811340236929,0.89395083764286,0.5228368071900948,0.37818158400566515,0.2727939709831232,1.0354493437414882,-1.1116804403341272,-0.5240869500264029,2.7641851135340145,0.9132580674968158,-1.8022850407469764,0.595524786108301,-1.3307897510967186,-0.8943750980329284,0.15772447251500327,-0.09528118766680942,-0.3493615813886452,-0.8243159656548361,-0.734401352677461,0.9392383353282612,-0.03283400891732833,0.3793766484664952,0.9714581108226337,-0.4655111948187464,-0.02257485310492761,-0.08317257397870287,-0.8162046710510146,0.3589916110160886,-0.8997468031527376,0.08936116593580824,1.1958848304393332,-0.8552273644330477,1.1951637034866556,-1.955079109334754,0.26902248398265116,2.0233773004167968,-0.36436234782047444,-1.843295273868656,-0.2917951082683433,-0.47182547572875777,0.5127598918215567,1.7960382233463417,2.0623430145099126,0.25155589869878403,0.6224627835775826,0.3929028068078146,-0.08252226457671774,-0.4195753143005426,0.8503879027871113,-0.1077132797182969,0.4374820317624592,1.5732552204679489,0.5124176533274386,-1.572461841757696,0.7777031157026596,0.23465028170940827,0.6666406350942818,-0.4180495083681748,0.3447964083517669,-1.8342349441134687,-2.2154435605042266,0.6979894606278356,0.601455723219438,0.4352038267208535,-0.218773762951801,-1.574423721086748,-0.7105381157683057,1.7873978121987026,-1.145582970857573,1.326526050421047,0.49104222390884994,0.7580335439263906,0.3567537617279385,-0.722243235326307,-0.6701841037474914,0.26197785440037646,0.5454543335064357,0.24135502216577742,0.7962459699679234,-1.5638937393595074,0.16533078626606934,-0.5544362100989715,0.20186797645130156,0.3875256026979458,-1.1116085969937075,2.7186707098287277,-0.9599261399547047,0.6024358068849044,-0.7712306625611911,-0.7432017320541932,-0.4475644466283472,0.35098509397031863,-1.078340672524158,-0.27641815283602467,-1.8261511440844298,2.0403284680301845],\"colorscale\":[[0.0,\"#440154\"],[0.1111111111111111,\"#482878\"],[0.2222222222222222,\"#3e4989\"],[0.3333333333333333,\"#31688e\"],[0.4444444444444444,\"#26828e\"],[0.5555555555555556,\"#1f9e89\"],[0.6666666666666666,\"#35b779\"],[0.7777777777777778,\"#6ece58\"],[0.8888888888888888,\"#b5de2b\"],[1.0,\"#fde725\"]],\"opacity\":0.8,\"size\":12},\"mode\":\"markers\",\"x\":[-0.27238912750823513,0.4533736444850577,-1.2032332940169836,0.9325830424935936,0.04765634831091961,-1.9209372945058618,2.0608592711997846,0.016870942802639784,0.6504520577033072,-1.4895203328090847,0.18301671073817227,1.1584596527055622,0.4822755651692271,0.5188490254030502,-0.7253337400535282,-0.27060155324307705,-0.26285698973988847,-1.058718889451892,0.14157774212324195,-1.972806567963364,-0.08682880487392318,-0.7422034481304609,0.5558829904492906,-0.347945259331313,0.6952496146865041,-0.04212235178189354,0.8354046844591988,0.196619573595919,1.0353769095977496,-1.6710483556906555,-0.31936747278479183,-1.1062581092225743,0.2647741643622466,0.11069453424927159,0.6871443828874294,0.036036323915930125,-0.08792454254793426,-0.8420629560386295,-0.40853535838502053,-0.46470318672092853,1.0475150094119723,-0.7772257760563707,-1.430558081688435,0.3121062200900773,1.5337819184500057,1.0852996071659193,0.5306043550198262,1.6256167737145482,0.15671881220221157,-1.1183403670854508,-1.040666322330025,0.1430081156750913,0.8138960397525121,0.47899025807085066,-1.8152842352179428,0.8041560909615422,-1.374703848480853,0.42420090212018646,-0.9959460481319413,-0.5962305903307846,0.19516972701908128,0.3020690380231824,1.2297645349127686,-0.3198531665684567,-0.49110209618082934,0.6197907812692057,0.4865896867199076,0.8252624298665194,1.2767704869314014,-0.050508725856465375,-0.21440611499898063,-0.37686950475116143,0.10390527780460486,1.2602432620115227,-0.1659816710694131,-0.24102264974190074,-0.9099373665935,-0.9884157602302067,1.948526565281133,-0.061602987259191354,1.032230783538513,-1.5603106901791728,0.37917838708982227,1.2371287863256988,1.1026415995595424,0.26810934709421674,-0.1905196007260105,1.669340676199903,-0.25937652139415224,-1.5034754354009428,0.08718959182994156,0.48557101966947247,2.0948139368384378,0.9953342778521043,0.8727161994077558,-1.5066012177030874,-1.444443217797875,0.6081558105142496,0.6177981166647522,-1.2970355127522983,-0.29801372271050386,0.8348751547281608,-0.24307715882901018,-0.5669991226016105,0.21333623766173257,0.7884108981810791,0.40010384252449904,0.7815054212586756,-0.15364031367730555,0.7514486348954732,-0.20394126829041387,-0.41623017068494916,-1.4410677466227413,0.2117650129270319,0.44985574237253295,-2.072682526628129,-0.9076172648696561,-2.14385203750341,1.896757875864419,-1.342840996543825,-2.0485310312279807,-0.6857499187195686,-0.8456725841384348,-1.1382573903740738,0.34754776730199755,1.1201820017903346,-1.3907235458655542,1.3624173007051936,-0.47127553363940555,0.04279283559968527,-0.2962603820407768,0.2657421911996251,-0.7904389351396862,0.11072767433521727,0.9260261932090896,-2.8450926212759007,0.5473072918696715,-0.37852212851064515,-0.14094178928607165,-0.16192443957721123,-0.14462021211730228,1.8398906970511946,0.24223561095290355,-2.238205496817701,-0.3537257772633204,0.10526043249033182,0.7647470055008501,-1.839075780776401,0.4034736692815652,1.6385815079059325,-0.712857454389045,-0.7097415851050372,1.2642173859451507,-1.5030284907520672,0.755634494327703,-0.2161023198397142,0.4973972861730555,-0.7582708879786136,0.2954880566404422,3.3152290620651836,-1.5062975277997779,-0.4759850730348291,-0.0005264560493910427,0.21784081155674465,-1.6219189329609056,-1.3871860575142028,1.118745511394427,1.8189832938154953,0.7883690660227524,0.018848261686634595,-0.9371069998001528,0.33993779643883837,-0.6070037129492122,0.016627924883311874,-0.3911148636652968,0.7630864206971851,0.9297847763412131,0.7535488110687503,0.2174950242637816,0.645309708149528,0.8409861544743945,-1.4417082411249955,-0.28106058617701934,-0.4578421267027324,-0.8513480268988733,0.08877027352632054,-0.930952997253026,-0.5263731756192981,-0.8921783058464494,-1.0649722957578938,0.7562440411101172,-3.093898666874714,1.4307365965713275,0.8632991243161015,-0.1308794462423899,0.42057214442242924,0.6620393072578726,0.566240638488922,1.3323867493748989,0.2848088668812879,0.8649726171095616,-0.3747158983103658,0.2880325054543044,0.45466758255475626,-0.7608579917014785,0.05746487087593363,-0.9642962737503739,1.233124843649638,0.019540779416982172,-0.3179439368600112,-0.06969747820418776,-0.8392315157492323,-1.0888167937793898,-0.5178348303527771,-0.7663260017846489,-1.4247843870397527,-1.4306835701835563,0.008380190052500182,0.40165915149616216,0.12555540657206374,0.6009094125342931,-0.1771545161292993,0.7506723266213168,0.19793730772085058,-0.1825998234224195,-0.24349332736923554,0.07042741196821443,-0.47734553771182703,1.3827727649283899,1.123862569325817,-0.5110235599168372,-0.5265503189008591,-0.4321958917525653,-0.30307055027171376,-0.6554281122281932,-1.0126271433927085,-1.155368137197501,-1.4337059293826657,0.954283505630222,-0.52118702159312,0.732993658773298,0.348759266029283,-0.06851225930869646,0.14640463428442171,0.32380494753283634,0.739146073866458,1.4207315084114802,0.48660386681369744,0.23935707418730498,-0.9023320682717253,-1.178685154342335,-2.2624145469518244,0.2937822686356934,-0.1188176242997009,-0.7599806291401258,0.3749721703447926,-0.44727694162524356,0.3243936116139474,0.44224345982447405,-3.091103467808736,1.0879196564949076,-1.9386339773357406,-0.3639804409351836,0.30309038830696294,-1.619197040162011,0.5108464662612645,-0.6486228296294816,-0.7493218175087272,0.6368450149632043,0.7360551568421826,-0.05538190385152312,-0.8585615386023381,1.0730545770359696,1.5151243997554185,0.036801493447754054,0.061461823116874835,1.3319385844920766,1.1860419552679293,-0.26150040161320726,0.33061615716153603,-0.9538199653639559,0.07279049370739982,1.4765002327580523,0.2738554479806834,-0.1284777866732307,0.14198836115895244,0.7962409944961216,-0.1305168673142521,-0.023652623402691874,1.842427066714471,0.08946359932651315,1.5780772810767931,0.46891575575046873,1.4535243437035157,-0.32871449901293504,0.9895479907674927,-0.8662288594977119,-0.4451577830096069,-1.839818822170201,-1.5284716502375293,1.591020835166072,0.7778149554028945,-1.6328025720817807,1.623012373700156,-0.5508043819374244,0.39241320603015417,-0.8631995394204376,-1.5050560791323062,-0.2646671557656032,0.5761774286252263,-1.4519286507766436,2.0249148088612015,-0.13542659719184555,0.11238375464609679,-1.0233293933932461,1.3548024924383189,-0.9563071121534035,0.7907208515649802,0.30665078764060505,-0.38489209803353086,-0.42642341002918954,-0.9698363063168417,-0.9637740008534068,-1.0681847546298593,1.9816456760957377,0.09596015558121514,0.924310675798594,1.035613027574085,-0.3392818397840403,2.0285519692198086,-0.18812706551715142,-0.5831189745155708,-0.354277404985994,1.5851772445102674,-0.5345865662960857,-0.21731494084150693,0.17262459010703302,-1.5765017445992962,-0.380075760135604,0.35290965397460733,0.32757338184405965,2.1253661388164615,0.45467948631286004,-1.2597833798181741,1.098712863555957,0.2632782471249602,1.9897808540026054,-6.258266407551661e-05,1.6984907808219478,1.524386700297123,-0.5955449760281413,0.683803808972444,0.11784201992179175,1.6608866162015117,0.023408365077848707,0.038049933865573315,0.20269425463770568,1.8165174705204414,1.2789466657355844,-0.1930861756561083,0.9061913155217395,-1.0345393650140264,-1.1474355574597088,0.25429288572476244,-0.7002326916809506,-0.15146293620994922,0.1493255302947542,1.0258272292025457,-1.075099088783474,-0.3245522634234356,-0.5411997856956047,-2.1890742987362852,1.373277169198669,0.8797826055782745,0.8325449453403997,0.5720074279041719,0.3644347405361912,-0.4815895303864532,0.05122965212400551,-1.7417815131686383,0.77165080263934,0.3236492889185359,-1.5867271480172387,-0.7738994752327589,-0.2241077039199681,-0.1962077869157595,0.8798945264065667,0.33581197798952794,1.447035516137707,0.36264036093380225,-0.5550733410598538,-0.9353411174702118,-0.5887597515151095,-1.854329303874849,0.6732653090144388,0.3426109214717249,-0.3136655827544466,-0.08086840736623103,-0.9080729872200775,-1.27826085282639],\"y\":[0.8174348505209467,0.6264001983778069,0.49505906050925513,-0.3965934978969201,0.6803280065894175,-0.7264466681822579,-0.09663812906258379,-2.4463759616586294,-1.222709340029509,0.14491097315667084,2.1101762984350407,1.6124456790940025,0.3240223914338518,-0.19862843214295312,0.3588738853336399,-1.3551592956473266,-0.6445002300644759,-2.6172386274651327,-0.08144179737296288,1.516460590098341,-0.6680558207713638,-0.1563681681315644,-0.5325949647752947,1.3372509415017553,0.02068344670747234,-0.9707033057181242,0.6543888970562561,-0.9291415081289918,-1.1346266313986264,0.9050033093986752,0.27495829761113205,0.594954129973408,-0.39085467319259404,0.34220297702239694,1.0116697027795623,-1.0152961654996118,1.153024777233992,-1.0020407753480611,-1.0232415350230866,1.0940111403636903,-0.8061139870761773,-0.9576188625845002,-0.16922372468693145,0.19337044204270362,-1.2783200889991362,-0.10744207106337963,-1.5407593972478115,-0.3292971655763843,0.006176798825863899,-0.4030176888676864,-0.014976666858930041,-0.43804782361037725,0.8539285375734869,0.5363047767584346,-0.34650912453056637,0.7356906510548805,0.05913079976252932,-0.29699904540927946,-0.15074450989458493,-0.09426194526262839,0.45625825337691817,-0.1294378848934809,-0.5890319853341902,-1.921768386402266,0.7264758670520328,0.9131163349782334,0.6120212738301877,-0.22226804471188807,1.7424106985133705,0.2789976508668096,-1.266154935500546,-0.0767837214815531,-1.971973270884478,0.07293146655943308,-1.915863507926102,-1.1230831943899635,0.7088698146466048,0.37520630338943356,-0.12628496159174715,-0.13966746473844194,0.4760754869156986,-1.250901363069821,1.1775969246012625,1.2737270477707026,-1.7638003422508284,0.9619631592176531,0.14134648433448613,0.2856078324684438,-0.23970872044932295,2.0021158343714105,-0.5435265715330067,0.15216174319979872,2.5048195754148685,-0.18404588378111286,-0.40838571367729687,-0.8237267012401848,1.1858842329184895,0.515095286650861,-0.06134088864421174,1.4112135018199254,-1.2218644885544145,1.2579813784644924,-1.6009918096277953,2.077324826404447,1.1245234838884024,-0.7142313034471095,-0.7328883923980097,-0.923415642992198,-0.07189233679274244,-0.6570557645652264,-1.769056482497465,0.48759601988891077,2.2900487268467593,0.4651080007860213,-1.6127936933012164,-0.37430018602143617,0.5655309152559567,0.8756054747886622,-0.6421139709775153,0.08256192142048255,0.6592113414175489,1.0176242057040423,-0.883354174095561,1.3251352899618971,-0.18636003166820933,0.9441430250739701,-0.8588241559071246,-0.060013409987578994,-1.0152921634887464,0.33605335600089464,-2.464074438850303,-1.3770102348407658,2.6192634050506367,-1.0238224636213176,-0.5215612673547733,-0.8854938208250417,-1.9206918250399594,1.3866872992384462,-0.5304264143186516,-0.7053891648502018,-0.5365792044998734,1.0136844091308883,1.869669310247183,-0.31858455259119467,-1.2063079869416375,0.4505155434253394,-0.6594806147120476,0.17798117460720705,-0.294645819182038,-2.5183520817831178,-0.8223254706247806,0.08543957557465304,-1.8656623486616795,0.8934414895779467,0.6797351879118627,1.266511127923984,-1.7548079857465169,-1.3267215312165408,-1.902950794241438,1.2785055953298596,-1.5690607439981732,-0.28190527532078624,-0.5097481903522946,-0.35167547794209275,-0.744711567654327,1.0745824138774112,-0.5893995678549693,0.8976861795039422,0.3865433882332127,0.10691939656122726,0.3309287863411421,2.178167194611642,-0.38988321330794556,1.7519931179212815,1.6831743360612312,-0.4822855032939538,-0.07794676987636727,-0.04906599974495348,-0.2904272702847218,-2.5400082537187982,-2.056039202493599,-0.717956487965721,-0.09840019508024805,0.1261109282493893,0.057194502320631085,-0.9432459757646074,0.955247171643085,1.9290771687732202,0.06064888362193009,1.3440772909515533,0.7022849244928013,0.21625368707666864,-0.7836889225263964,0.21361415892717397,0.913016823535196,-1.7954328746472628,1.9892916231291216,-0.06410590908639237,-0.12952490061838107,0.6751166541217681,-0.8795396016976375,0.32455168041648624,-1.2615098213843123,-0.5164316507959565,-0.9415871038033977,-0.12928684638024115,-0.6786097187949516,-0.33980310052079316,-0.1481848085549489,1.687900778875946,-0.5822867056158945,-0.24394248764321397,-0.23583327597515197,-1.7012534605963647,0.2825486101206226,0.7290265937828759,0.4908657722605982,0.8882714824251361,-1.0445130294699077,1.6567000692250158,-0.8040490040504878,0.6408063644674615,-0.1313261764224072,0.6121335123616743,1.664096514101214,-1.8691238933046384,1.0521718860532456,0.34415012697231934,1.9205796493516747,0.782292786250275,0.09230619504544714,0.4700452250270209,0.3270736386411343,-1.4739003850169976,0.37420382316389156,-0.2308613998596461,0.1254775291169406,1.2002499489013159,0.10291082457482538,0.6889824120825266,0.5325995425946841,-0.9034715232549075,0.4282410095973299,-0.7793185065796125,-0.2308840023914116,-0.48166102264547017,0.26267360348869573,-0.7281245426941299,-0.6252652260251217,2.033623726944058,-0.396138125031325,1.1981025752513776,1.1604276466093253,-0.4224641517501267,-0.6025910138185477,-0.3866600931985526,-0.3456206794487238,0.09460969062314147,-0.6411193491729525,1.7288874373342014,-0.9564717461863343,1.5595949680046826,-0.030913108027590293,0.22851154807724258,1.0937656493686125,-0.8634444148124745,2.0002044266337564,-0.7992685722645089,-1.1049606122206823,1.5716739142983551,-0.6753489040606294,1.3341516197074628,-0.6035534160240627,-0.6964461388182118,1.6734829373862532,-1.641127860123012,-1.2978225515854944,0.9274017497807299,-0.6147845000916312,0.06687035051496053,1.219861149438153,-0.9165881142288941,-0.3100917736584932,-0.9422833316509256,-0.712216139551542,-0.4595368266888847,-1.3397980223566366,0.07343772444029788,0.9197210957412029,-0.3197324926665373,-0.08155104499859242,0.7500706023275225,1.2537594686191345,0.658703681125841,-0.7482375349477156,0.6744018489983513,0.9411166734856854,0.7256641123121732,1.3829424475103145,-1.5607569503195766,-1.3175379176372672,0.8332734680196353,-1.8349766520652109,1.3393657887087307,0.068159538093606,-1.7820292074163373,0.8483449627244296,0.610396087814018,-0.8331632190538382,-0.3031709912984946,-0.5471714309573835,1.0307335872143093,0.14658894027429198,-0.30125991386526657,0.4094026087530963,1.5901768213692489,-0.36123597967190463,0.8822035392520381,1.6014801114367037,0.8488900744218585,-0.2160634961065747,-2.1357339252128926,-0.5837688228909702,-0.1647402515708342,1.8903947116620066,0.4153560178623496,-0.7855938934271502,0.12191614622345587,-0.2425975512366735,-0.24332282833713337,1.5455702025427047,-0.7347360348417853,-0.7865549701688841,0.8725924136122146,-0.11315818854242933,-0.44474241764680095,-0.8327507593767718,0.5014765851257104,1.356454985436841,0.019225276233235958,0.37375804031985893,0.5788066204941993,-0.244638798148341,0.03689011044748028,0.2968741682626164,1.3831796678805974,-0.5259349848985779,1.1254407221595435,0.3810385021961064,-0.30662237544825327,0.03476616694104173,-1.5191012273666387,-0.631664502878474,-0.6463559639349671,0.3823723337509731,0.23008434169685588,-0.8259559066236278,-0.6609412693790631,0.7406558895342644,0.03520291812038098,-0.301107605096635,-1.0921780115164517,0.21656120779835264,0.6425193708913438,1.0298449669283403,0.3483322239079389,-1.4745516849545754,0.5651676374733486,0.32314738495060963,-0.7150264152785528,-0.2059480857414485,-0.5812298000916317,0.13749480644005646,-0.7689812037355834,1.7375111074065317,-1.7152020128303735,0.29977639399279915,0.3783722979137877,-0.8886253700842547,-0.8923214462040839,-0.440502055433287,0.7309024186195403,-0.38682821063453005,0.6536409079428837,-0.7425051754868645,1.224613565136103,1.126531862535594,0.3007455421514691,-0.7819169625703637,-1.8272638873556382,0.9781963434464941,0.14943814450844858,-0.5762230388938734,1.5316274590205734,-0.9502452315462901,1.9408627137419876,0.1002516190450776,1.00455993741973,-1.0269602689694735,1.4018512134218182],\"z\":[0.40835560255706077,-0.21004072098293242,-2.0207073267203755,-0.32473176994342756,0.3110125758972808,-0.051093645747424477,-0.870581971420156,0.2944189015426119,1.276650830848768,-1.4786234580425308,-0.08953917799712363,0.8492938246145604,-1.3079250551396504,0.9601382906413987,-1.1376450357696632,-0.36447762872483624,-1.5425806435578657,-1.445430275943427,-0.49808756221222206,-1.0153276007267353,-0.28967129548650616,0.797072477823345,0.2580318564190278,-0.427827242511894,1.358528377935598,-0.3472537109962571,0.33109880496144717,-0.43439176509127503,-0.7457297396287799,-1.0859494210913518,-0.6705345438905885,1.2007220633929363,-0.07884605085836044,1.0491138226076733,-1.8779815968275368,0.7960720836257463,-1.1405115515649484,2.4474817569542218,-2.4834064243415295,-1.37613219704612,0.36928854275637013,-3.706721592784068,0.7592966892956677,-0.11992286605990682,-0.4747391310281048,-0.2580674985444094,-0.8902666985643083,0.07381230471014497,-1.8696390739834574,-0.6980279275349909,-0.5671371957724465,-0.9357896177012919,0.35245574006875496,0.25481218169093944,-0.8339008773235252,1.6282500637635566,0.14949340000260225,0.33934624473432373,1.0886619455904039,-1.0194102437213235,-1.4029578596079357,0.4997372039247602,-0.3632864715146479,-1.5166592954120208,-0.5151466466341708,-1.2468995267294303,-0.4713419950286553,-1.4131146997683903,1.1054200801493579,-0.6629588055060461,2.1150455858380326,0.43838918692536144,-1.263542337142275,-0.07434030951859652,0.43189031077131895,-0.12535829567912715,-1.2676760741401292,-1.121701440354432,1.654649648402798,2.256460374535665,0.18184523060232188,0.9652295544337085,0.1342638063886732,0.44835784891077196,0.09865340521465062,0.06642863860792514,-0.807444558610546,0.641331002658382,-0.46117740621648884,-1.371760351313308,0.33374982052196117,1.293940748313904,-0.41618467632808526,0.528951384641219,0.6119682935559636,-1.0581816342405603,0.17588316424196412,-1.3994533917176757,-0.2679284820617998,1.780539002106321,0.062042327883181335,1.2594089382483045,0.05763508287290616,-0.45874544647839255,0.6019656870323453,0.5964615761478025,0.926132508866573,-1.9452851721285598,-0.0680390981974547,0.2887258987355181,-0.5383474542369819,-0.18851601375557783,0.09814431742822127,0.5815149091293378,0.9155213184557504,-0.5207875679697496,-1.2710657016811355,-0.39921170559752206,0.7238654141296351,0.9805824863944096,-0.8710617395038496,-0.7055325913931518,0.038092673484472046,-1.2822634202885443,1.4608706647547223,-1.337551606287019,-0.8407803263232149,2.0997113552736275,-1.5186514680723366,-0.5905843295711244,1.367025054309403,-0.23804213481397224,0.3118450162812762,0.8917223886646173,1.9514314091882456,-0.3550611620444512,-1.6210401281471185,0.6704905277694153,-0.39008097413367254,1.7708019151736365,1.8658401145499113,1.4815317300009783,1.2344134468323587,-0.20778404491235022,1.3603386566622346,0.741832059492397,-0.12863993358832462,0.2978165913442716,0.8020836187578216,1.0448744708549624,-0.8234651772480028,0.42457365578302475,0.6079077677955959,-1.1463397929263908,-0.5004098172228498,3.5062580823252913,-0.4039036989253977,1.0541799322659815,0.19479298625516303,0.2576627350423931,0.1025938185936029,-0.06147148645960633,1.3375498170512046,0.4156557489025414,0.7907490243929927,-0.5347952187324845,1.3709662315017401,0.873628658272098,-0.8796515675712603,0.8943282558644146,-1.726386426758728,-0.6667055394232804,1.3735306205545614,-0.2685156195916061,-0.443338637575417,0.18961977556502876,0.32145256003644024,-0.6159653005253385,-1.2134931955859,-0.234314390817687,-0.7218200761122383,0.5001590801470418,-0.11459233737599568,0.9781056840709094,0.4909495020037021,0.9139818038180761,2.938423570387447,-0.0840785457814737,-1.9857127593793291,-0.9927604846238429,-1.174861794378022,1.1926240755425708,-0.7912781555022763,0.9835889153657343,1.1853131416831852,1.4957087172404155,-0.7431413651743188,-1.2698204299452407,0.9245579180831063,-1.0243686335454847,-0.3467957722854456,1.0960875387374183,-0.8613445131301887,0.5786962521099694,-1.0916382639622892,-1.4224720266998698,-0.5312700065340116,-0.7441287809463847,0.5994546152336906,1.0960347628999687,1.4844045572885805,-0.9694458548958786,0.15819591596490218,0.21408888558776093,1.2105658550055214,-0.42879354922132396,-0.22263163675443182,0.8119374613402669,-2.2172805928618797,-0.4816398530041627,0.6541187446601525,0.7761236046275256,0.6947395386102431,-0.225560716596808,1.9930566752785777,-0.25939872517524953,0.8143147020378634,-0.8314874953885035,-0.6601560039468349,-0.059966602089304454,-0.9214269956168429,-0.9285744824230535,-0.667463700430018,1.0335277341364624,-1.1044262208438729,-0.5285084121191811,-0.4138983603036768,-1.1718205618788806,0.3964933049685951,-0.18701708972079897,-1.8627620476759041,0.9543517339495604,-0.6712701054479443,0.9860049142026036,-0.18717705304445612,0.2909228179965722,0.16057964799193464,-0.40595007291434043,0.22296736551857593,-1.4200599672663268,-0.05952681461704877,-0.174541205596865,0.3289807793749764,1.9425655191999227,-0.5576001249372268,1.1741536739499285,-0.6402371777712133,0.024078898372580367,-1.262347362643733,0.47974000954351664,0.5488784613431381,0.4370134882591648,-0.918107927497807,-0.9293558859273275,-0.6254239427175884,0.010274261096082492,-0.9464428830946022,-0.4051073028607479,-0.126797197770093,-0.7049163013495319,-0.5991223731073031,0.42494398510828196,1.0469302582699906,-4.427042573530788,-0.5637221615808672,-0.9770287156871282,-0.08017609710354628,0.06772711067846646,1.2069311346711944,-1.65260663728003,1.2129117607500364,-0.4766396912061809,0.03690182854234911,-0.1826107894093856,0.5962472340778455,0.9419347480496175,-0.9348491647565824,0.3914688139317456,0.0992481233429994,-1.0269308011690366,0.28639689613184866,-1.477275707234199,0.00693445279702493,3.392299779914161,-0.20038933743342952,0.6724739679517721,0.6793955216636718,0.13694258831373354,0.564669502516843,0.7210158716791142,-0.5656409175382379,-0.3265626947426057,0.47169901319185337,-1.1010127166046906,0.9447811340236929,0.89395083764286,0.5228368071900948,0.37818158400566515,0.2727939709831232,1.0354493437414882,-1.1116804403341272,-0.5240869500264029,2.7641851135340145,0.9132580674968158,-1.8022850407469764,0.595524786108301,-1.3307897510967186,-0.8943750980329284,0.15772447251500327,-0.09528118766680942,-0.3493615813886452,-0.8243159656548361,-0.734401352677461,0.9392383353282612,-0.03283400891732833,0.3793766484664952,0.9714581108226337,-0.4655111948187464,-0.02257485310492761,-0.08317257397870287,-0.8162046710510146,0.3589916110160886,-0.8997468031527376,0.08936116593580824,1.1958848304393332,-0.8552273644330477,1.1951637034866556,-1.955079109334754,0.26902248398265116,2.0233773004167968,-0.36436234782047444,-1.843295273868656,-0.2917951082683433,-0.47182547572875777,0.5127598918215567,1.7960382233463417,2.0623430145099126,0.25155589869878403,0.6224627835775826,0.3929028068078146,-0.08252226457671774,-0.4195753143005426,0.8503879027871113,-0.1077132797182969,0.4374820317624592,1.5732552204679489,0.5124176533274386,-1.572461841757696,0.7777031157026596,0.23465028170940827,0.6666406350942818,-0.4180495083681748,0.3447964083517669,-1.8342349441134687,-2.2154435605042266,0.6979894606278356,0.601455723219438,0.4352038267208535,-0.218773762951801,-1.574423721086748,-0.7105381157683057,1.7873978121987026,-1.145582970857573,1.326526050421047,0.49104222390884994,0.7580335439263906,0.3567537617279385,-0.722243235326307,-0.6701841037474914,0.26197785440037646,0.5454543335064357,0.24135502216577742,0.7962459699679234,-1.5638937393595074,0.16533078626606934,-0.5544362100989715,0.20186797645130156,0.3875256026979458,-1.1116085969937075,2.7186707098287277,-0.9599261399547047,0.6024358068849044,-0.7712306625611911,-0.7432017320541932,-0.4475644466283472,0.35098509397031863,-1.078340672524158,-0.27641815283602467,-1.8261511440844298,2.0403284680301845],\"type\":\"scatter3d\"}],                        {\"margin\":{\"b\":0,\"l\":0,\"r\":0,\"t\":0},\"template\":{\"data\":{\"barpolar\":[{\"marker\":{\"line\":{\"color\":\"#E5ECF6\",\"width\":0.5},\"pattern\":{\"fillmode\":\"overlay\",\"size\":10,\"solidity\":0.2}},\"type\":\"barpolar\"}],\"bar\":[{\"error_x\":{\"color\":\"#2a3f5f\"},\"error_y\":{\"color\":\"#2a3f5f\"},\"marker\":{\"line\":{\"color\":\"#E5ECF6\",\"width\":0.5},\"pattern\":{\"fillmode\":\"overlay\",\"size\":10,\"solidity\":0.2}},\"type\":\"bar\"}],\"carpet\":[{\"aaxis\":{\"endlinecolor\":\"#2a3f5f\",\"gridcolor\":\"white\",\"linecolor\":\"white\",\"minorgridcolor\":\"white\",\"startlinecolor\":\"#2a3f5f\"},\"baxis\":{\"endlinecolor\":\"#2a3f5f\",\"gridcolor\":\"white\",\"linecolor\":\"white\",\"minorgridcolor\":\"white\",\"startlinecolor\":\"#2a3f5f\"},\"type\":\"carpet\"}],\"choropleth\":[{\"colorbar\":{\"outlinewidth\":0,\"ticks\":\"\"},\"type\":\"choropleth\"}],\"contourcarpet\":[{\"colorbar\":{\"outlinewidth\":0,\"ticks\":\"\"},\"type\":\"contourcarpet\"}],\"contour\":[{\"colorbar\":{\"outlinewidth\":0,\"ticks\":\"\"},\"colorscale\":[[0.0,\"#0d0887\"],[0.1111111111111111,\"#46039f\"],[0.2222222222222222,\"#7201a8\"],[0.3333333333333333,\"#9c179e\"],[0.4444444444444444,\"#bd3786\"],[0.5555555555555556,\"#d8576b\"],[0.6666666666666666,\"#ed7953\"],[0.7777777777777778,\"#fb9f3a\"],[0.8888888888888888,\"#fdca26\"],[1.0,\"#f0f921\"]],\"type\":\"contour\"}],\"heatmapgl\":[{\"colorbar\":{\"outlinewidth\":0,\"ticks\":\"\"},\"colorscale\":[[0.0,\"#0d0887\"],[0.1111111111111111,\"#46039f\"],[0.2222222222222222,\"#7201a8\"],[0.3333333333333333,\"#9c179e\"],[0.4444444444444444,\"#bd3786\"],[0.5555555555555556,\"#d8576b\"],[0.6666666666666666,\"#ed7953\"],[0.7777777777777778,\"#fb9f3a\"],[0.8888888888888888,\"#fdca26\"],[1.0,\"#f0f921\"]],\"type\":\"heatmapgl\"}],\"heatmap\":[{\"colorbar\":{\"outlinewidth\":0,\"ticks\":\"\"},\"colorscale\":[[0.0,\"#0d0887\"],[0.1111111111111111,\"#46039f\"],[0.2222222222222222,\"#7201a8\"],[0.3333333333333333,\"#9c179e\"],[0.4444444444444444,\"#bd3786\"],[0.5555555555555556,\"#d8576b\"],[0.6666666666666666,\"#ed7953\"],[0.7777777777777778,\"#fb9f3a\"],[0.8888888888888888,\"#fdca26\"],[1.0,\"#f0f921\"]],\"type\":\"heatmap\"}],\"histogram2dcontour\":[{\"colorbar\":{\"outlinewidth\":0,\"ticks\":\"\"},\"colorscale\":[[0.0,\"#0d0887\"],[0.1111111111111111,\"#46039f\"],[0.2222222222222222,\"#7201a8\"],[0.3333333333333333,\"#9c179e\"],[0.4444444444444444,\"#bd3786\"],[0.5555555555555556,\"#d8576b\"],[0.6666666666666666,\"#ed7953\"],[0.7777777777777778,\"#fb9f3a\"],[0.8888888888888888,\"#fdca26\"],[1.0,\"#f0f921\"]],\"type\":\"histogram2dcontour\"}],\"histogram2d\":[{\"colorbar\":{\"outlinewidth\":0,\"ticks\":\"\"},\"colorscale\":[[0.0,\"#0d0887\"],[0.1111111111111111,\"#46039f\"],[0.2222222222222222,\"#7201a8\"],[0.3333333333333333,\"#9c179e\"],[0.4444444444444444,\"#bd3786\"],[0.5555555555555556,\"#d8576b\"],[0.6666666666666666,\"#ed7953\"],[0.7777777777777778,\"#fb9f3a\"],[0.8888888888888888,\"#fdca26\"],[1.0,\"#f0f921\"]],\"type\":\"histogram2d\"}],\"histogram\":[{\"marker\":{\"pattern\":{\"fillmode\":\"overlay\",\"size\":10,\"solidity\":0.2}},\"type\":\"histogram\"}],\"mesh3d\":[{\"colorbar\":{\"outlinewidth\":0,\"ticks\":\"\"},\"type\":\"mesh3d\"}],\"parcoords\":[{\"line\":{\"colorbar\":{\"outlinewidth\":0,\"ticks\":\"\"}},\"type\":\"parcoords\"}],\"pie\":[{\"automargin\":true,\"type\":\"pie\"}],\"scatter3d\":[{\"line\":{\"colorbar\":{\"outlinewidth\":0,\"ticks\":\"\"}},\"marker\":{\"colorbar\":{\"outlinewidth\":0,\"ticks\":\"\"}},\"type\":\"scatter3d\"}],\"scattercarpet\":[{\"marker\":{\"colorbar\":{\"outlinewidth\":0,\"ticks\":\"\"}},\"type\":\"scattercarpet\"}],\"scattergeo\":[{\"marker\":{\"colorbar\":{\"outlinewidth\":0,\"ticks\":\"\"}},\"type\":\"scattergeo\"}],\"scattergl\":[{\"marker\":{\"colorbar\":{\"outlinewidth\":0,\"ticks\":\"\"}},\"type\":\"scattergl\"}],\"scattermapbox\":[{\"marker\":{\"colorbar\":{\"outlinewidth\":0,\"ticks\":\"\"}},\"type\":\"scattermapbox\"}],\"scatterpolargl\":[{\"marker\":{\"colorbar\":{\"outlinewidth\":0,\"ticks\":\"\"}},\"type\":\"scatterpolargl\"}],\"scatterpolar\":[{\"marker\":{\"colorbar\":{\"outlinewidth\":0,\"ticks\":\"\"}},\"type\":\"scatterpolar\"}],\"scatter\":[{\"fillpattern\":{\"fillmode\":\"overlay\",\"size\":10,\"solidity\":0.2},\"type\":\"scatter\"}],\"scatterternary\":[{\"marker\":{\"colorbar\":{\"outlinewidth\":0,\"ticks\":\"\"}},\"type\":\"scatterternary\"}],\"surface\":[{\"colorbar\":{\"outlinewidth\":0,\"ticks\":\"\"},\"colorscale\":[[0.0,\"#0d0887\"],[0.1111111111111111,\"#46039f\"],[0.2222222222222222,\"#7201a8\"],[0.3333333333333333,\"#9c179e\"],[0.4444444444444444,\"#bd3786\"],[0.5555555555555556,\"#d8576b\"],[0.6666666666666666,\"#ed7953\"],[0.7777777777777778,\"#fb9f3a\"],[0.8888888888888888,\"#fdca26\"],[1.0,\"#f0f921\"]],\"type\":\"surface\"}],\"table\":[{\"cells\":{\"fill\":{\"color\":\"#EBF0F8\"},\"line\":{\"color\":\"white\"}},\"header\":{\"fill\":{\"color\":\"#C8D4E3\"},\"line\":{\"color\":\"white\"}},\"type\":\"table\"}]},\"layout\":{\"annotationdefaults\":{\"arrowcolor\":\"#2a3f5f\",\"arrowhead\":0,\"arrowwidth\":1},\"autotypenumbers\":\"strict\",\"coloraxis\":{\"colorbar\":{\"outlinewidth\":0,\"ticks\":\"\"}},\"colorscale\":{\"diverging\":[[0,\"#8e0152\"],[0.1,\"#c51b7d\"],[0.2,\"#de77ae\"],[0.3,\"#f1b6da\"],[0.4,\"#fde0ef\"],[0.5,\"#f7f7f7\"],[0.6,\"#e6f5d0\"],[0.7,\"#b8e186\"],[0.8,\"#7fbc41\"],[0.9,\"#4d9221\"],[1,\"#276419\"]],\"sequential\":[[0.0,\"#0d0887\"],[0.1111111111111111,\"#46039f\"],[0.2222222222222222,\"#7201a8\"],[0.3333333333333333,\"#9c179e\"],[0.4444444444444444,\"#bd3786\"],[0.5555555555555556,\"#d8576b\"],[0.6666666666666666,\"#ed7953\"],[0.7777777777777778,\"#fb9f3a\"],[0.8888888888888888,\"#fdca26\"],[1.0,\"#f0f921\"]],\"sequentialminus\":[[0.0,\"#0d0887\"],[0.1111111111111111,\"#46039f\"],[0.2222222222222222,\"#7201a8\"],[0.3333333333333333,\"#9c179e\"],[0.4444444444444444,\"#bd3786\"],[0.5555555555555556,\"#d8576b\"],[0.6666666666666666,\"#ed7953\"],[0.7777777777777778,\"#fb9f3a\"],[0.8888888888888888,\"#fdca26\"],[1.0,\"#f0f921\"]]},\"colorway\":[\"#636efa\",\"#EF553B\",\"#00cc96\",\"#ab63fa\",\"#FFA15A\",\"#19d3f3\",\"#FF6692\",\"#B6E880\",\"#FF97FF\",\"#FECB52\"],\"font\":{\"color\":\"#2a3f5f\"},\"geo\":{\"bgcolor\":\"white\",\"lakecolor\":\"white\",\"landcolor\":\"#E5ECF6\",\"showlakes\":true,\"showland\":true,\"subunitcolor\":\"white\"},\"hoverlabel\":{\"align\":\"left\"},\"hovermode\":\"closest\",\"mapbox\":{\"style\":\"light\"},\"paper_bgcolor\":\"white\",\"plot_bgcolor\":\"#E5ECF6\",\"polar\":{\"angularaxis\":{\"gridcolor\":\"white\",\"linecolor\":\"white\",\"ticks\":\"\"},\"bgcolor\":\"#E5ECF6\",\"radialaxis\":{\"gridcolor\":\"white\",\"linecolor\":\"white\",\"ticks\":\"\"}},\"scene\":{\"xaxis\":{\"backgroundcolor\":\"#E5ECF6\",\"gridcolor\":\"white\",\"gridwidth\":2,\"linecolor\":\"white\",\"showbackground\":true,\"ticks\":\"\",\"zerolinecolor\":\"white\"},\"yaxis\":{\"backgroundcolor\":\"#E5ECF6\",\"gridcolor\":\"white\",\"gridwidth\":2,\"linecolor\":\"white\",\"showbackground\":true,\"ticks\":\"\",\"zerolinecolor\":\"white\"},\"zaxis\":{\"backgroundcolor\":\"#E5ECF6\",\"gridcolor\":\"white\",\"gridwidth\":2,\"linecolor\":\"white\",\"showbackground\":true,\"ticks\":\"\",\"zerolinecolor\":\"white\"}},\"shapedefaults\":{\"line\":{\"color\":\"#2a3f5f\"}},\"ternary\":{\"aaxis\":{\"gridcolor\":\"white\",\"linecolor\":\"white\",\"ticks\":\"\"},\"baxis\":{\"gridcolor\":\"white\",\"linecolor\":\"white\",\"ticks\":\"\"},\"bgcolor\":\"#E5ECF6\",\"caxis\":{\"gridcolor\":\"white\",\"linecolor\":\"white\",\"ticks\":\"\"}},\"title\":{\"x\":0.05},\"xaxis\":{\"automargin\":true,\"gridcolor\":\"white\",\"linecolor\":\"white\",\"ticks\":\"\",\"title\":{\"standoff\":15},\"zerolinecolor\":\"white\",\"zerolinewidth\":2},\"yaxis\":{\"automargin\":true,\"gridcolor\":\"white\",\"linecolor\":\"white\",\"ticks\":\"\",\"title\":{\"standoff\":15},\"zerolinecolor\":\"white\",\"zerolinewidth\":2}}}},                        {\"responsive\": true}                    ).then(function(){\n",
       "                            \n",
       "var gd = document.getElementById('18aed001-4a51-41df-a32b-51524a40a63a');\n",
       "var x = new MutationObserver(function (mutations, observer) {{\n",
       "        var display = window.getComputedStyle(gd).display;\n",
       "        if (!display || display === 'none') {{\n",
       "            console.log([gd, 'removed!']);\n",
       "            Plotly.purge(gd);\n",
       "            observer.disconnect();\n",
       "        }}\n",
       "}});\n",
       "\n",
       "// Listen for the removal of the full notebook cells\n",
       "var notebookContainer = gd.closest('#notebook-container');\n",
       "if (notebookContainer) {{\n",
       "    x.observe(notebookContainer, {childList: true});\n",
       "}}\n",
       "\n",
       "// Listen for the clearing of the current output cell\n",
       "var outputEl = gd.closest('.output');\n",
       "if (outputEl) {{\n",
       "    x.observe(outputEl, {childList: true});\n",
       "}}\n",
       "\n",
       "                        })                };                });            </script>        </div>"
      ]
     },
     "metadata": {},
     "output_type": "display_data"
    }
   ],
   "source": [
    "# 畫圖用\n",
    "import chart_studio.plotly as py\n",
    "import plotly.graph_objs as go\n",
    "# 資料用\n",
    "import numpy as np\n",
    "\n",
    "x, y, z = np.random.multivariate_normal(np.array([0,0,0]), np.eye(3), 400).transpose()\n",
    "\n",
    "trace1 = go.Scatter3d(\n",
    "    x=x,\n",
    "    y=y,\n",
    "    z=z,\n",
    "    mode='markers',\n",
    "    marker=dict(\n",
    "        size=12,\n",
    "        color=z,\n",
    "        colorscale='Viridis',\n",
    "        opacity=0.8\n",
    "    )\n",
    ")\n",
    "\n",
    "data = [trace1]\n",
    "layout = go.Layout(\n",
    "    margin=dict(\n",
    "        l=0,\n",
    "        r=0,\n",
    "        b=0,\n",
    "        t=0\n",
    "    )\n",
    ")\n",
    "\n",
    "fig = go.Figure(data=data, layout=layout)\n",
    "plotly.offline.plot(fig, filename='3d-scatter-colorscale')\n",
    "plotly.offline.iplot(fig, filename='3d-scatter-colorscale')"
   ]
  },
  {
   "cell_type": "code",
   "execution_count": null,
   "id": "1d06de58",
   "metadata": {},
   "outputs": [],
   "source": []
  }
 ],
 "metadata": {
  "kernelspec": {
   "display_name": "Python 3 (ipykernel)",
   "language": "python",
   "name": "python3"
  },
  "language_info": {
   "codemirror_mode": {
    "name": "ipython",
    "version": 3
   },
   "file_extension": ".py",
   "mimetype": "text/x-python",
   "name": "python",
   "nbconvert_exporter": "python",
   "pygments_lexer": "ipython3",
   "version": "3.9.7"
  }
 },
 "nbformat": 4,
 "nbformat_minor": 5
}
