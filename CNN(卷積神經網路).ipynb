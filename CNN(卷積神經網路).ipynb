{
  "nbformat": 4,
  "nbformat_minor": 0,
  "metadata": {
    "colab": {
      "provenance": [],
      "authorship_tag": "ABX9TyNK2AU34LAYivD3YuKsXOMd",
      "include_colab_link": true
    },
    "kernelspec": {
      "name": "python3",
      "display_name": "Python 3"
    },
    "language_info": {
      "name": "python"
    }
  },
  "cells": [
    {
      "cell_type": "markdown",
      "metadata": {
        "id": "view-in-github",
        "colab_type": "text"
      },
      "source": [
        "<a href=\"https://colab.research.google.com/github/viola1106/Python_Note/blob/main/CNN(%E5%8D%B7%E7%A9%8D%E7%A5%9E%E7%B6%93%E7%B6%B2%E8%B7%AF).ipynb\" target=\"_parent\"><img src=\"https://colab.research.google.com/assets/colab-badge.svg\" alt=\"Open In Colab\"/></a>"
      ]
    },
    {
      "cell_type": "markdown",
      "source": [
        "CNN(Convolutional Neural Network)卷積神經網路"
      ],
      "metadata": {
        "id": "7iy1Z_V7-Ldi"
      }
    },
    {
      "cell_type": "code",
      "source": [
        "import pandas as pd\n",
        "import keras\n",
        "from keras.utils import to_categorical"
      ],
      "metadata": {
        "id": "oWOJpfNA5m0y"
      },
      "execution_count": 1,
      "outputs": []
    },
    {
      "cell_type": "code",
      "source": [
        "keras.datasets.mnist.load_data()"
      ],
      "metadata": {
        "colab": {
          "base_uri": "https://localhost:8080/"
        },
        "id": "E_Cp4Ogt_0UW",
        "outputId": "97556e0e-ac6b-46d7-a5e0-2fbbf2397b24"
      },
      "execution_count": 2,
      "outputs": [
        {
          "output_type": "stream",
          "name": "stdout",
          "text": [
            "Downloading data from https://storage.googleapis.com/tensorflow/tf-keras-datasets/mnist.npz\n",
            "11490434/11490434 [==============================] - 1s 0us/step\n"
          ]
        },
        {
          "output_type": "execute_result",
          "data": {
            "text/plain": [
              "((array([[[0, 0, 0, ..., 0, 0, 0],\n",
              "          [0, 0, 0, ..., 0, 0, 0],\n",
              "          [0, 0, 0, ..., 0, 0, 0],\n",
              "          ...,\n",
              "          [0, 0, 0, ..., 0, 0, 0],\n",
              "          [0, 0, 0, ..., 0, 0, 0],\n",
              "          [0, 0, 0, ..., 0, 0, 0]],\n",
              "  \n",
              "         [[0, 0, 0, ..., 0, 0, 0],\n",
              "          [0, 0, 0, ..., 0, 0, 0],\n",
              "          [0, 0, 0, ..., 0, 0, 0],\n",
              "          ...,\n",
              "          [0, 0, 0, ..., 0, 0, 0],\n",
              "          [0, 0, 0, ..., 0, 0, 0],\n",
              "          [0, 0, 0, ..., 0, 0, 0]],\n",
              "  \n",
              "         [[0, 0, 0, ..., 0, 0, 0],\n",
              "          [0, 0, 0, ..., 0, 0, 0],\n",
              "          [0, 0, 0, ..., 0, 0, 0],\n",
              "          ...,\n",
              "          [0, 0, 0, ..., 0, 0, 0],\n",
              "          [0, 0, 0, ..., 0, 0, 0],\n",
              "          [0, 0, 0, ..., 0, 0, 0]],\n",
              "  \n",
              "         ...,\n",
              "  \n",
              "         [[0, 0, 0, ..., 0, 0, 0],\n",
              "          [0, 0, 0, ..., 0, 0, 0],\n",
              "          [0, 0, 0, ..., 0, 0, 0],\n",
              "          ...,\n",
              "          [0, 0, 0, ..., 0, 0, 0],\n",
              "          [0, 0, 0, ..., 0, 0, 0],\n",
              "          [0, 0, 0, ..., 0, 0, 0]],\n",
              "  \n",
              "         [[0, 0, 0, ..., 0, 0, 0],\n",
              "          [0, 0, 0, ..., 0, 0, 0],\n",
              "          [0, 0, 0, ..., 0, 0, 0],\n",
              "          ...,\n",
              "          [0, 0, 0, ..., 0, 0, 0],\n",
              "          [0, 0, 0, ..., 0, 0, 0],\n",
              "          [0, 0, 0, ..., 0, 0, 0]],\n",
              "  \n",
              "         [[0, 0, 0, ..., 0, 0, 0],\n",
              "          [0, 0, 0, ..., 0, 0, 0],\n",
              "          [0, 0, 0, ..., 0, 0, 0],\n",
              "          ...,\n",
              "          [0, 0, 0, ..., 0, 0, 0],\n",
              "          [0, 0, 0, ..., 0, 0, 0],\n",
              "          [0, 0, 0, ..., 0, 0, 0]]], dtype=uint8),\n",
              "  array([5, 0, 4, ..., 5, 6, 8], dtype=uint8)),\n",
              " (array([[[0, 0, 0, ..., 0, 0, 0],\n",
              "          [0, 0, 0, ..., 0, 0, 0],\n",
              "          [0, 0, 0, ..., 0, 0, 0],\n",
              "          ...,\n",
              "          [0, 0, 0, ..., 0, 0, 0],\n",
              "          [0, 0, 0, ..., 0, 0, 0],\n",
              "          [0, 0, 0, ..., 0, 0, 0]],\n",
              "  \n",
              "         [[0, 0, 0, ..., 0, 0, 0],\n",
              "          [0, 0, 0, ..., 0, 0, 0],\n",
              "          [0, 0, 0, ..., 0, 0, 0],\n",
              "          ...,\n",
              "          [0, 0, 0, ..., 0, 0, 0],\n",
              "          [0, 0, 0, ..., 0, 0, 0],\n",
              "          [0, 0, 0, ..., 0, 0, 0]],\n",
              "  \n",
              "         [[0, 0, 0, ..., 0, 0, 0],\n",
              "          [0, 0, 0, ..., 0, 0, 0],\n",
              "          [0, 0, 0, ..., 0, 0, 0],\n",
              "          ...,\n",
              "          [0, 0, 0, ..., 0, 0, 0],\n",
              "          [0, 0, 0, ..., 0, 0, 0],\n",
              "          [0, 0, 0, ..., 0, 0, 0]],\n",
              "  \n",
              "         ...,\n",
              "  \n",
              "         [[0, 0, 0, ..., 0, 0, 0],\n",
              "          [0, 0, 0, ..., 0, 0, 0],\n",
              "          [0, 0, 0, ..., 0, 0, 0],\n",
              "          ...,\n",
              "          [0, 0, 0, ..., 0, 0, 0],\n",
              "          [0, 0, 0, ..., 0, 0, 0],\n",
              "          [0, 0, 0, ..., 0, 0, 0]],\n",
              "  \n",
              "         [[0, 0, 0, ..., 0, 0, 0],\n",
              "          [0, 0, 0, ..., 0, 0, 0],\n",
              "          [0, 0, 0, ..., 0, 0, 0],\n",
              "          ...,\n",
              "          [0, 0, 0, ..., 0, 0, 0],\n",
              "          [0, 0, 0, ..., 0, 0, 0],\n",
              "          [0, 0, 0, ..., 0, 0, 0]],\n",
              "  \n",
              "         [[0, 0, 0, ..., 0, 0, 0],\n",
              "          [0, 0, 0, ..., 0, 0, 0],\n",
              "          [0, 0, 0, ..., 0, 0, 0],\n",
              "          ...,\n",
              "          [0, 0, 0, ..., 0, 0, 0],\n",
              "          [0, 0, 0, ..., 0, 0, 0],\n",
              "          [0, 0, 0, ..., 0, 0, 0]]], dtype=uint8),\n",
              "  array([7, 2, 1, ..., 4, 5, 6], dtype=uint8)))"
            ]
          },
          "metadata": {},
          "execution_count": 2
        }
      ]
    },
    {
      "cell_type": "code",
      "source": [
        "(x_Train, y_Train), (x_Test, y_Test) = keras.datasets.mnist.load_data()"
      ],
      "metadata": {
        "id": "uquEYi2UJaCs"
      },
      "execution_count": 3,
      "outputs": []
    },
    {
      "cell_type": "code",
      "source": [
        "print('x_Train.shape:', x_Train.shape)\n",
        "print('y_Train.shape:', y_Train.shape)"
      ],
      "metadata": {
        "colab": {
          "base_uri": "https://localhost:8080/"
        },
        "id": "0W__MexPJxes",
        "outputId": "6422dc0e-3386-41c3-f83d-f09194803e90"
      },
      "execution_count": 4,
      "outputs": [
        {
          "output_type": "stream",
          "name": "stdout",
          "text": [
            "x_Train.shape: (60000, 28, 28)\n",
            "y_Train.shape: (60000,)\n"
          ]
        }
      ]
    },
    {
      "cell_type": "code",
      "source": [
        "# 資料視覺化\n",
        "import matplotlib.pyplot as plt\n",
        "\n",
        "def plot_image(image):\n",
        "  fig = plt.gcf()\n",
        "  fig.set_size_inches(2, 2)\n",
        "  plt.imshow(image, cmap='binary')\n",
        "  plt.show()\n"
      ],
      "metadata": {
        "id": "R6F5D1dfLL_X"
      },
      "execution_count": 5,
      "outputs": []
    },
    {
      "cell_type": "code",
      "source": [
        "plot_image(x_Train[0])"
      ],
      "metadata": {
        "colab": {
          "base_uri": "https://localhost:8080/",
          "height": 217
        },
        "id": "r5yWYDhGL6X6",
        "outputId": "9d3c36a3-8305-432d-8087-e972d92599f4"
      },
      "execution_count": 6,
      "outputs": [
        {
          "output_type": "display_data",
          "data": {
            "text/plain": [
              "<Figure size 200x200 with 1 Axes>"
            ],
            "image/png": "[encoded data removed]"
          },
          "metadata": {}
        }
      ]
    },
    {
      "cell_type": "code",
      "source": [
        "# 增加顏色維度: 彩色RGB維度是3，黑白是1\n",
        "x_Train4D = x_Train.reshape(x_Train.shape[0], 28, 28, 1).astype('float32')\n",
        "x_Test4D = x_Test.reshape(x_Test.shape[0], 28, 28, 1).astype('float32')\n",
        "x_Train4D.shape"
      ],
      "metadata": {
        "colab": {
          "base_uri": "https://localhost:8080/"
        },
        "id": "594QzmHBMBwO",
        "outputId": "11ae8b09-7422-47b5-8448-9eecf6d68017"
      },
      "execution_count": 7,
      "outputs": [
        {
          "output_type": "execute_result",
          "data": {
            "text/plain": [
              "(60000, 28, 28, 1)"
            ]
          },
          "metadata": {},
          "execution_count": 7
        }
      ]
    },
    {
      "cell_type": "code",
      "source": [
        "# 01縮放(數值縮小到0~1之間): 灰階圖片的數值為0~255之間，將數值縮放到0~1之間\n",
        "x_Train4D_normalize = x_Train4D / 255\n",
        "x_Test4D_normalize = x_Test4D / 255\n",
        "\n",
        "# 對類別做one-hot encoding處理: 原本的類別是0~8的數字，轉換之後才可以在model用\n",
        "y_TrainOnehot = to_categorical(y_Train)\n",
        "y_TestOnehot = to_categorical(y_Test)"
      ],
      "metadata": {
        "id": "NhqPg6YjSvUk"
      },
      "execution_count": 8,
      "outputs": []
    },
    {
      "cell_type": "markdown",
      "source": [
        "### CNN模型"
      ],
      "metadata": {
        "id": "5J9pCqpOXHU3"
      }
    },
    {
      "cell_type": "code",
      "source": [
        "from keras.models import Sequential  # 載入model\n",
        "from keras.layers import Dense, Dropout, Flatten, Conv2D, MaxPooling2D  # 各種層\n",
        "\n",
        "model = Sequential()"
      ],
      "metadata": {
        "id": "N8-FaZ3oW9Hg"
      },
      "execution_count": 9,
      "outputs": []
    },
    {
      "cell_type": "code",
      "source": [
        "#\n",
        "model.add(Conv2D(filters=16,  # 16層(feature detector)\n",
        "        kernel_size=(5, 5),  # 矩陣大小\n",
        "        padding='same',  # 超出邊界時補值\n",
        "        input_shape=(28, 28, 1),  # input大小\n",
        "        activation='relu'# 激活函數\n",
        "        ))"
      ],
      "metadata": {
        "id": "a5wBB4MTWqv9"
      },
      "execution_count": 10,
      "outputs": []
    },
    {
      "cell_type": "code",
      "source": [
        "#\n",
        "model.add(MaxPooling2D(pool_size=(2, 2)))"
      ],
      "metadata": {
        "id": "JuVZX71d5WSa"
      },
      "execution_count": 11,
      "outputs": []
    },
    {
      "cell_type": "code",
      "source": [
        "#\n",
        "model.add(Conv2D(filters=16,  # 16層(feature detector)\n",
        "        kernel_size=(5, 5),  # 矩陣大小\n",
        "        padding='same',  # 超出邊界時補值\n",
        "        activation='relu'# 激活函數\n",
        "        ))\n",
        "model.add(MaxPooling2D(pool_size=(2, 2)))"
      ],
      "metadata": {
        "id": "7HgxcGyh5jPY"
      },
      "execution_count": 13,
      "outputs": []
    },
    {
      "cell_type": "code",
      "source": [
        "# 層與層之間做drop避免overfitting\n",
        "model.add(Dropout(0.25))"
      ],
      "metadata": {
        "id": "Vtgz-2fv5tDr"
      },
      "execution_count": 14,
      "outputs": []
    },
    {
      "cell_type": "code",
      "source": [
        "# 平坦化\n",
        "model.add(Flatten())\n",
        "# Neural Network\n",
        "model.add(Dense(128, activation='relu'))\n",
        "model.add(Dropout(0.5))\n",
        "model.add(Dense(10, activation='softmax'))  # 10:總共10個類別, softmax:機率預測函數\n"
      ],
      "metadata": {
        "id": "IABeyavy6Ae1"
      },
      "execution_count": 15,
      "outputs": []
    },
    {
      "cell_type": "code",
      "source": [
        "print(model.summary())"
      ],
      "metadata": {
        "colab": {
          "base_uri": "https://localhost:8080/"
        },
        "id": "0EVxgtp463of",
        "outputId": "cf4ce49a-da43-4c86-f4f4-b5d324e7745c"
      },
      "execution_count": 16,
      "outputs": [
        {
          "output_type": "stream",
          "name": "stdout",
          "text": [
            "Model: \"sequential\"\n",
            "_________________________________________________________________\n",
            " Layer (type)                Output Shape              Param #   \n",
            "=================================================================\n",
            " conv2d (Conv2D)             (None, 28, 28, 16)        416       \n",
            "                                                                 \n",
            " max_pooling2d (MaxPooling2  (None, 14, 14, 16)        0         \n",
            " D)                                                              \n",
            "                                                                 \n",
            " conv2d_1 (Conv2D)           (None, 14, 14, 16)        6416      \n",
            "                                                                 \n",
            " conv2d_2 (Conv2D)           (None, 14, 14, 16)        6416      \n",
            "                                                                 \n",
            " max_pooling2d_1 (MaxPoolin  (None, 7, 7, 16)          0         \n",
            " g2D)                                                            \n",
            "                                                                 \n",
            " dropout (Dropout)           (None, 7, 7, 16)          0         \n",
            "                                                                 \n",
            " flatten (Flatten)           (None, 784)               0         \n",
            "                                                                 \n",
            " dense (Dense)               (None, 128)               100480    \n",
            "                                                                 \n",
            " dropout_1 (Dropout)         (None, 128)               0         \n",
            "                                                                 \n",
            " dense_1 (Dense)             (None, 10)                1290      \n",
            "                                                                 \n",
            "=================================================================\n",
            "Total params: 115018 (449.29 KB)\n",
            "Trainable params: 115018 (449.29 KB)\n",
            "Non-trainable params: 0 (0.00 Byte)\n",
            "_________________________________________________________________\n",
            "None\n"
          ]
        }
      ]
    },
    {
      "cell_type": "markdown",
      "source": [
        "### 訓練模型"
      ],
      "metadata": {
        "id": "M0Hze4OA7FTv"
      }
    },
    {
      "cell_type": "code",
      "source": [
        "model.compile(loss='categorical_crossentropy', optimizer='adam', metrics=['accuracy'])"
      ],
      "metadata": {
        "id": "8AiDSrQ_660H"
      },
      "execution_count": 17,
      "outputs": []
    },
    {
      "cell_type": "code",
      "source": [
        "train_history = model.fit(x=x_Train4D_normalize,\n",
        "              y=y_TrainOnehot,\n",
        "              validation_split=0.2,\n",
        "              epochs=20,\n",
        "              batch_size=300,\n",
        "              verbose=2)"
      ],
      "metadata": {
        "colab": {
          "base_uri": "https://localhost:8080/"
        },
        "id": "fPpc9pQFGiCr",
        "outputId": "4e4e841c-53f1-40ed-8f53-d721ba413d4d"
      },
      "execution_count": 20,
      "outputs": [
        {
          "output_type": "stream",
          "name": "stdout",
          "text": [
            "Epoch 1/20\n",
            "160/160 - 69s - loss: 0.5479 - accuracy: 0.8229 - val_loss: 0.1039 - val_accuracy: 0.9672 - 69s/epoch - 430ms/step\n",
            "Epoch 2/20\n",
            "160/160 - 67s - loss: 0.1429 - accuracy: 0.9561 - val_loss: 0.0707 - val_accuracy: 0.9788 - 67s/epoch - 416ms/step\n",
            "Epoch 3/20\n",
            "160/160 - 65s - loss: 0.1070 - accuracy: 0.9674 - val_loss: 0.0620 - val_accuracy: 0.9813 - 65s/epoch - 405ms/step\n",
            "Epoch 4/20\n",
            "160/160 - 66s - loss: 0.0886 - accuracy: 0.9724 - val_loss: 0.0524 - val_accuracy: 0.9843 - 66s/epoch - 414ms/step\n",
            "Epoch 5/20\n",
            "160/160 - 65s - loss: 0.0759 - accuracy: 0.9770 - val_loss: 0.0466 - val_accuracy: 0.9858 - 65s/epoch - 407ms/step\n",
            "Epoch 6/20\n",
            "160/160 - 67s - loss: 0.0666 - accuracy: 0.9799 - val_loss: 0.0473 - val_accuracy: 0.9861 - 67s/epoch - 422ms/step\n",
            "Epoch 7/20\n",
            "160/160 - 66s - loss: 0.0615 - accuracy: 0.9811 - val_loss: 0.0377 - val_accuracy: 0.9888 - 66s/epoch - 413ms/step\n",
            "Epoch 8/20\n",
            "160/160 - 68s - loss: 0.0554 - accuracy: 0.9829 - val_loss: 0.0401 - val_accuracy: 0.9879 - 68s/epoch - 427ms/step\n",
            "Epoch 9/20\n",
            "160/160 - 68s - loss: 0.0545 - accuracy: 0.9839 - val_loss: 0.0381 - val_accuracy: 0.9893 - 68s/epoch - 423ms/step\n",
            "Epoch 10/20\n",
            "160/160 - 66s - loss: 0.0466 - accuracy: 0.9864 - val_loss: 0.0339 - val_accuracy: 0.9899 - 66s/epoch - 415ms/step\n",
            "Epoch 11/20\n",
            "160/160 - 68s - loss: 0.0418 - accuracy: 0.9872 - val_loss: 0.0351 - val_accuracy: 0.9900 - 68s/epoch - 425ms/step\n",
            "Epoch 12/20\n",
            "160/160 - 65s - loss: 0.0407 - accuracy: 0.9876 - val_loss: 0.0319 - val_accuracy: 0.9901 - 65s/epoch - 407ms/step\n",
            "Epoch 13/20\n",
            "160/160 - 65s - loss: 0.0378 - accuracy: 0.9887 - val_loss: 0.0339 - val_accuracy: 0.9898 - 65s/epoch - 403ms/step\n",
            "Epoch 14/20\n",
            "160/160 - 67s - loss: 0.0361 - accuracy: 0.9887 - val_loss: 0.0293 - val_accuracy: 0.9912 - 67s/epoch - 417ms/step\n",
            "Epoch 15/20\n",
            "160/160 - 65s - loss: 0.0369 - accuracy: 0.9888 - val_loss: 0.0295 - val_accuracy: 0.9913 - 65s/epoch - 403ms/step\n",
            "Epoch 16/20\n",
            "160/160 - 66s - loss: 0.0321 - accuracy: 0.9901 - val_loss: 0.0339 - val_accuracy: 0.9907 - 66s/epoch - 409ms/step\n",
            "Epoch 17/20\n",
            "160/160 - 66s - loss: 0.0309 - accuracy: 0.9903 - val_loss: 0.0293 - val_accuracy: 0.9920 - 66s/epoch - 415ms/step\n",
            "Epoch 18/20\n",
            "160/160 - 66s - loss: 0.0287 - accuracy: 0.9909 - val_loss: 0.0314 - val_accuracy: 0.9913 - 66s/epoch - 410ms/step\n",
            "Epoch 19/20\n",
            "160/160 - 66s - loss: 0.0290 - accuracy: 0.9908 - val_loss: 0.0280 - val_accuracy: 0.9911 - 66s/epoch - 414ms/step\n",
            "Epoch 20/20\n",
            "160/160 - 65s - loss: 0.0291 - accuracy: 0.9908 - val_loss: 0.0317 - val_accuracy: 0.9907 - 65s/epoch - 407ms/step\n"
          ]
        }
      ]
    },
    {
      "cell_type": "markdown",
      "source": [
        "CPU: 使用22m6s完成   \n",
        "達到99%正確度"
      ],
      "metadata": {
        "id": "swgHM8FvO1J4"
      }
    },
    {
      "cell_type": "code",
      "source": [],
      "metadata": {
        "id": "6mb_LDK5HOYO"
      },
      "execution_count": null,
      "outputs": []
    }
  ]
}