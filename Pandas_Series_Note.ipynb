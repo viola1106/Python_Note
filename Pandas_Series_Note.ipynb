{
 "cells": [
  {
   "cell_type": "code",
   "execution_count": 1,
   "id": "ab877864",
   "metadata": {},
   "outputs": [
    {
     "name": "stdout",
     "output_type": "stream",
     "text": [
      "0     Abby\n",
      "1      Bob\n",
      "2    Cathy\n",
      "dtype: object\n"
     ]
    }
   ],
   "source": [
    "\"\"\"pandas_series單維度_筆記\"\"\"\n",
    "\n",
    "import pandas as pd   # pandas縮寫pd\n",
    "\n",
    "# pandas會自己給他一個索引index:0,1,2,3,...\n",
    "name = pd.Series([\"Abby\", \"Bob\", \"Cathy\"])  # 注意S要大寫\n",
    "# 顯示索引、內容、dtype\n",
    "print(name)"
   ]
  },
  {
   "cell_type": "code",
   "execution_count": 2,
   "id": "cba9ab1b",
   "metadata": {},
   "outputs": [
    {
     "name": "stdout",
     "output_type": "stream",
     "text": [
      "pd1     Abby\n",
      "pd2      Bob\n",
      "pd3    Cathy\n",
      "dtype: object\n"
     ]
    }
   ],
   "source": [
    "# 索引可以改名，用index=[]\n",
    "name = pd.Series([\"Abby\", \"Bob\", \"Cathy\"], index = [\"pd1\", \"pd2\", \"pd3\"])\n",
    "print(name)"
   ]
  },
  {
   "cell_type": "code",
   "execution_count": 25,
   "id": "b4ffcf64",
   "metadata": {},
   "outputs": [
    {
     "name": "stdout",
     "output_type": "stream",
     "text": [
      "Index(['pd1', 'pd2', 'pd3'], dtype='object')\n",
      "<class 'pandas.core.series.Series'>\n",
      "<class 'pandas.core.indexes.base.Index'>\n"
     ]
    }
   ],
   "source": [
    "# 要看索引標籤的時候用 .index，也會顯示dtype\n",
    "print(name.index)\n",
    "# 只顯示type，index也可以看type\n",
    "print(type(name))\n",
    "print(type(name.index))"
   ]
  },
  {
   "cell_type": "code",
   "execution_count": 26,
   "id": "bf9a213d",
   "metadata": {},
   "outputs": [
    {
     "name": "stdout",
     "output_type": "stream",
     "text": [
      "Abby\n",
      "pd1\n",
      "Abby\n"
     ]
    }
   ],
   "source": [
    "# 可以用pandas呼叫出內容\n",
    "print(name[0])\n",
    "# 也可以用\"修改後\"的索引名稱呼叫內容\n",
    "# 先顯示索引名稱\n",
    "print(name.index[0])\n",
    "print(name[\"pd1\"])"
   ]
  },
  {
   "cell_type": "code",
   "execution_count": 27,
   "id": "2c540e97",
   "metadata": {},
   "outputs": [
    {
     "name": "stdout",
     "output_type": "stream",
     "text": [
      "pd1     Abby\n",
      "pd2      Bob\n",
      "pd3    Cathy\n",
      "0      David\n",
      "1      Edith\n",
      "dtype: object\n"
     ]
    }
   ],
   "source": [
    "# pandas可以像list一樣用append增加內容\n",
    "name_2 = pd.Series([\"David\", \"Edith\"])\n",
    "name_3 = name.append(name_2)\n",
    "print(name_3)  #注意!!會重新新增內建的索引:0,1,2,3..."
   ]
  },
  {
   "cell_type": "code",
   "execution_count": 28,
   "id": "74295611",
   "metadata": {},
   "outputs": [
    {
     "name": "stdout",
     "output_type": "stream",
     "text": [
      "0     Abby\n",
      "1      Bob\n",
      "2    Cathy\n",
      "3    David\n",
      "4    Edith\n",
      "dtype: object\n"
     ]
    }
   ],
   "source": [
    "# 如果要接續原本內建的索引名稱，用 ignore_index=True\n",
    "name_3 = name.append(name_2, ignore_index=True)\n",
    "print(name_3)\n",
    "# 如果要用已編輯的索引名稱，要重新命名\n",
    "# name_3 = pd.Series(name_3, index = [\"pd1\", \"pd2\", \"pd3\", \"pd4\", \"pd5\"])"
   ]
  },
  {
   "cell_type": "code",
   "execution_count": 29,
   "id": "4c2846f7",
   "metadata": {},
   "outputs": [
    {
     "name": "stdout",
     "output_type": "stream",
     "text": [
      "0     Adam\n",
      "1      Bob\n",
      "2    Cathy\n",
      "3    David\n",
      "4    Edith\n",
      "dtype: object\n"
     ]
    }
   ],
   "source": [
    "# pandas修改內容:重新附值\n",
    "name_3[0] = \"Adam\"\n",
    "print(name_3)"
   ]
  },
  {
   "cell_type": "code",
   "execution_count": 31,
   "id": "3fb284d5",
   "metadata": {},
   "outputs": [
    {
     "name": "stdout",
     "output_type": "stream",
     "text": [
      "5\n",
      "---------------\n",
      "0     ADAM\n",
      "1      BOB\n",
      "2    CATHY\n",
      "3    DAVID\n",
      "4    EDITH\n",
      "dtype: object\n",
      "0     adam\n",
      "1      bob\n",
      "2    cathy\n",
      "3    david\n",
      "4    edith\n",
      "dtype: object\n"
     ]
    }
   ],
   "source": [
    "# pandas大小\n",
    "print(name_3.size)\n",
    "print(\"---------------\")\n",
    "# pandas內容英文大小寫，須注意!要寫 .str\n",
    "print(name_3.str.upper())\n",
    "print(name_3.str.lower())"
   ]
  },
  {
   "cell_type": "code",
   "execution_count": 32,
   "id": "51f9719c",
   "metadata": {},
   "outputs": [
    {
     "name": "stdout",
     "output_type": "stream",
     "text": [
      "0    False\n",
      "1     True\n",
      "2    False\n",
      "3    False\n",
      "4    False\n",
      "dtype: bool\n"
     ]
    }
   ],
   "source": [
    "# 尋找包含\"\"內的文字，回傳布林值，一樣要先寫.str表示是字串\n",
    "print(name_3.str.contains(\"Bo\"))"
   ]
  },
  {
   "cell_type": "code",
   "execution_count": 33,
   "id": "2ad42582",
   "metadata": {},
   "outputs": [
    {
     "name": "stdout",
     "output_type": "stream",
     "text": [
      "Adam;Bob;Cathy;David;Edith\n"
     ]
    }
   ],
   "source": [
    "# 用\";\"串接每一個內容\n",
    "print(name_3.str.cat(sep=\";\"))"
   ]
  },
  {
   "cell_type": "code",
   "execution_count": 34,
   "id": "e35a211d",
   "metadata": {},
   "outputs": [
    {
     "name": "stdout",
     "output_type": "stream",
     "text": [
      "0     Adam\n",
      "1    Brain\n",
      "2    Cathy\n",
      "3    David\n",
      "4    Edith\n",
      "dtype: object\n"
     ]
    }
   ],
   "source": [
    "# 取代內容，以\"Bob\"為例\n",
    "print(name_3.str.replace(\"Bob\", \"Brain\"))"
   ]
  },
  {
   "cell_type": "code",
   "execution_count": null,
   "id": "a3a44d71",
   "metadata": {},
   "outputs": [],
   "source": []
  }
 ],
 "metadata": {
  "kernelspec": {
   "display_name": "Python 3 (ipykernel)",
   "language": "python",
   "name": "python3"
  },
  "language_info": {
   "codemirror_mode": {
    "name": "ipython",
    "version": 3
   },
   "file_extension": ".py",
   "mimetype": "text/x-python",
   "name": "python",
   "nbconvert_exporter": "python",
   "pygments_lexer": "ipython3",
   "version": "3.9.7"
  }
 },
 "nbformat": 4,
 "nbformat_minor": 5
}
